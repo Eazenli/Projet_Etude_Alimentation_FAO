{
 "cells": [
  {
   "cell_type": "markdown",
   "id": "9dad8326",
   "metadata": {},
   "source": [
    "<div style=\"background-color: RGB(0,150,250);\" >\n",
    "<h2 style=\"margin: auto; padding: 20px; color:#fff; \">Etape 1 - Importation des librairies et chargement des fichiers</h2>\n",
    "</div>"
   ]
  },
  {
   "cell_type": "markdown",
   "id": "4ee69457",
   "metadata": {},
   "source": [
    "<div style=\"border: 1px solid RGB(0,150,250);\" >\n",
    "<h3 style=\"margin: auto; padding: 20px; color: RGB(0,150,250); \">1.1 - Importation des librairies</h3>\n",
    "</div>"
   ]
  },
  {
   "cell_type": "code",
   "execution_count": 1,
   "id": "ffe62b56",
   "metadata": {
    "tags": []
   },
   "outputs": [],
   "source": [
    "# Importation de la librairie Pandas\n",
    "import numpy as np\n",
    "import pandas as pd\n",
    "import matplotlib.pyplot as plt\n",
    "import seaborn as sns\n",
    "pd.options.display.float_format = '{:.2f}'.format"
   ]
  },
  {
   "cell_type": "markdown",
   "id": "8bd8e7ed",
   "metadata": {},
   "source": [
    "<div style=\"border: 1px solid RGB(0,150,250);\" >\n",
    "<h3 style=\"margin: auto; padding: 20px; color: RGB(0,150,250); \">1.2 - Chargement des fichiers Excel</h3>\n",
    "</div>"
   ]
  },
  {
   "cell_type": "code",
   "execution_count": 2,
   "id": "b304f108",
   "metadata": {
    "tags": []
   },
   "outputs": [],
   "source": [
    "# Importation du fichier population.csv\n",
    "population_df = pd.read_csv(r'C:\\Users\\lzz31\\Desktop\\a_OCRs\\Projets\\Projet 4\\DAN-P4-FAO\\population.csv')\n",
    "\n",
    "# Importation du fichier dispo_alimentaire.csv\n",
    "dispo_alimentaire_df = pd.read_csv(r'C:\\Users\\lzz31\\Desktop\\a_OCRs\\Projets\\Projet 4\\DAN-P4-FAO\\dispo_alimentaire.csv')\n",
    "\n",
    "# Importation du fichier aide_alimentaire.csv\n",
    "aide_alimentaire_df = pd.read_csv(r'C:\\Users\\lzz31\\Desktop\\a_OCRs\\Projets\\Projet 4\\DAN-P4-FAO\\aide_alimentaire.csv')\n",
    "\n",
    "# Importation du fichier sous_nutrition.csv\n",
    "sous_nutrition_df = pd.read_csv(r'C:\\Users\\lzz31\\Desktop\\a_OCRs\\Projets\\Projet 4\\DAN-P4-FAO\\sous_nutrition.csv')"
   ]
  },
  {
   "cell_type": "markdown",
   "id": "1249847a",
   "metadata": {},
   "source": [
    "<div style=\"background-color: RGB(0,150,250);\" >\n",
    "<h2 style=\"margin: auto; padding: 20px; color:#fff; \">Etape 2 - Analyse exploratoire des fichiers</h2>\n",
    "</div>"
   ]
  },
  {
   "cell_type": "markdown",
   "id": "235e6e91",
   "metadata": {},
   "source": [
    "<div style=\"border: 1px solid RGB(0,150,250);\" >\n",
    "<h3 style=\"margin: auto; padding: 20px; color: RGB(0,150,250); \">2.1 - Analyse exploratoire du fichier population</h3>\n",
    "</div>"
   ]
  },
  {
   "cell_type": "code",
   "execution_count": 3,
   "id": "82c558c7",
   "metadata": {
    "tags": []
   },
   "outputs": [
    {
     "data": {
      "text/plain": [
       "(1416, 3)"
      ]
     },
     "execution_count": 3,
     "metadata": {},
     "output_type": "execute_result"
    }
   ],
   "source": [
    "# Les dimensions du dataframe\n",
    "population_df.shape"
   ]
  },
  {
   "cell_type": "code",
   "execution_count": 4,
   "id": "e6b639d2",
   "metadata": {
    "tags": []
   },
   "outputs": [
    {
     "name": "stdout",
     "output_type": "stream",
     "text": [
      "Le tableau comporte 1416 observation(s) ou article(s)\n",
      "Le tableau comporte 3 colonne(s)\n"
     ]
    }
   ],
   "source": [
    "# Afficher les dimensions du dataset\n",
    "print(\"Le tableau comporte {} observation(s) ou article(s)\".format(population_df.shape[0]))\n",
    "print(\"Le tableau comporte {} colonne(s)\".format(population_df.shape[1]))"
   ]
  },
  {
   "cell_type": "code",
   "execution_count": 5,
   "id": "7cc004ed",
   "metadata": {
    "tags": []
   },
   "outputs": [
    {
     "data": {
      "text/plain": [
       "Zone      0\n",
       "Année     0\n",
       "Valeur    0\n",
       "dtype: int64"
      ]
     },
     "execution_count": 5,
     "metadata": {},
     "output_type": "execute_result"
    }
   ],
   "source": [
    "# Vérification de la valeur null\n",
    "population_df.isnull().sum()"
   ]
  },
  {
   "cell_type": "code",
   "execution_count": 6,
   "id": "fbbdfd5c",
   "metadata": {
    "tags": []
   },
   "outputs": [
    {
     "name": "stdout",
     "output_type": "stream",
     "text": [
      "<class 'pandas.core.frame.DataFrame'>\n",
      "RangeIndex: 1416 entries, 0 to 1415\n",
      "Data columns (total 3 columns):\n",
      " #   Column  Non-Null Count  Dtype  \n",
      "---  ------  --------------  -----  \n",
      " 0   Zone    1416 non-null   object \n",
      " 1   Année   1416 non-null   int64  \n",
      " 2   Valeur  1416 non-null   float64\n",
      "dtypes: float64(1), int64(1), object(1)\n",
      "memory usage: 33.3+ KB\n"
     ]
    }
   ],
   "source": [
    "# Consulter le nombre de colonnes\n",
    "# La nature des données dans chacune des colonnes\n",
    "# Le nombre de valeurs présentes dans chacune des colonnes\n",
    "population_df.info()\n",
    "population_df['Année'] = population_df['Année'].astype(str)"
   ]
  },
  {
   "cell_type": "code",
   "execution_count": 7,
   "id": "3e50d9e6",
   "metadata": {
    "tags": []
   },
   "outputs": [
    {
     "data": {
      "text/html": [
       "<div>\n",
       "<style scoped>\n",
       "    .dataframe tbody tr th:only-of-type {\n",
       "        vertical-align: middle;\n",
       "    }\n",
       "\n",
       "    .dataframe tbody tr th {\n",
       "        vertical-align: top;\n",
       "    }\n",
       "\n",
       "    .dataframe thead th {\n",
       "        text-align: right;\n",
       "    }\n",
       "</style>\n",
       "<table border=\"1\" class=\"dataframe\">\n",
       "  <thead>\n",
       "    <tr style=\"text-align: right;\">\n",
       "      <th></th>\n",
       "      <th>Zone</th>\n",
       "      <th>Année</th>\n",
       "      <th>Valeur</th>\n",
       "    </tr>\n",
       "  </thead>\n",
       "  <tbody>\n",
       "    <tr>\n",
       "      <th>0</th>\n",
       "      <td>Afghanistan</td>\n",
       "      <td>2013</td>\n",
       "      <td>32269.59</td>\n",
       "    </tr>\n",
       "    <tr>\n",
       "      <th>1</th>\n",
       "      <td>Afghanistan</td>\n",
       "      <td>2014</td>\n",
       "      <td>33370.79</td>\n",
       "    </tr>\n",
       "    <tr>\n",
       "      <th>2</th>\n",
       "      <td>Afghanistan</td>\n",
       "      <td>2015</td>\n",
       "      <td>34413.60</td>\n",
       "    </tr>\n",
       "    <tr>\n",
       "      <th>3</th>\n",
       "      <td>Afghanistan</td>\n",
       "      <td>2016</td>\n",
       "      <td>35383.03</td>\n",
       "    </tr>\n",
       "    <tr>\n",
       "      <th>4</th>\n",
       "      <td>Afghanistan</td>\n",
       "      <td>2017</td>\n",
       "      <td>36296.11</td>\n",
       "    </tr>\n",
       "  </tbody>\n",
       "</table>\n",
       "</div>"
      ],
      "text/plain": [
       "          Zone Année   Valeur\n",
       "0  Afghanistan  2013 32269.59\n",
       "1  Afghanistan  2014 33370.79\n",
       "2  Afghanistan  2015 34413.60\n",
       "3  Afghanistan  2016 35383.03\n",
       "4  Afghanistan  2017 36296.11"
      ]
     },
     "execution_count": 7,
     "metadata": {},
     "output_type": "execute_result"
    }
   ],
   "source": [
    "# Affichage les 5 premières lignes de la table\n",
    "population_df.head()"
   ]
  },
  {
   "cell_type": "code",
   "execution_count": 8,
   "id": "ab1a4af4",
   "metadata": {
    "tags": []
   },
   "outputs": [],
   "source": [
    "# Multiplication de la colonne valeur par 1000 car elle représente en milliers d'habitant\n",
    "population_df['Valeur'] = population_df['Valeur']*1000"
   ]
  },
  {
   "cell_type": "code",
   "execution_count": 9,
   "id": "38836b61",
   "metadata": {
    "tags": []
   },
   "outputs": [],
   "source": [
    "# Changement du nom de la colonne Valeur par Population\n",
    "population_df = population_df.rename(columns ={'Valeur':'Population'})"
   ]
  },
  {
   "cell_type": "code",
   "execution_count": 10,
   "id": "ff707561",
   "metadata": {
    "tags": []
   },
   "outputs": [
    {
     "data": {
      "text/html": [
       "<div>\n",
       "<style scoped>\n",
       "    .dataframe tbody tr th:only-of-type {\n",
       "        vertical-align: middle;\n",
       "    }\n",
       "\n",
       "    .dataframe tbody tr th {\n",
       "        vertical-align: top;\n",
       "    }\n",
       "\n",
       "    .dataframe thead th {\n",
       "        text-align: right;\n",
       "    }\n",
       "</style>\n",
       "<table border=\"1\" class=\"dataframe\">\n",
       "  <thead>\n",
       "    <tr style=\"text-align: right;\">\n",
       "      <th></th>\n",
       "      <th>Zone</th>\n",
       "      <th>Année</th>\n",
       "      <th>Population</th>\n",
       "    </tr>\n",
       "  </thead>\n",
       "  <tbody>\n",
       "    <tr>\n",
       "      <th>0</th>\n",
       "      <td>Afghanistan</td>\n",
       "      <td>2013</td>\n",
       "      <td>32269589.00</td>\n",
       "    </tr>\n",
       "    <tr>\n",
       "      <th>1</th>\n",
       "      <td>Afghanistan</td>\n",
       "      <td>2014</td>\n",
       "      <td>33370794.00</td>\n",
       "    </tr>\n",
       "    <tr>\n",
       "      <th>2</th>\n",
       "      <td>Afghanistan</td>\n",
       "      <td>2015</td>\n",
       "      <td>34413603.00</td>\n",
       "    </tr>\n",
       "    <tr>\n",
       "      <th>3</th>\n",
       "      <td>Afghanistan</td>\n",
       "      <td>2016</td>\n",
       "      <td>35383032.00</td>\n",
       "    </tr>\n",
       "    <tr>\n",
       "      <th>4</th>\n",
       "      <td>Afghanistan</td>\n",
       "      <td>2017</td>\n",
       "      <td>36296113.00</td>\n",
       "    </tr>\n",
       "  </tbody>\n",
       "</table>\n",
       "</div>"
      ],
      "text/plain": [
       "          Zone Année  Population\n",
       "0  Afghanistan  2013 32269589.00\n",
       "1  Afghanistan  2014 33370794.00\n",
       "2  Afghanistan  2015 34413603.00\n",
       "3  Afghanistan  2016 35383032.00\n",
       "4  Afghanistan  2017 36296113.00"
      ]
     },
     "execution_count": 10,
     "metadata": {},
     "output_type": "execute_result"
    }
   ],
   "source": [
    "# Affichage les 5 premières lignes de la table pour voir les modifications\n",
    "population_df.head()"
   ]
  },
  {
   "cell_type": "markdown",
   "id": "4224b896",
   "metadata": {},
   "source": [
    "<div style=\"border: 1px solid RGB(0,150,250);\" >\n",
    "<h3 style=\"margin: auto; padding: 20px; color: RGB(0,150,250); \">2.2 - Analyse exploratoire du fichier disponibilité alimentaire</h3>\n",
    "</div>"
   ]
  },
  {
   "cell_type": "code",
   "execution_count": 11,
   "id": "38f5b838",
   "metadata": {
    "tags": []
   },
   "outputs": [
    {
     "data": {
      "text/plain": [
       "(15605, 18)"
      ]
     },
     "execution_count": 11,
     "metadata": {},
     "output_type": "execute_result"
    }
   ],
   "source": [
    "# Afficher les dimensions du dataset\n",
    "dispo_alimentaire_df.shape"
   ]
  },
  {
   "cell_type": "code",
   "execution_count": 12,
   "id": "8d5d6e78",
   "metadata": {},
   "outputs": [
    {
     "name": "stdout",
     "output_type": "stream",
     "text": [
      "<class 'pandas.core.frame.DataFrame'>\n",
      "RangeIndex: 15605 entries, 0 to 15604\n",
      "Data columns (total 18 columns):\n",
      " #   Column                                                         Non-Null Count  Dtype  \n",
      "---  ------                                                         --------------  -----  \n",
      " 0   Zone                                                           15605 non-null  object \n",
      " 1   Produit                                                        15605 non-null  object \n",
      " 2   Origine                                                        15605 non-null  object \n",
      " 3   Aliments pour animaux                                          2720 non-null   float64\n",
      " 4   Autres Utilisations                                            5496 non-null   float64\n",
      " 5   Disponibilité alimentaire (Kcal/personne/jour)                 14241 non-null  float64\n",
      " 6   Disponibilité alimentaire en quantité (kg/personne/an)         14015 non-null  float64\n",
      " 7   Disponibilité de matière grasse en quantité (g/personne/jour)  11794 non-null  float64\n",
      " 8   Disponibilité de protéines en quantité (g/personne/jour)       11561 non-null  float64\n",
      " 9   Disponibilité intérieure                                       15382 non-null  float64\n",
      " 10  Exportations - Quantité                                        12226 non-null  float64\n",
      " 11  Importations - Quantité                                        14852 non-null  float64\n",
      " 12  Nourriture                                                     14015 non-null  float64\n",
      " 13  Pertes                                                         4278 non-null   float64\n",
      " 14  Production                                                     9180 non-null   float64\n",
      " 15  Semences                                                       2091 non-null   float64\n",
      " 16  Traitement                                                     2292 non-null   float64\n",
      " 17  Variation de stock                                             6776 non-null   float64\n",
      "dtypes: float64(15), object(3)\n",
      "memory usage: 2.1+ MB\n"
     ]
    }
   ],
   "source": [
    "# Affichage de l'info sur le dataframe\n",
    "dispo_alimentaire_df.info()"
   ]
  },
  {
   "cell_type": "code",
   "execution_count": 13,
   "id": "0058032d",
   "metadata": {
    "tags": []
   },
   "outputs": [
    {
     "data": {
      "text/html": [
       "<div>\n",
       "<style scoped>\n",
       "    .dataframe tbody tr th:only-of-type {\n",
       "        vertical-align: middle;\n",
       "    }\n",
       "\n",
       "    .dataframe tbody tr th {\n",
       "        vertical-align: top;\n",
       "    }\n",
       "\n",
       "    .dataframe thead th {\n",
       "        text-align: right;\n",
       "    }\n",
       "</style>\n",
       "<table border=\"1\" class=\"dataframe\">\n",
       "  <thead>\n",
       "    <tr style=\"text-align: right;\">\n",
       "      <th></th>\n",
       "      <th>Zone</th>\n",
       "      <th>Produit</th>\n",
       "      <th>Origine</th>\n",
       "      <th>Aliments pour animaux</th>\n",
       "      <th>Autres Utilisations</th>\n",
       "      <th>Disponibilité alimentaire (Kcal/personne/jour)</th>\n",
       "      <th>Disponibilité alimentaire en quantité (kg/personne/an)</th>\n",
       "      <th>Disponibilité de matière grasse en quantité (g/personne/jour)</th>\n",
       "      <th>Disponibilité de protéines en quantité (g/personne/jour)</th>\n",
       "      <th>Disponibilité intérieure</th>\n",
       "      <th>Exportations - Quantité</th>\n",
       "      <th>Importations - Quantité</th>\n",
       "      <th>Nourriture</th>\n",
       "      <th>Pertes</th>\n",
       "      <th>Production</th>\n",
       "      <th>Semences</th>\n",
       "      <th>Traitement</th>\n",
       "      <th>Variation de stock</th>\n",
       "    </tr>\n",
       "  </thead>\n",
       "  <tbody>\n",
       "    <tr>\n",
       "      <th>0</th>\n",
       "      <td>Afghanistan</td>\n",
       "      <td>Abats Comestible</td>\n",
       "      <td>animale</td>\n",
       "      <td>NaN</td>\n",
       "      <td>NaN</td>\n",
       "      <td>5.00</td>\n",
       "      <td>1.72</td>\n",
       "      <td>0.20</td>\n",
       "      <td>0.77</td>\n",
       "      <td>53.00</td>\n",
       "      <td>NaN</td>\n",
       "      <td>NaN</td>\n",
       "      <td>53.00</td>\n",
       "      <td>NaN</td>\n",
       "      <td>53.00</td>\n",
       "      <td>NaN</td>\n",
       "      <td>NaN</td>\n",
       "      <td>NaN</td>\n",
       "    </tr>\n",
       "    <tr>\n",
       "      <th>1</th>\n",
       "      <td>Afghanistan</td>\n",
       "      <td>Agrumes, Autres</td>\n",
       "      <td>vegetale</td>\n",
       "      <td>NaN</td>\n",
       "      <td>NaN</td>\n",
       "      <td>1.00</td>\n",
       "      <td>1.29</td>\n",
       "      <td>0.01</td>\n",
       "      <td>0.02</td>\n",
       "      <td>41.00</td>\n",
       "      <td>2.00</td>\n",
       "      <td>40.00</td>\n",
       "      <td>39.00</td>\n",
       "      <td>2.00</td>\n",
       "      <td>3.00</td>\n",
       "      <td>NaN</td>\n",
       "      <td>NaN</td>\n",
       "      <td>NaN</td>\n",
       "    </tr>\n",
       "    <tr>\n",
       "      <th>2</th>\n",
       "      <td>Afghanistan</td>\n",
       "      <td>Aliments pour enfants</td>\n",
       "      <td>vegetale</td>\n",
       "      <td>NaN</td>\n",
       "      <td>NaN</td>\n",
       "      <td>1.00</td>\n",
       "      <td>0.06</td>\n",
       "      <td>0.01</td>\n",
       "      <td>0.03</td>\n",
       "      <td>2.00</td>\n",
       "      <td>NaN</td>\n",
       "      <td>2.00</td>\n",
       "      <td>2.00</td>\n",
       "      <td>NaN</td>\n",
       "      <td>NaN</td>\n",
       "      <td>NaN</td>\n",
       "      <td>NaN</td>\n",
       "      <td>NaN</td>\n",
       "    </tr>\n",
       "    <tr>\n",
       "      <th>3</th>\n",
       "      <td>Afghanistan</td>\n",
       "      <td>Ananas</td>\n",
       "      <td>vegetale</td>\n",
       "      <td>NaN</td>\n",
       "      <td>NaN</td>\n",
       "      <td>0.00</td>\n",
       "      <td>0.00</td>\n",
       "      <td>NaN</td>\n",
       "      <td>NaN</td>\n",
       "      <td>0.00</td>\n",
       "      <td>NaN</td>\n",
       "      <td>0.00</td>\n",
       "      <td>0.00</td>\n",
       "      <td>NaN</td>\n",
       "      <td>NaN</td>\n",
       "      <td>NaN</td>\n",
       "      <td>NaN</td>\n",
       "      <td>NaN</td>\n",
       "    </tr>\n",
       "    <tr>\n",
       "      <th>4</th>\n",
       "      <td>Afghanistan</td>\n",
       "      <td>Bananes</td>\n",
       "      <td>vegetale</td>\n",
       "      <td>NaN</td>\n",
       "      <td>NaN</td>\n",
       "      <td>4.00</td>\n",
       "      <td>2.70</td>\n",
       "      <td>0.02</td>\n",
       "      <td>0.05</td>\n",
       "      <td>82.00</td>\n",
       "      <td>NaN</td>\n",
       "      <td>82.00</td>\n",
       "      <td>82.00</td>\n",
       "      <td>NaN</td>\n",
       "      <td>NaN</td>\n",
       "      <td>NaN</td>\n",
       "      <td>NaN</td>\n",
       "      <td>NaN</td>\n",
       "    </tr>\n",
       "  </tbody>\n",
       "</table>\n",
       "</div>"
      ],
      "text/plain": [
       "          Zone                Produit   Origine  Aliments pour animaux  \\\n",
       "0  Afghanistan       Abats Comestible   animale                    NaN   \n",
       "1  Afghanistan        Agrumes, Autres  vegetale                    NaN   \n",
       "2  Afghanistan  Aliments pour enfants  vegetale                    NaN   \n",
       "3  Afghanistan                 Ananas  vegetale                    NaN   \n",
       "4  Afghanistan                Bananes  vegetale                    NaN   \n",
       "\n",
       "   Autres Utilisations  Disponibilité alimentaire (Kcal/personne/jour)  \\\n",
       "0                  NaN                                            5.00   \n",
       "1                  NaN                                            1.00   \n",
       "2                  NaN                                            1.00   \n",
       "3                  NaN                                            0.00   \n",
       "4                  NaN                                            4.00   \n",
       "\n",
       "   Disponibilité alimentaire en quantité (kg/personne/an)  \\\n",
       "0                                               1.72        \n",
       "1                                               1.29        \n",
       "2                                               0.06        \n",
       "3                                               0.00        \n",
       "4                                               2.70        \n",
       "\n",
       "   Disponibilité de matière grasse en quantité (g/personne/jour)  \\\n",
       "0                                               0.20               \n",
       "1                                               0.01               \n",
       "2                                               0.01               \n",
       "3                                                NaN               \n",
       "4                                               0.02               \n",
       "\n",
       "   Disponibilité de protéines en quantité (g/personne/jour)  \\\n",
       "0                                               0.77          \n",
       "1                                               0.02          \n",
       "2                                               0.03          \n",
       "3                                                NaN          \n",
       "4                                               0.05          \n",
       "\n",
       "   Disponibilité intérieure  Exportations - Quantité  Importations - Quantité  \\\n",
       "0                     53.00                      NaN                      NaN   \n",
       "1                     41.00                     2.00                    40.00   \n",
       "2                      2.00                      NaN                     2.00   \n",
       "3                      0.00                      NaN                     0.00   \n",
       "4                     82.00                      NaN                    82.00   \n",
       "\n",
       "   Nourriture  Pertes  Production  Semences  Traitement  Variation de stock  \n",
       "0       53.00     NaN       53.00       NaN         NaN                 NaN  \n",
       "1       39.00    2.00        3.00       NaN         NaN                 NaN  \n",
       "2        2.00     NaN         NaN       NaN         NaN                 NaN  \n",
       "3        0.00     NaN         NaN       NaN         NaN                 NaN  \n",
       "4       82.00     NaN         NaN       NaN         NaN                 NaN  "
      ]
     },
     "execution_count": 13,
     "metadata": {},
     "output_type": "execute_result"
    }
   ],
   "source": [
    "#Affichage les 5 premières lignes de la table\n",
    "dispo_alimentaire_df.head()"
   ]
  },
  {
   "cell_type": "code",
   "execution_count": 14,
   "id": "f3832569",
   "metadata": {
    "tags": []
   },
   "outputs": [],
   "source": [
    "# Remplacement des NaN dans le dataset par des 0\n",
    "dispo_alimentaire_df.fillna(0, inplace=True)"
   ]
  },
  {
   "cell_type": "code",
   "execution_count": 15,
   "id": "db4432e3",
   "metadata": {
    "tags": []
   },
   "outputs": [],
   "source": [
    "# Multiplication de toutes les lignes contenant des milliers de tonnes en Kg\n",
    "\n",
    "liste = ['Aliments pour animaux','Autres Utilisations','Disponibilité intérieure','Exportations - Quantité','Importations - Quantité','Nourriture','Pertes','Production','Traitement','Variation de stock']\n",
    "for i in liste :\n",
    "    dispo_alimentaire_df[i] *= 1000000"
   ]
  },
  {
   "cell_type": "code",
   "execution_count": 16,
   "id": "7f1689bf",
   "metadata": {
    "tags": []
   },
   "outputs": [
    {
     "data": {
      "text/html": [
       "<div>\n",
       "<style scoped>\n",
       "    .dataframe tbody tr th:only-of-type {\n",
       "        vertical-align: middle;\n",
       "    }\n",
       "\n",
       "    .dataframe tbody tr th {\n",
       "        vertical-align: top;\n",
       "    }\n",
       "\n",
       "    .dataframe thead th {\n",
       "        text-align: right;\n",
       "    }\n",
       "</style>\n",
       "<table border=\"1\" class=\"dataframe\">\n",
       "  <thead>\n",
       "    <tr style=\"text-align: right;\">\n",
       "      <th></th>\n",
       "      <th>Zone</th>\n",
       "      <th>Produit</th>\n",
       "      <th>Origine</th>\n",
       "      <th>Aliments pour animaux</th>\n",
       "      <th>Autres Utilisations</th>\n",
       "      <th>Disponibilité alimentaire (Kcal/personne/jour)</th>\n",
       "      <th>Disponibilité alimentaire en quantité (kg/personne/an)</th>\n",
       "      <th>Disponibilité de matière grasse en quantité (g/personne/jour)</th>\n",
       "      <th>Disponibilité de protéines en quantité (g/personne/jour)</th>\n",
       "      <th>Disponibilité intérieure</th>\n",
       "      <th>Exportations - Quantité</th>\n",
       "      <th>Importations - Quantité</th>\n",
       "      <th>Nourriture</th>\n",
       "      <th>Pertes</th>\n",
       "      <th>Production</th>\n",
       "      <th>Semences</th>\n",
       "      <th>Traitement</th>\n",
       "      <th>Variation de stock</th>\n",
       "    </tr>\n",
       "  </thead>\n",
       "  <tbody>\n",
       "    <tr>\n",
       "      <th>0</th>\n",
       "      <td>Afghanistan</td>\n",
       "      <td>Abats Comestible</td>\n",
       "      <td>animale</td>\n",
       "      <td>0.00</td>\n",
       "      <td>0.00</td>\n",
       "      <td>5.00</td>\n",
       "      <td>1.72</td>\n",
       "      <td>0.20</td>\n",
       "      <td>0.77</td>\n",
       "      <td>53000000.00</td>\n",
       "      <td>0.00</td>\n",
       "      <td>0.00</td>\n",
       "      <td>53000000.00</td>\n",
       "      <td>0.00</td>\n",
       "      <td>53000000.00</td>\n",
       "      <td>0.00</td>\n",
       "      <td>0.00</td>\n",
       "      <td>0.00</td>\n",
       "    </tr>\n",
       "    <tr>\n",
       "      <th>1</th>\n",
       "      <td>Afghanistan</td>\n",
       "      <td>Agrumes, Autres</td>\n",
       "      <td>vegetale</td>\n",
       "      <td>0.00</td>\n",
       "      <td>0.00</td>\n",
       "      <td>1.00</td>\n",
       "      <td>1.29</td>\n",
       "      <td>0.01</td>\n",
       "      <td>0.02</td>\n",
       "      <td>41000000.00</td>\n",
       "      <td>2000000.00</td>\n",
       "      <td>40000000.00</td>\n",
       "      <td>39000000.00</td>\n",
       "      <td>2000000.00</td>\n",
       "      <td>3000000.00</td>\n",
       "      <td>0.00</td>\n",
       "      <td>0.00</td>\n",
       "      <td>0.00</td>\n",
       "    </tr>\n",
       "    <tr>\n",
       "      <th>2</th>\n",
       "      <td>Afghanistan</td>\n",
       "      <td>Aliments pour enfants</td>\n",
       "      <td>vegetale</td>\n",
       "      <td>0.00</td>\n",
       "      <td>0.00</td>\n",
       "      <td>1.00</td>\n",
       "      <td>0.06</td>\n",
       "      <td>0.01</td>\n",
       "      <td>0.03</td>\n",
       "      <td>2000000.00</td>\n",
       "      <td>0.00</td>\n",
       "      <td>2000000.00</td>\n",
       "      <td>2000000.00</td>\n",
       "      <td>0.00</td>\n",
       "      <td>0.00</td>\n",
       "      <td>0.00</td>\n",
       "      <td>0.00</td>\n",
       "      <td>0.00</td>\n",
       "    </tr>\n",
       "    <tr>\n",
       "      <th>3</th>\n",
       "      <td>Afghanistan</td>\n",
       "      <td>Ananas</td>\n",
       "      <td>vegetale</td>\n",
       "      <td>0.00</td>\n",
       "      <td>0.00</td>\n",
       "      <td>0.00</td>\n",
       "      <td>0.00</td>\n",
       "      <td>0.00</td>\n",
       "      <td>0.00</td>\n",
       "      <td>0.00</td>\n",
       "      <td>0.00</td>\n",
       "      <td>0.00</td>\n",
       "      <td>0.00</td>\n",
       "      <td>0.00</td>\n",
       "      <td>0.00</td>\n",
       "      <td>0.00</td>\n",
       "      <td>0.00</td>\n",
       "      <td>0.00</td>\n",
       "    </tr>\n",
       "    <tr>\n",
       "      <th>4</th>\n",
       "      <td>Afghanistan</td>\n",
       "      <td>Bananes</td>\n",
       "      <td>vegetale</td>\n",
       "      <td>0.00</td>\n",
       "      <td>0.00</td>\n",
       "      <td>4.00</td>\n",
       "      <td>2.70</td>\n",
       "      <td>0.02</td>\n",
       "      <td>0.05</td>\n",
       "      <td>82000000.00</td>\n",
       "      <td>0.00</td>\n",
       "      <td>82000000.00</td>\n",
       "      <td>82000000.00</td>\n",
       "      <td>0.00</td>\n",
       "      <td>0.00</td>\n",
       "      <td>0.00</td>\n",
       "      <td>0.00</td>\n",
       "      <td>0.00</td>\n",
       "    </tr>\n",
       "  </tbody>\n",
       "</table>\n",
       "</div>"
      ],
      "text/plain": [
       "          Zone                Produit   Origine  Aliments pour animaux  \\\n",
       "0  Afghanistan       Abats Comestible   animale                   0.00   \n",
       "1  Afghanistan        Agrumes, Autres  vegetale                   0.00   \n",
       "2  Afghanistan  Aliments pour enfants  vegetale                   0.00   \n",
       "3  Afghanistan                 Ananas  vegetale                   0.00   \n",
       "4  Afghanistan                Bananes  vegetale                   0.00   \n",
       "\n",
       "   Autres Utilisations  Disponibilité alimentaire (Kcal/personne/jour)  \\\n",
       "0                 0.00                                            5.00   \n",
       "1                 0.00                                            1.00   \n",
       "2                 0.00                                            1.00   \n",
       "3                 0.00                                            0.00   \n",
       "4                 0.00                                            4.00   \n",
       "\n",
       "   Disponibilité alimentaire en quantité (kg/personne/an)  \\\n",
       "0                                               1.72        \n",
       "1                                               1.29        \n",
       "2                                               0.06        \n",
       "3                                               0.00        \n",
       "4                                               2.70        \n",
       "\n",
       "   Disponibilité de matière grasse en quantité (g/personne/jour)  \\\n",
       "0                                               0.20               \n",
       "1                                               0.01               \n",
       "2                                               0.01               \n",
       "3                                               0.00               \n",
       "4                                               0.02               \n",
       "\n",
       "   Disponibilité de protéines en quantité (g/personne/jour)  \\\n",
       "0                                               0.77          \n",
       "1                                               0.02          \n",
       "2                                               0.03          \n",
       "3                                               0.00          \n",
       "4                                               0.05          \n",
       "\n",
       "   Disponibilité intérieure  Exportations - Quantité  Importations - Quantité  \\\n",
       "0               53000000.00                     0.00                     0.00   \n",
       "1               41000000.00               2000000.00              40000000.00   \n",
       "2                2000000.00                     0.00               2000000.00   \n",
       "3                      0.00                     0.00                     0.00   \n",
       "4               82000000.00                     0.00              82000000.00   \n",
       "\n",
       "   Nourriture     Pertes  Production  Semences  Traitement  Variation de stock  \n",
       "0 53000000.00       0.00 53000000.00      0.00        0.00                0.00  \n",
       "1 39000000.00 2000000.00  3000000.00      0.00        0.00                0.00  \n",
       "2  2000000.00       0.00        0.00      0.00        0.00                0.00  \n",
       "3        0.00       0.00        0.00      0.00        0.00                0.00  \n",
       "4 82000000.00       0.00        0.00      0.00        0.00                0.00  "
      ]
     },
     "execution_count": 16,
     "metadata": {},
     "output_type": "execute_result"
    }
   ],
   "source": [
    "# Affichage les 5 premières lignes de la table\n",
    "dispo_alimentaire_df.head()"
   ]
  },
  {
   "cell_type": "markdown",
   "id": "a09233e4",
   "metadata": {},
   "source": [
    "<div style=\"border: 1px solid RGB(0,150,250);\" >\n",
    "<h3 style=\"margin: auto; padding: 20px; color: RGB(0,150,250); \">2.3 - Analyse exploratoire du fichier aide alimentaire</h3>\n",
    "</div>"
   ]
  },
  {
   "cell_type": "code",
   "execution_count": 17,
   "id": "702f6322",
   "metadata": {
    "tags": []
   },
   "outputs": [
    {
     "data": {
      "text/plain": [
       "(1475, 4)"
      ]
     },
     "execution_count": 17,
     "metadata": {},
     "output_type": "execute_result"
    }
   ],
   "source": [
    "# Affichage de la dimension du dataset\n",
    "aide_alimentaire_df.shape"
   ]
  },
  {
   "cell_type": "code",
   "execution_count": 18,
   "id": "6ade31ed",
   "metadata": {
    "tags": []
   },
   "outputs": [
    {
     "name": "stdout",
     "output_type": "stream",
     "text": [
      "<class 'pandas.core.frame.DataFrame'>\n",
      "RangeIndex: 1475 entries, 0 to 1474\n",
      "Data columns (total 4 columns):\n",
      " #   Column             Non-Null Count  Dtype \n",
      "---  ------             --------------  ----- \n",
      " 0   Pays bénéficiaire  1475 non-null   object\n",
      " 1   Année              1475 non-null   int64 \n",
      " 2   Produit            1475 non-null   object\n",
      " 3   Valeur             1475 non-null   int64 \n",
      "dtypes: int64(2), object(2)\n",
      "memory usage: 46.2+ KB\n"
     ]
    }
   ],
   "source": [
    "# Type des données\n",
    "aide_alimentaire_df.info()\n",
    "aide_alimentaire_df['Année'] = aide_alimentaire_df['Année'].astype(str)"
   ]
  },
  {
   "cell_type": "code",
   "execution_count": 19,
   "id": "443ec245",
   "metadata": {
    "tags": []
   },
   "outputs": [
    {
     "data": {
      "text/html": [
       "<div>\n",
       "<style scoped>\n",
       "    .dataframe tbody tr th:only-of-type {\n",
       "        vertical-align: middle;\n",
       "    }\n",
       "\n",
       "    .dataframe tbody tr th {\n",
       "        vertical-align: top;\n",
       "    }\n",
       "\n",
       "    .dataframe thead th {\n",
       "        text-align: right;\n",
       "    }\n",
       "</style>\n",
       "<table border=\"1\" class=\"dataframe\">\n",
       "  <thead>\n",
       "    <tr style=\"text-align: right;\">\n",
       "      <th></th>\n",
       "      <th>Pays bénéficiaire</th>\n",
       "      <th>Année</th>\n",
       "      <th>Produit</th>\n",
       "      <th>Valeur</th>\n",
       "    </tr>\n",
       "  </thead>\n",
       "  <tbody>\n",
       "    <tr>\n",
       "      <th>0</th>\n",
       "      <td>Afghanistan</td>\n",
       "      <td>2013</td>\n",
       "      <td>Autres non-céréales</td>\n",
       "      <td>682</td>\n",
       "    </tr>\n",
       "    <tr>\n",
       "      <th>1</th>\n",
       "      <td>Afghanistan</td>\n",
       "      <td>2014</td>\n",
       "      <td>Autres non-céréales</td>\n",
       "      <td>335</td>\n",
       "    </tr>\n",
       "    <tr>\n",
       "      <th>2</th>\n",
       "      <td>Afghanistan</td>\n",
       "      <td>2013</td>\n",
       "      <td>Blé et Farin</td>\n",
       "      <td>39224</td>\n",
       "    </tr>\n",
       "    <tr>\n",
       "      <th>3</th>\n",
       "      <td>Afghanistan</td>\n",
       "      <td>2014</td>\n",
       "      <td>Blé et Farin</td>\n",
       "      <td>15160</td>\n",
       "    </tr>\n",
       "    <tr>\n",
       "      <th>4</th>\n",
       "      <td>Afghanistan</td>\n",
       "      <td>2013</td>\n",
       "      <td>Céréales</td>\n",
       "      <td>40504</td>\n",
       "    </tr>\n",
       "  </tbody>\n",
       "</table>\n",
       "</div>"
      ],
      "text/plain": [
       "  Pays bénéficiaire Année              Produit  Valeur\n",
       "0       Afghanistan  2013  Autres non-céréales     682\n",
       "1       Afghanistan  2014  Autres non-céréales     335\n",
       "2       Afghanistan  2013         Blé et Farin   39224\n",
       "3       Afghanistan  2014         Blé et Farin   15160\n",
       "4       Afghanistan  2013             Céréales   40504"
      ]
     },
     "execution_count": 19,
     "metadata": {},
     "output_type": "execute_result"
    }
   ],
   "source": [
    "# Affichage les 5 premières lignes de la table\n",
    "aide_alimentaire_df.head()"
   ]
  },
  {
   "cell_type": "code",
   "execution_count": 20,
   "id": "af47212b",
   "metadata": {
    "tags": []
   },
   "outputs": [],
   "source": [
    "# Changement du nom de la colonne Pays bénéficiaire par Zone\n",
    "aide_alimentaire_df = aide_alimentaire_df.rename(columns={'Pays bénéficiaire':'Zone'})"
   ]
  },
  {
   "cell_type": "code",
   "execution_count": 21,
   "id": "c32cd1d8",
   "metadata": {
    "tags": []
   },
   "outputs": [],
   "source": [
    "# Multiplication de la colonne Aide_alimentaire qui contient des tonnes par 1000 pour avoir des kg\n",
    "aide_alimentaire_df['Valeur'] *= 1000"
   ]
  },
  {
   "cell_type": "code",
   "execution_count": 22,
   "id": "7c7d5b40",
   "metadata": {
    "tags": []
   },
   "outputs": [],
   "source": [
    "# Modification du nom de la colonne \"Valeur\" en ajoutant l'unité kg\n",
    "aide_alimentaire_df = aide_alimentaire_df.rename(columns={'Valeur':'Valeur(kg)'})"
   ]
  },
  {
   "cell_type": "code",
   "execution_count": 23,
   "id": "d951d8df",
   "metadata": {
    "tags": []
   },
   "outputs": [
    {
     "data": {
      "text/html": [
       "<div>\n",
       "<style scoped>\n",
       "    .dataframe tbody tr th:only-of-type {\n",
       "        vertical-align: middle;\n",
       "    }\n",
       "\n",
       "    .dataframe tbody tr th {\n",
       "        vertical-align: top;\n",
       "    }\n",
       "\n",
       "    .dataframe thead th {\n",
       "        text-align: right;\n",
       "    }\n",
       "</style>\n",
       "<table border=\"1\" class=\"dataframe\">\n",
       "  <thead>\n",
       "    <tr style=\"text-align: right;\">\n",
       "      <th></th>\n",
       "      <th>Zone</th>\n",
       "      <th>Année</th>\n",
       "      <th>Produit</th>\n",
       "      <th>Valeur(kg)</th>\n",
       "    </tr>\n",
       "  </thead>\n",
       "  <tbody>\n",
       "    <tr>\n",
       "      <th>0</th>\n",
       "      <td>Afghanistan</td>\n",
       "      <td>2013</td>\n",
       "      <td>Autres non-céréales</td>\n",
       "      <td>682000</td>\n",
       "    </tr>\n",
       "    <tr>\n",
       "      <th>1</th>\n",
       "      <td>Afghanistan</td>\n",
       "      <td>2014</td>\n",
       "      <td>Autres non-céréales</td>\n",
       "      <td>335000</td>\n",
       "    </tr>\n",
       "    <tr>\n",
       "      <th>2</th>\n",
       "      <td>Afghanistan</td>\n",
       "      <td>2013</td>\n",
       "      <td>Blé et Farin</td>\n",
       "      <td>39224000</td>\n",
       "    </tr>\n",
       "    <tr>\n",
       "      <th>3</th>\n",
       "      <td>Afghanistan</td>\n",
       "      <td>2014</td>\n",
       "      <td>Blé et Farin</td>\n",
       "      <td>15160000</td>\n",
       "    </tr>\n",
       "    <tr>\n",
       "      <th>4</th>\n",
       "      <td>Afghanistan</td>\n",
       "      <td>2013</td>\n",
       "      <td>Céréales</td>\n",
       "      <td>40504000</td>\n",
       "    </tr>\n",
       "  </tbody>\n",
       "</table>\n",
       "</div>"
      ],
      "text/plain": [
       "          Zone Année              Produit  Valeur(kg)\n",
       "0  Afghanistan  2013  Autres non-céréales      682000\n",
       "1  Afghanistan  2014  Autres non-céréales      335000\n",
       "2  Afghanistan  2013         Blé et Farin    39224000\n",
       "3  Afghanistan  2014         Blé et Farin    15160000\n",
       "4  Afghanistan  2013             Céréales    40504000"
      ]
     },
     "execution_count": 23,
     "metadata": {},
     "output_type": "execute_result"
    }
   ],
   "source": [
    "# Affichage les 5 premières lignes de la table\n",
    "aide_alimentaire_df.head()"
   ]
  },
  {
   "cell_type": "markdown",
   "id": "eeae9043",
   "metadata": {},
   "source": [
    "<div style=\"border: 1px solid RGB(0,150,250);\" >\n",
    "<h3 style=\"margin: auto; padding: 20px; color: RGB(0,150,250); \">2.3 - Analyse exploratoire du fichier sous nutrition</h3>\n",
    "</div>"
   ]
  },
  {
   "cell_type": "code",
   "execution_count": 24,
   "id": "882add3d",
   "metadata": {
    "tags": []
   },
   "outputs": [
    {
     "data": {
      "text/plain": [
       "(1218, 3)"
      ]
     },
     "execution_count": 24,
     "metadata": {},
     "output_type": "execute_result"
    }
   ],
   "source": [
    "# Affichage des dimensions du dataset\n",
    "sous_nutrition_df.shape"
   ]
  },
  {
   "cell_type": "code",
   "execution_count": 25,
   "id": "81c1d264",
   "metadata": {
    "tags": []
   },
   "outputs": [
    {
     "name": "stdout",
     "output_type": "stream",
     "text": [
      "<class 'pandas.core.frame.DataFrame'>\n",
      "RangeIndex: 1218 entries, 0 to 1217\n",
      "Data columns (total 3 columns):\n",
      " #   Column  Non-Null Count  Dtype \n",
      "---  ------  --------------  ----- \n",
      " 0   Zone    1218 non-null   object\n",
      " 1   Année   1218 non-null   object\n",
      " 2   Valeur  624 non-null    object\n",
      "dtypes: object(3)\n",
      "memory usage: 28.7+ KB\n"
     ]
    }
   ],
   "source": [
    "# Type des données\n",
    "sous_nutrition_df.info()"
   ]
  },
  {
   "cell_type": "code",
   "execution_count": 26,
   "id": "5c6469e5",
   "metadata": {
    "tags": []
   },
   "outputs": [
    {
     "data": {
      "text/html": [
       "<div>\n",
       "<style scoped>\n",
       "    .dataframe tbody tr th:only-of-type {\n",
       "        vertical-align: middle;\n",
       "    }\n",
       "\n",
       "    .dataframe tbody tr th {\n",
       "        vertical-align: top;\n",
       "    }\n",
       "\n",
       "    .dataframe thead th {\n",
       "        text-align: right;\n",
       "    }\n",
       "</style>\n",
       "<table border=\"1\" class=\"dataframe\">\n",
       "  <thead>\n",
       "    <tr style=\"text-align: right;\">\n",
       "      <th></th>\n",
       "      <th>Zone</th>\n",
       "      <th>Année</th>\n",
       "      <th>Valeur</th>\n",
       "    </tr>\n",
       "  </thead>\n",
       "  <tbody>\n",
       "    <tr>\n",
       "      <th>0</th>\n",
       "      <td>Afghanistan</td>\n",
       "      <td>2012-2014</td>\n",
       "      <td>8.6</td>\n",
       "    </tr>\n",
       "    <tr>\n",
       "      <th>1</th>\n",
       "      <td>Afghanistan</td>\n",
       "      <td>2013-2015</td>\n",
       "      <td>8.8</td>\n",
       "    </tr>\n",
       "    <tr>\n",
       "      <th>2</th>\n",
       "      <td>Afghanistan</td>\n",
       "      <td>2014-2016</td>\n",
       "      <td>8.9</td>\n",
       "    </tr>\n",
       "    <tr>\n",
       "      <th>3</th>\n",
       "      <td>Afghanistan</td>\n",
       "      <td>2015-2017</td>\n",
       "      <td>9.7</td>\n",
       "    </tr>\n",
       "    <tr>\n",
       "      <th>4</th>\n",
       "      <td>Afghanistan</td>\n",
       "      <td>2016-2018</td>\n",
       "      <td>10.5</td>\n",
       "    </tr>\n",
       "  </tbody>\n",
       "</table>\n",
       "</div>"
      ],
      "text/plain": [
       "          Zone      Année Valeur\n",
       "0  Afghanistan  2012-2014    8.6\n",
       "1  Afghanistan  2013-2015    8.8\n",
       "2  Afghanistan  2014-2016    8.9\n",
       "3  Afghanistan  2015-2017    9.7\n",
       "4  Afghanistan  2016-2018   10.5"
      ]
     },
     "execution_count": 26,
     "metadata": {},
     "output_type": "execute_result"
    }
   ],
   "source": [
    "# Affichage des 5 premières lignes de la table\n",
    "sous_nutrition_df.head()"
   ]
  },
  {
   "cell_type": "code",
   "execution_count": 27,
   "id": "d31d2724",
   "metadata": {
    "tags": []
   },
   "outputs": [
    {
     "data": {
      "text/html": [
       "<div>\n",
       "<style scoped>\n",
       "    .dataframe tbody tr th:only-of-type {\n",
       "        vertical-align: middle;\n",
       "    }\n",
       "\n",
       "    .dataframe tbody tr th {\n",
       "        vertical-align: top;\n",
       "    }\n",
       "\n",
       "    .dataframe thead th {\n",
       "        text-align: right;\n",
       "    }\n",
       "</style>\n",
       "<table border=\"1\" class=\"dataframe\">\n",
       "  <thead>\n",
       "    <tr style=\"text-align: right;\">\n",
       "      <th></th>\n",
       "      <th>Zone</th>\n",
       "      <th>Année</th>\n",
       "      <th>Valeur</th>\n",
       "    </tr>\n",
       "  </thead>\n",
       "  <tbody>\n",
       "    <tr>\n",
       "      <th>0</th>\n",
       "      <td>Afghanistan</td>\n",
       "      <td>2012-2014</td>\n",
       "      <td>8.60</td>\n",
       "    </tr>\n",
       "    <tr>\n",
       "      <th>1</th>\n",
       "      <td>Afghanistan</td>\n",
       "      <td>2013-2015</td>\n",
       "      <td>8.80</td>\n",
       "    </tr>\n",
       "    <tr>\n",
       "      <th>2</th>\n",
       "      <td>Afghanistan</td>\n",
       "      <td>2014-2016</td>\n",
       "      <td>8.90</td>\n",
       "    </tr>\n",
       "    <tr>\n",
       "      <th>3</th>\n",
       "      <td>Afghanistan</td>\n",
       "      <td>2015-2017</td>\n",
       "      <td>9.70</td>\n",
       "    </tr>\n",
       "    <tr>\n",
       "      <th>4</th>\n",
       "      <td>Afghanistan</td>\n",
       "      <td>2016-2018</td>\n",
       "      <td>10.50</td>\n",
       "    </tr>\n",
       "    <tr>\n",
       "      <th>...</th>\n",
       "      <td>...</td>\n",
       "      <td>...</td>\n",
       "      <td>...</td>\n",
       "    </tr>\n",
       "    <tr>\n",
       "      <th>1213</th>\n",
       "      <td>Zimbabwe</td>\n",
       "      <td>2013-2015</td>\n",
       "      <td>0.00</td>\n",
       "    </tr>\n",
       "    <tr>\n",
       "      <th>1214</th>\n",
       "      <td>Zimbabwe</td>\n",
       "      <td>2014-2016</td>\n",
       "      <td>0.00</td>\n",
       "    </tr>\n",
       "    <tr>\n",
       "      <th>1215</th>\n",
       "      <td>Zimbabwe</td>\n",
       "      <td>2015-2017</td>\n",
       "      <td>0.00</td>\n",
       "    </tr>\n",
       "    <tr>\n",
       "      <th>1216</th>\n",
       "      <td>Zimbabwe</td>\n",
       "      <td>2016-2018</td>\n",
       "      <td>0.00</td>\n",
       "    </tr>\n",
       "    <tr>\n",
       "      <th>1217</th>\n",
       "      <td>Zimbabwe</td>\n",
       "      <td>2017-2019</td>\n",
       "      <td>0.00</td>\n",
       "    </tr>\n",
       "  </tbody>\n",
       "</table>\n",
       "<p>1218 rows × 3 columns</p>\n",
       "</div>"
      ],
      "text/plain": [
       "             Zone      Année  Valeur\n",
       "0     Afghanistan  2012-2014    8.60\n",
       "1     Afghanistan  2013-2015    8.80\n",
       "2     Afghanistan  2014-2016    8.90\n",
       "3     Afghanistan  2015-2017    9.70\n",
       "4     Afghanistan  2016-2018   10.50\n",
       "...           ...        ...     ...\n",
       "1213     Zimbabwe  2013-2015    0.00\n",
       "1214     Zimbabwe  2014-2016    0.00\n",
       "1215     Zimbabwe  2015-2017    0.00\n",
       "1216     Zimbabwe  2016-2018    0.00\n",
       "1217     Zimbabwe  2017-2019    0.00\n",
       "\n",
       "[1218 rows x 3 columns]"
      ]
     },
     "execution_count": 27,
     "metadata": {},
     "output_type": "execute_result"
    }
   ],
   "source": [
    "# Conversion de la colonne (avec l'argument errors=coerce qui permet de convertir automatiquement les lignes qui ne sont pas des nombres en NaN)\n",
    "# Puis remplacement des NaN en 0\n",
    "sous_nutrition_df['Valeur'] = pd.to_numeric(sous_nutrition_df['Valeur'], errors='coerce')\n",
    "sous_nutrition_df['Valeur'].fillna(0, inplace=True)\n",
    "sous_nutrition_df"
   ]
  },
  {
   "cell_type": "code",
   "execution_count": 28,
   "id": "34c98232",
   "metadata": {
    "tags": []
   },
   "outputs": [],
   "source": [
    "# Changement du nom de la colonne Valeur par sous_nutrition\n",
    "sous_nutrition_df.rename(columns={'Valeur':'Sous_nutrition'}, inplace=True)"
   ]
  },
  {
   "cell_type": "code",
   "execution_count": 29,
   "id": "002110fa",
   "metadata": {
    "tags": []
   },
   "outputs": [],
   "source": [
    "# Multiplication de la colonne sous_nutrition par 1000000\n",
    "sous_nutrition_df['Sous_nutrition'] = sous_nutrition_df['Sous_nutrition']*1000000"
   ]
  },
  {
   "cell_type": "code",
   "execution_count": 30,
   "id": "58259b55",
   "metadata": {
    "tags": []
   },
   "outputs": [
    {
     "data": {
      "text/html": [
       "<div>\n",
       "<style scoped>\n",
       "    .dataframe tbody tr th:only-of-type {\n",
       "        vertical-align: middle;\n",
       "    }\n",
       "\n",
       "    .dataframe tbody tr th {\n",
       "        vertical-align: top;\n",
       "    }\n",
       "\n",
       "    .dataframe thead th {\n",
       "        text-align: right;\n",
       "    }\n",
       "</style>\n",
       "<table border=\"1\" class=\"dataframe\">\n",
       "  <thead>\n",
       "    <tr style=\"text-align: right;\">\n",
       "      <th></th>\n",
       "      <th>Zone</th>\n",
       "      <th>Année</th>\n",
       "      <th>Sous_nutrition</th>\n",
       "    </tr>\n",
       "  </thead>\n",
       "  <tbody>\n",
       "    <tr>\n",
       "      <th>0</th>\n",
       "      <td>Afghanistan</td>\n",
       "      <td>2012-2014</td>\n",
       "      <td>8600000.00</td>\n",
       "    </tr>\n",
       "    <tr>\n",
       "      <th>1</th>\n",
       "      <td>Afghanistan</td>\n",
       "      <td>2013-2015</td>\n",
       "      <td>8800000.00</td>\n",
       "    </tr>\n",
       "    <tr>\n",
       "      <th>2</th>\n",
       "      <td>Afghanistan</td>\n",
       "      <td>2014-2016</td>\n",
       "      <td>8900000.00</td>\n",
       "    </tr>\n",
       "    <tr>\n",
       "      <th>3</th>\n",
       "      <td>Afghanistan</td>\n",
       "      <td>2015-2017</td>\n",
       "      <td>9700000.00</td>\n",
       "    </tr>\n",
       "    <tr>\n",
       "      <th>4</th>\n",
       "      <td>Afghanistan</td>\n",
       "      <td>2016-2018</td>\n",
       "      <td>10500000.00</td>\n",
       "    </tr>\n",
       "  </tbody>\n",
       "</table>\n",
       "</div>"
      ],
      "text/plain": [
       "          Zone      Année  Sous_nutrition\n",
       "0  Afghanistan  2012-2014      8600000.00\n",
       "1  Afghanistan  2013-2015      8800000.00\n",
       "2  Afghanistan  2014-2016      8900000.00\n",
       "3  Afghanistan  2015-2017      9700000.00\n",
       "4  Afghanistan  2016-2018     10500000.00"
      ]
     },
     "execution_count": 30,
     "metadata": {},
     "output_type": "execute_result"
    }
   ],
   "source": [
    "# Affichage des 5 premières lignes de la table\n",
    "sous_nutrition_df.head()"
   ]
  },
  {
   "cell_type": "markdown",
   "id": "df6dcabd",
   "metadata": {},
   "source": [
    "<div style=\"border: 1px solid RGB(0,150,250);\" >\n",
    "<h3 style=\"margin: auto; padding: 20px; color: RGB(0,150,250); \">3.1 - Proportion de personnes en sous nutrition</h3>\n",
    "</div>"
   ]
  },
  {
   "cell_type": "code",
   "execution_count": 31,
   "id": "19de7666-3cad-4a60-b0f5-12ee68a8b18e",
   "metadata": {
    "tags": []
   },
   "outputs": [
    {
     "data": {
      "text/html": [
       "<div>\n",
       "<style scoped>\n",
       "    .dataframe tbody tr th:only-of-type {\n",
       "        vertical-align: middle;\n",
       "    }\n",
       "\n",
       "    .dataframe tbody tr th {\n",
       "        vertical-align: top;\n",
       "    }\n",
       "\n",
       "    .dataframe thead th {\n",
       "        text-align: right;\n",
       "    }\n",
       "</style>\n",
       "<table border=\"1\" class=\"dataframe\">\n",
       "  <thead>\n",
       "    <tr style=\"text-align: right;\">\n",
       "      <th></th>\n",
       "      <th>Zone</th>\n",
       "      <th>Année</th>\n",
       "      <th>Population</th>\n",
       "    </tr>\n",
       "  </thead>\n",
       "  <tbody>\n",
       "    <tr>\n",
       "      <th>4</th>\n",
       "      <td>Afghanistan</td>\n",
       "      <td>2017</td>\n",
       "      <td>36296113.00</td>\n",
       "    </tr>\n",
       "    <tr>\n",
       "      <th>10</th>\n",
       "      <td>Afrique du Sud</td>\n",
       "      <td>2017</td>\n",
       "      <td>57009756.00</td>\n",
       "    </tr>\n",
       "    <tr>\n",
       "      <th>16</th>\n",
       "      <td>Albanie</td>\n",
       "      <td>2017</td>\n",
       "      <td>2884169.00</td>\n",
       "    </tr>\n",
       "    <tr>\n",
       "      <th>22</th>\n",
       "      <td>Algérie</td>\n",
       "      <td>2017</td>\n",
       "      <td>41389189.00</td>\n",
       "    </tr>\n",
       "    <tr>\n",
       "      <th>28</th>\n",
       "      <td>Allemagne</td>\n",
       "      <td>2017</td>\n",
       "      <td>82658409.00</td>\n",
       "    </tr>\n",
       "  </tbody>\n",
       "</table>\n",
       "</div>"
      ],
      "text/plain": [
       "              Zone Année  Population\n",
       "4      Afghanistan  2017 36296113.00\n",
       "10  Afrique du Sud  2017 57009756.00\n",
       "16         Albanie  2017  2884169.00\n",
       "22         Algérie  2017 41389189.00\n",
       "28       Allemagne  2017 82658409.00"
      ]
     },
     "execution_count": 31,
     "metadata": {},
     "output_type": "execute_result"
    }
   ],
   "source": [
    "# Extraction de la table population en ciblant l'année 2017\n",
    "population_2017 = population_df[population_df['Année'] =='2017']\n",
    "population_2017.head()"
   ]
  },
  {
   "cell_type": "code",
   "execution_count": 32,
   "id": "8a108790-d736-415d-bd73-6ebc7bf00ab2",
   "metadata": {
    "tags": []
   },
   "outputs": [],
   "source": [
    "# Création du dataframe qui ne contient que l'année 2017\n",
    "sous_nutrition = sous_nutrition_df[sous_nutrition_df['Année'].str.contains('2017')]\n",
    "sous_nutrition.reset_index(drop=True, inplace=True)"
   ]
  },
  {
   "cell_type": "code",
   "execution_count": 33,
   "id": "d81ff2f9-684d-484e-b723-fdc65d805a5b",
   "metadata": {
    "tags": []
   },
   "outputs": [
    {
     "data": {
      "text/html": [
       "<div>\n",
       "<style scoped>\n",
       "    .dataframe tbody tr th:only-of-type {\n",
       "        vertical-align: middle;\n",
       "    }\n",
       "\n",
       "    .dataframe tbody tr th {\n",
       "        vertical-align: top;\n",
       "    }\n",
       "\n",
       "    .dataframe thead th {\n",
       "        text-align: right;\n",
       "    }\n",
       "</style>\n",
       "<table border=\"1\" class=\"dataframe\">\n",
       "  <thead>\n",
       "    <tr style=\"text-align: right;\">\n",
       "      <th></th>\n",
       "      <th>Sous_nutrition_2017</th>\n",
       "    </tr>\n",
       "  </thead>\n",
       "  <tbody>\n",
       "    <tr>\n",
       "      <th>0</th>\n",
       "      <td>10400000.00</td>\n",
       "    </tr>\n",
       "    <tr>\n",
       "      <th>1</th>\n",
       "      <td>3150000.00</td>\n",
       "    </tr>\n",
       "    <tr>\n",
       "      <th>2</th>\n",
       "      <td>100000.00</td>\n",
       "    </tr>\n",
       "    <tr>\n",
       "      <th>3</th>\n",
       "      <td>1250000.00</td>\n",
       "    </tr>\n",
       "    <tr>\n",
       "      <th>4</th>\n",
       "      <td>0.00</td>\n",
       "    </tr>\n",
       "    <tr>\n",
       "      <th>...</th>\n",
       "      <td>...</td>\n",
       "    </tr>\n",
       "    <tr>\n",
       "      <th>198</th>\n",
       "      <td>7650000.00</td>\n",
       "    </tr>\n",
       "    <tr>\n",
       "      <th>199</th>\n",
       "      <td>6600000.00</td>\n",
       "    </tr>\n",
       "    <tr>\n",
       "      <th>200</th>\n",
       "      <td>0.00</td>\n",
       "    </tr>\n",
       "    <tr>\n",
       "      <th>201</th>\n",
       "      <td>0.00</td>\n",
       "    </tr>\n",
       "    <tr>\n",
       "      <th>202</th>\n",
       "      <td>0.00</td>\n",
       "    </tr>\n",
       "  </tbody>\n",
       "</table>\n",
       "<p>203 rows × 1 columns</p>\n",
       "</div>"
      ],
      "text/plain": [
       "     Sous_nutrition_2017\n",
       "0            10400000.00\n",
       "1             3150000.00\n",
       "2              100000.00\n",
       "3             1250000.00\n",
       "4                   0.00\n",
       "..                   ...\n",
       "198           7650000.00\n",
       "199           6600000.00\n",
       "200                 0.00\n",
       "201                 0.00\n",
       "202                 0.00\n",
       "\n",
       "[203 rows x 1 columns]"
      ]
     },
     "execution_count": 33,
     "metadata": {},
     "output_type": "execute_result"
    }
   ],
   "source": [
    "# Calcule de la population moyenne en état de sous nutrition pour l'année 2017\n",
    "moyenne_2017=[]\n",
    "\n",
    "for i in range(0, len(sous_nutrition), 2):\n",
    "    sous_nutrition_moyenne = sous_nutrition['Sous_nutrition'].iloc[i:i+2].mean()\n",
    "    moyenne_2017.append(sous_nutrition_moyenne)\n",
    "\n",
    "moyenne_2017_df = pd.DataFrame(moyenne_2017, columns = ['Sous_nutrition_2017'])\n",
    "moyenne_2017_df"
   ]
  },
  {
   "cell_type": "code",
   "execution_count": 34,
   "id": "842d4b19-235a-4ffe-9684-f61dd2738a7e",
   "metadata": {
    "tags": []
   },
   "outputs": [
    {
     "data": {
      "text/html": [
       "<div>\n",
       "<style scoped>\n",
       "    .dataframe tbody tr th:only-of-type {\n",
       "        vertical-align: middle;\n",
       "    }\n",
       "\n",
       "    .dataframe tbody tr th {\n",
       "        vertical-align: top;\n",
       "    }\n",
       "\n",
       "    .dataframe thead th {\n",
       "        text-align: right;\n",
       "    }\n",
       "</style>\n",
       "<table border=\"1\" class=\"dataframe\">\n",
       "  <thead>\n",
       "    <tr style=\"text-align: right;\">\n",
       "      <th></th>\n",
       "      <th>Zone</th>\n",
       "      <th>Sous_nutrition_2017</th>\n",
       "    </tr>\n",
       "  </thead>\n",
       "  <tbody>\n",
       "    <tr>\n",
       "      <th>0</th>\n",
       "      <td>Afghanistan</td>\n",
       "      <td>10400000.00</td>\n",
       "    </tr>\n",
       "    <tr>\n",
       "      <th>1</th>\n",
       "      <td>Afrique du Sud</td>\n",
       "      <td>3150000.00</td>\n",
       "    </tr>\n",
       "    <tr>\n",
       "      <th>2</th>\n",
       "      <td>Albanie</td>\n",
       "      <td>100000.00</td>\n",
       "    </tr>\n",
       "    <tr>\n",
       "      <th>3</th>\n",
       "      <td>Algérie</td>\n",
       "      <td>1250000.00</td>\n",
       "    </tr>\n",
       "    <tr>\n",
       "      <th>4</th>\n",
       "      <td>Allemagne</td>\n",
       "      <td>0.00</td>\n",
       "    </tr>\n",
       "    <tr>\n",
       "      <th>...</th>\n",
       "      <td>...</td>\n",
       "      <td>...</td>\n",
       "    </tr>\n",
       "    <tr>\n",
       "      <th>198</th>\n",
       "      <td>Venezuela (République bolivarienne du)</td>\n",
       "      <td>7650000.00</td>\n",
       "    </tr>\n",
       "    <tr>\n",
       "      <th>199</th>\n",
       "      <td>Viet Nam</td>\n",
       "      <td>6600000.00</td>\n",
       "    </tr>\n",
       "    <tr>\n",
       "      <th>200</th>\n",
       "      <td>Yémen</td>\n",
       "      <td>0.00</td>\n",
       "    </tr>\n",
       "    <tr>\n",
       "      <th>201</th>\n",
       "      <td>Zambie</td>\n",
       "      <td>0.00</td>\n",
       "    </tr>\n",
       "    <tr>\n",
       "      <th>202</th>\n",
       "      <td>Zimbabwe</td>\n",
       "      <td>0.00</td>\n",
       "    </tr>\n",
       "  </tbody>\n",
       "</table>\n",
       "<p>203 rows × 2 columns</p>\n",
       "</div>"
      ],
      "text/plain": [
       "                                       Zone  Sous_nutrition_2017\n",
       "0                               Afghanistan          10400000.00\n",
       "1                            Afrique du Sud           3150000.00\n",
       "2                                   Albanie            100000.00\n",
       "3                                   Algérie           1250000.00\n",
       "4                                 Allemagne                 0.00\n",
       "..                                      ...                  ...\n",
       "198  Venezuela (République bolivarienne du)           7650000.00\n",
       "199                                Viet Nam           6600000.00\n",
       "200                                   Yémen                 0.00\n",
       "201                                  Zambie                 0.00\n",
       "202                                Zimbabwe                 0.00\n",
       "\n",
       "[203 rows x 2 columns]"
      ]
     },
     "execution_count": 34,
     "metadata": {},
     "output_type": "execute_result"
    }
   ],
   "source": [
    "# Création du nouveau dataframe en concaténant les deux dataframes \"Zone\" et \"Sous_nutrition_2017\"\n",
    "sous_nutrition_zone = pd.DataFrame(sous_nutrition['Zone'].unique(), columns = ['Zone'])\n",
    "sous_nutrition_2017 = pd.concat([sous_nutrition_zone, moyenne_2017_df], axis=1)\n",
    "sous_nutrition_2017"
   ]
  },
  {
   "cell_type": "code",
   "execution_count": 35,
   "id": "ff885242",
   "metadata": {
    "tags": []
   },
   "outputs": [],
   "source": [
    "# Jointure entre la table de population de 2017 et la table de pupulation sous nutrition de 2017 selon le column \"Zone\"\n",
    "pop_sous_nutrition = pd.merge(population_2017, sous_nutrition_2017, on='Zone')"
   ]
  },
  {
   "cell_type": "code",
   "execution_count": 36,
   "id": "731eea39",
   "metadata": {
    "tags": []
   },
   "outputs": [
    {
     "data": {
      "text/html": [
       "<div>\n",
       "<style scoped>\n",
       "    .dataframe tbody tr th:only-of-type {\n",
       "        vertical-align: middle;\n",
       "    }\n",
       "\n",
       "    .dataframe tbody tr th {\n",
       "        vertical-align: top;\n",
       "    }\n",
       "\n",
       "    .dataframe thead th {\n",
       "        text-align: right;\n",
       "    }\n",
       "</style>\n",
       "<table border=\"1\" class=\"dataframe\">\n",
       "  <thead>\n",
       "    <tr style=\"text-align: right;\">\n",
       "      <th></th>\n",
       "      <th>Zone</th>\n",
       "      <th>Année</th>\n",
       "      <th>Population</th>\n",
       "      <th>Sous_nutrition_2017</th>\n",
       "    </tr>\n",
       "  </thead>\n",
       "  <tbody>\n",
       "    <tr>\n",
       "      <th>0</th>\n",
       "      <td>Afghanistan</td>\n",
       "      <td>2017</td>\n",
       "      <td>36296113.00</td>\n",
       "      <td>10400000.00</td>\n",
       "    </tr>\n",
       "    <tr>\n",
       "      <th>1</th>\n",
       "      <td>Afrique du Sud</td>\n",
       "      <td>2017</td>\n",
       "      <td>57009756.00</td>\n",
       "      <td>3150000.00</td>\n",
       "    </tr>\n",
       "    <tr>\n",
       "      <th>2</th>\n",
       "      <td>Albanie</td>\n",
       "      <td>2017</td>\n",
       "      <td>2884169.00</td>\n",
       "      <td>100000.00</td>\n",
       "    </tr>\n",
       "    <tr>\n",
       "      <th>3</th>\n",
       "      <td>Algérie</td>\n",
       "      <td>2017</td>\n",
       "      <td>41389189.00</td>\n",
       "      <td>1250000.00</td>\n",
       "    </tr>\n",
       "    <tr>\n",
       "      <th>4</th>\n",
       "      <td>Allemagne</td>\n",
       "      <td>2017</td>\n",
       "      <td>82658409.00</td>\n",
       "      <td>0.00</td>\n",
       "    </tr>\n",
       "  </tbody>\n",
       "</table>\n",
       "</div>"
      ],
      "text/plain": [
       "             Zone Année  Population  Sous_nutrition_2017\n",
       "0     Afghanistan  2017 36296113.00          10400000.00\n",
       "1  Afrique du Sud  2017 57009756.00           3150000.00\n",
       "2         Albanie  2017  2884169.00            100000.00\n",
       "3         Algérie  2017 41389189.00           1250000.00\n",
       "4       Allemagne  2017 82658409.00                 0.00"
      ]
     },
     "execution_count": 36,
     "metadata": {},
     "output_type": "execute_result"
    }
   ],
   "source": [
    "# Affichage du dataset\n",
    "pop_sous_nutrition.head()"
   ]
  },
  {
   "cell_type": "code",
   "execution_count": 37,
   "id": "39dcef08-c50c-42b5-bb59-39c9f3748ce8",
   "metadata": {
    "tags": []
   },
   "outputs": [
    {
     "data": {
      "text/plain": [
       "536400000.0"
      ]
     },
     "execution_count": 37,
     "metadata": {},
     "output_type": "execute_result"
    }
   ],
   "source": [
    "# Nombre de personnes en état sous-nutrition\n",
    "pop_sous_nutrition['Sous_nutrition_2017'].sum() "
   ]
  },
  {
   "cell_type": "code",
   "execution_count": 38,
   "id": "2f75e0e0-9d22-4524-b2e1-a807ace902bf",
   "metadata": {
    "tags": []
   },
   "outputs": [
    {
     "name": "stdout",
     "output_type": "stream",
     "text": [
      "7.1%\n"
     ]
    }
   ],
   "source": [
    "# Proportion des personnes en état sous-nutrition\n",
    "propo_pop_sous_nutrition = pop_sous_nutrition['Sous_nutrition_2017'].sum() / pop_sous_nutrition['Population'].sum()\n",
    "print('{:.1%}'.format(propo_pop_sous_nutrition))"
   ]
  },
  {
   "cell_type": "markdown",
   "id": "5c24ab6c",
   "metadata": {},
   "source": [
    "En 2017,il y a 536,400,000 personnes sont en état sous-nutrition, qui fait 7.1% de la population totale."
   ]
  },
  {
   "cell_type": "markdown",
   "id": "b4134a24",
   "metadata": {},
   "source": [
    "<div style=\"border: 1px solid RGB(0,150,250);\" >\n",
    "<h3 style=\"margin: auto; padding: 20px; color: RGB(0,150,250); \">3.2 - Nombre théorique de personne qui pourrait être nourries</h3>\n",
    "</div>"
   ]
  },
  {
   "cell_type": "code",
   "execution_count": 39,
   "id": "5e3f262d",
   "metadata": {
    "tags": []
   },
   "outputs": [],
   "source": [
    "# Jointure entre le data frame population et Dispo_alimentaire afin d'ajouter dans ce dernier la population\n",
    "pop_dispo_alimentaire = pd.merge(population_2017, dispo_alimentaire_df, on='Zone')"
   ]
  },
  {
   "cell_type": "code",
   "execution_count": 40,
   "id": "4538126c",
   "metadata": {
    "tags": []
   },
   "outputs": [
    {
     "data": {
      "text/html": [
       "<div>\n",
       "<style scoped>\n",
       "    .dataframe tbody tr th:only-of-type {\n",
       "        vertical-align: middle;\n",
       "    }\n",
       "\n",
       "    .dataframe tbody tr th {\n",
       "        vertical-align: top;\n",
       "    }\n",
       "\n",
       "    .dataframe thead th {\n",
       "        text-align: right;\n",
       "    }\n",
       "</style>\n",
       "<table border=\"1\" class=\"dataframe\">\n",
       "  <thead>\n",
       "    <tr style=\"text-align: right;\">\n",
       "      <th></th>\n",
       "      <th>Zone</th>\n",
       "      <th>Année</th>\n",
       "      <th>Population</th>\n",
       "      <th>Produit</th>\n",
       "      <th>Origine</th>\n",
       "      <th>Aliments pour animaux</th>\n",
       "      <th>Autres Utilisations</th>\n",
       "      <th>Disponibilité alimentaire (Kcal/personne/jour)</th>\n",
       "      <th>Disponibilité alimentaire en quantité (kg/personne/an)</th>\n",
       "      <th>Disponibilité de matière grasse en quantité (g/personne/jour)</th>\n",
       "      <th>Disponibilité de protéines en quantité (g/personne/jour)</th>\n",
       "      <th>Disponibilité intérieure</th>\n",
       "      <th>Exportations - Quantité</th>\n",
       "      <th>Importations - Quantité</th>\n",
       "      <th>Nourriture</th>\n",
       "      <th>Pertes</th>\n",
       "      <th>Production</th>\n",
       "      <th>Semences</th>\n",
       "      <th>Traitement</th>\n",
       "      <th>Variation de stock</th>\n",
       "    </tr>\n",
       "  </thead>\n",
       "  <tbody>\n",
       "    <tr>\n",
       "      <th>0</th>\n",
       "      <td>Afghanistan</td>\n",
       "      <td>2017</td>\n",
       "      <td>36296113.00</td>\n",
       "      <td>Abats Comestible</td>\n",
       "      <td>animale</td>\n",
       "      <td>0.00</td>\n",
       "      <td>0.00</td>\n",
       "      <td>5.00</td>\n",
       "      <td>1.72</td>\n",
       "      <td>0.20</td>\n",
       "      <td>0.77</td>\n",
       "      <td>53000000.00</td>\n",
       "      <td>0.00</td>\n",
       "      <td>0.00</td>\n",
       "      <td>53000000.00</td>\n",
       "      <td>0.00</td>\n",
       "      <td>53000000.00</td>\n",
       "      <td>0.00</td>\n",
       "      <td>0.00</td>\n",
       "      <td>0.00</td>\n",
       "    </tr>\n",
       "    <tr>\n",
       "      <th>1</th>\n",
       "      <td>Afghanistan</td>\n",
       "      <td>2017</td>\n",
       "      <td>36296113.00</td>\n",
       "      <td>Agrumes, Autres</td>\n",
       "      <td>vegetale</td>\n",
       "      <td>0.00</td>\n",
       "      <td>0.00</td>\n",
       "      <td>1.00</td>\n",
       "      <td>1.29</td>\n",
       "      <td>0.01</td>\n",
       "      <td>0.02</td>\n",
       "      <td>41000000.00</td>\n",
       "      <td>2000000.00</td>\n",
       "      <td>40000000.00</td>\n",
       "      <td>39000000.00</td>\n",
       "      <td>2000000.00</td>\n",
       "      <td>3000000.00</td>\n",
       "      <td>0.00</td>\n",
       "      <td>0.00</td>\n",
       "      <td>0.00</td>\n",
       "    </tr>\n",
       "    <tr>\n",
       "      <th>2</th>\n",
       "      <td>Afghanistan</td>\n",
       "      <td>2017</td>\n",
       "      <td>36296113.00</td>\n",
       "      <td>Aliments pour enfants</td>\n",
       "      <td>vegetale</td>\n",
       "      <td>0.00</td>\n",
       "      <td>0.00</td>\n",
       "      <td>1.00</td>\n",
       "      <td>0.06</td>\n",
       "      <td>0.01</td>\n",
       "      <td>0.03</td>\n",
       "      <td>2000000.00</td>\n",
       "      <td>0.00</td>\n",
       "      <td>2000000.00</td>\n",
       "      <td>2000000.00</td>\n",
       "      <td>0.00</td>\n",
       "      <td>0.00</td>\n",
       "      <td>0.00</td>\n",
       "      <td>0.00</td>\n",
       "      <td>0.00</td>\n",
       "    </tr>\n",
       "    <tr>\n",
       "      <th>3</th>\n",
       "      <td>Afghanistan</td>\n",
       "      <td>2017</td>\n",
       "      <td>36296113.00</td>\n",
       "      <td>Ananas</td>\n",
       "      <td>vegetale</td>\n",
       "      <td>0.00</td>\n",
       "      <td>0.00</td>\n",
       "      <td>0.00</td>\n",
       "      <td>0.00</td>\n",
       "      <td>0.00</td>\n",
       "      <td>0.00</td>\n",
       "      <td>0.00</td>\n",
       "      <td>0.00</td>\n",
       "      <td>0.00</td>\n",
       "      <td>0.00</td>\n",
       "      <td>0.00</td>\n",
       "      <td>0.00</td>\n",
       "      <td>0.00</td>\n",
       "      <td>0.00</td>\n",
       "      <td>0.00</td>\n",
       "    </tr>\n",
       "    <tr>\n",
       "      <th>4</th>\n",
       "      <td>Afghanistan</td>\n",
       "      <td>2017</td>\n",
       "      <td>36296113.00</td>\n",
       "      <td>Bananes</td>\n",
       "      <td>vegetale</td>\n",
       "      <td>0.00</td>\n",
       "      <td>0.00</td>\n",
       "      <td>4.00</td>\n",
       "      <td>2.70</td>\n",
       "      <td>0.02</td>\n",
       "      <td>0.05</td>\n",
       "      <td>82000000.00</td>\n",
       "      <td>0.00</td>\n",
       "      <td>82000000.00</td>\n",
       "      <td>82000000.00</td>\n",
       "      <td>0.00</td>\n",
       "      <td>0.00</td>\n",
       "      <td>0.00</td>\n",
       "      <td>0.00</td>\n",
       "      <td>0.00</td>\n",
       "    </tr>\n",
       "  </tbody>\n",
       "</table>\n",
       "</div>"
      ],
      "text/plain": [
       "          Zone Année  Population                Produit   Origine  \\\n",
       "0  Afghanistan  2017 36296113.00       Abats Comestible   animale   \n",
       "1  Afghanistan  2017 36296113.00        Agrumes, Autres  vegetale   \n",
       "2  Afghanistan  2017 36296113.00  Aliments pour enfants  vegetale   \n",
       "3  Afghanistan  2017 36296113.00                 Ananas  vegetale   \n",
       "4  Afghanistan  2017 36296113.00                Bananes  vegetale   \n",
       "\n",
       "   Aliments pour animaux  Autres Utilisations  \\\n",
       "0                   0.00                 0.00   \n",
       "1                   0.00                 0.00   \n",
       "2                   0.00                 0.00   \n",
       "3                   0.00                 0.00   \n",
       "4                   0.00                 0.00   \n",
       "\n",
       "   Disponibilité alimentaire (Kcal/personne/jour)  \\\n",
       "0                                            5.00   \n",
       "1                                            1.00   \n",
       "2                                            1.00   \n",
       "3                                            0.00   \n",
       "4                                            4.00   \n",
       "\n",
       "   Disponibilité alimentaire en quantité (kg/personne/an)  \\\n",
       "0                                               1.72        \n",
       "1                                               1.29        \n",
       "2                                               0.06        \n",
       "3                                               0.00        \n",
       "4                                               2.70        \n",
       "\n",
       "   Disponibilité de matière grasse en quantité (g/personne/jour)  \\\n",
       "0                                               0.20               \n",
       "1                                               0.01               \n",
       "2                                               0.01               \n",
       "3                                               0.00               \n",
       "4                                               0.02               \n",
       "\n",
       "   Disponibilité de protéines en quantité (g/personne/jour)  \\\n",
       "0                                               0.77          \n",
       "1                                               0.02          \n",
       "2                                               0.03          \n",
       "3                                               0.00          \n",
       "4                                               0.05          \n",
       "\n",
       "   Disponibilité intérieure  Exportations - Quantité  Importations - Quantité  \\\n",
       "0               53000000.00                     0.00                     0.00   \n",
       "1               41000000.00               2000000.00              40000000.00   \n",
       "2                2000000.00                     0.00               2000000.00   \n",
       "3                      0.00                     0.00                     0.00   \n",
       "4               82000000.00                     0.00              82000000.00   \n",
       "\n",
       "   Nourriture     Pertes  Production  Semences  Traitement  Variation de stock  \n",
       "0 53000000.00       0.00 53000000.00      0.00        0.00                0.00  \n",
       "1 39000000.00 2000000.00  3000000.00      0.00        0.00                0.00  \n",
       "2  2000000.00       0.00        0.00      0.00        0.00                0.00  \n",
       "3        0.00       0.00        0.00      0.00        0.00                0.00  \n",
       "4 82000000.00       0.00        0.00      0.00        0.00                0.00  "
      ]
     },
     "execution_count": 40,
     "metadata": {},
     "output_type": "execute_result"
    }
   ],
   "source": [
    "# Affichage du nouveau dataframe\n",
    "pop_dispo_alimentaire = population_2017.merge(dispo_alimentaire_df, on='Zone')\n",
    "pop_dispo_alimentaire.head()"
   ]
  },
  {
   "cell_type": "code",
   "execution_count": 41,
   "id": "5305ba25",
   "metadata": {
    "tags": []
   },
   "outputs": [
    {
     "data": {
      "text/html": [
       "<div>\n",
       "<style scoped>\n",
       "    .dataframe tbody tr th:only-of-type {\n",
       "        vertical-align: middle;\n",
       "    }\n",
       "\n",
       "    .dataframe tbody tr th {\n",
       "        vertical-align: top;\n",
       "    }\n",
       "\n",
       "    .dataframe thead th {\n",
       "        text-align: right;\n",
       "    }\n",
       "</style>\n",
       "<table border=\"1\" class=\"dataframe\">\n",
       "  <thead>\n",
       "    <tr style=\"text-align: right;\">\n",
       "      <th></th>\n",
       "      <th>Zone</th>\n",
       "      <th>Année</th>\n",
       "      <th>Population</th>\n",
       "      <th>Produit</th>\n",
       "      <th>Origine</th>\n",
       "      <th>Aliments pour animaux</th>\n",
       "      <th>Autres Utilisations</th>\n",
       "      <th>Disponibilité alimentaire (Kcal/personne/jour)</th>\n",
       "      <th>Disponibilité alimentaire en quantité (kg/personne/an)</th>\n",
       "      <th>Disponibilité de matière grasse en quantité (g/personne/jour)</th>\n",
       "      <th>...</th>\n",
       "      <th>Disponibilité intérieure</th>\n",
       "      <th>Exportations - Quantité</th>\n",
       "      <th>Importations - Quantité</th>\n",
       "      <th>Nourriture</th>\n",
       "      <th>Pertes</th>\n",
       "      <th>Production</th>\n",
       "      <th>Semences</th>\n",
       "      <th>Traitement</th>\n",
       "      <th>Variation de stock</th>\n",
       "      <th>dispo_kcal</th>\n",
       "    </tr>\n",
       "  </thead>\n",
       "  <tbody>\n",
       "    <tr>\n",
       "      <th>0</th>\n",
       "      <td>Afghanistan</td>\n",
       "      <td>2017</td>\n",
       "      <td>36296113.00</td>\n",
       "      <td>Abats Comestible</td>\n",
       "      <td>animale</td>\n",
       "      <td>0.00</td>\n",
       "      <td>0.00</td>\n",
       "      <td>5.00</td>\n",
       "      <td>1.72</td>\n",
       "      <td>0.20</td>\n",
       "      <td>...</td>\n",
       "      <td>53000000.00</td>\n",
       "      <td>0.00</td>\n",
       "      <td>0.00</td>\n",
       "      <td>53000000.00</td>\n",
       "      <td>0.00</td>\n",
       "      <td>53000000.00</td>\n",
       "      <td>0.00</td>\n",
       "      <td>0.00</td>\n",
       "      <td>0.00</td>\n",
       "      <td>181480565.00</td>\n",
       "    </tr>\n",
       "    <tr>\n",
       "      <th>1</th>\n",
       "      <td>Afghanistan</td>\n",
       "      <td>2017</td>\n",
       "      <td>36296113.00</td>\n",
       "      <td>Agrumes, Autres</td>\n",
       "      <td>vegetale</td>\n",
       "      <td>0.00</td>\n",
       "      <td>0.00</td>\n",
       "      <td>1.00</td>\n",
       "      <td>1.29</td>\n",
       "      <td>0.01</td>\n",
       "      <td>...</td>\n",
       "      <td>41000000.00</td>\n",
       "      <td>2000000.00</td>\n",
       "      <td>40000000.00</td>\n",
       "      <td>39000000.00</td>\n",
       "      <td>2000000.00</td>\n",
       "      <td>3000000.00</td>\n",
       "      <td>0.00</td>\n",
       "      <td>0.00</td>\n",
       "      <td>0.00</td>\n",
       "      <td>36296113.00</td>\n",
       "    </tr>\n",
       "    <tr>\n",
       "      <th>2</th>\n",
       "      <td>Afghanistan</td>\n",
       "      <td>2017</td>\n",
       "      <td>36296113.00</td>\n",
       "      <td>Aliments pour enfants</td>\n",
       "      <td>vegetale</td>\n",
       "      <td>0.00</td>\n",
       "      <td>0.00</td>\n",
       "      <td>1.00</td>\n",
       "      <td>0.06</td>\n",
       "      <td>0.01</td>\n",
       "      <td>...</td>\n",
       "      <td>2000000.00</td>\n",
       "      <td>0.00</td>\n",
       "      <td>2000000.00</td>\n",
       "      <td>2000000.00</td>\n",
       "      <td>0.00</td>\n",
       "      <td>0.00</td>\n",
       "      <td>0.00</td>\n",
       "      <td>0.00</td>\n",
       "      <td>0.00</td>\n",
       "      <td>36296113.00</td>\n",
       "    </tr>\n",
       "    <tr>\n",
       "      <th>3</th>\n",
       "      <td>Afghanistan</td>\n",
       "      <td>2017</td>\n",
       "      <td>36296113.00</td>\n",
       "      <td>Ananas</td>\n",
       "      <td>vegetale</td>\n",
       "      <td>0.00</td>\n",
       "      <td>0.00</td>\n",
       "      <td>0.00</td>\n",
       "      <td>0.00</td>\n",
       "      <td>0.00</td>\n",
       "      <td>...</td>\n",
       "      <td>0.00</td>\n",
       "      <td>0.00</td>\n",
       "      <td>0.00</td>\n",
       "      <td>0.00</td>\n",
       "      <td>0.00</td>\n",
       "      <td>0.00</td>\n",
       "      <td>0.00</td>\n",
       "      <td>0.00</td>\n",
       "      <td>0.00</td>\n",
       "      <td>0.00</td>\n",
       "    </tr>\n",
       "    <tr>\n",
       "      <th>4</th>\n",
       "      <td>Afghanistan</td>\n",
       "      <td>2017</td>\n",
       "      <td>36296113.00</td>\n",
       "      <td>Bananes</td>\n",
       "      <td>vegetale</td>\n",
       "      <td>0.00</td>\n",
       "      <td>0.00</td>\n",
       "      <td>4.00</td>\n",
       "      <td>2.70</td>\n",
       "      <td>0.02</td>\n",
       "      <td>...</td>\n",
       "      <td>82000000.00</td>\n",
       "      <td>0.00</td>\n",
       "      <td>82000000.00</td>\n",
       "      <td>82000000.00</td>\n",
       "      <td>0.00</td>\n",
       "      <td>0.00</td>\n",
       "      <td>0.00</td>\n",
       "      <td>0.00</td>\n",
       "      <td>0.00</td>\n",
       "      <td>145184452.00</td>\n",
       "    </tr>\n",
       "  </tbody>\n",
       "</table>\n",
       "<p>5 rows × 21 columns</p>\n",
       "</div>"
      ],
      "text/plain": [
       "          Zone Année  Population                Produit   Origine  \\\n",
       "0  Afghanistan  2017 36296113.00       Abats Comestible   animale   \n",
       "1  Afghanistan  2017 36296113.00        Agrumes, Autres  vegetale   \n",
       "2  Afghanistan  2017 36296113.00  Aliments pour enfants  vegetale   \n",
       "3  Afghanistan  2017 36296113.00                 Ananas  vegetale   \n",
       "4  Afghanistan  2017 36296113.00                Bananes  vegetale   \n",
       "\n",
       "   Aliments pour animaux  Autres Utilisations  \\\n",
       "0                   0.00                 0.00   \n",
       "1                   0.00                 0.00   \n",
       "2                   0.00                 0.00   \n",
       "3                   0.00                 0.00   \n",
       "4                   0.00                 0.00   \n",
       "\n",
       "   Disponibilité alimentaire (Kcal/personne/jour)  \\\n",
       "0                                            5.00   \n",
       "1                                            1.00   \n",
       "2                                            1.00   \n",
       "3                                            0.00   \n",
       "4                                            4.00   \n",
       "\n",
       "   Disponibilité alimentaire en quantité (kg/personne/an)  \\\n",
       "0                                               1.72        \n",
       "1                                               1.29        \n",
       "2                                               0.06        \n",
       "3                                               0.00        \n",
       "4                                               2.70        \n",
       "\n",
       "   Disponibilité de matière grasse en quantité (g/personne/jour)  ...  \\\n",
       "0                                               0.20              ...   \n",
       "1                                               0.01              ...   \n",
       "2                                               0.01              ...   \n",
       "3                                               0.00              ...   \n",
       "4                                               0.02              ...   \n",
       "\n",
       "   Disponibilité intérieure  Exportations - Quantité  Importations - Quantité  \\\n",
       "0               53000000.00                     0.00                     0.00   \n",
       "1               41000000.00               2000000.00              40000000.00   \n",
       "2                2000000.00                     0.00               2000000.00   \n",
       "3                      0.00                     0.00                     0.00   \n",
       "4               82000000.00                     0.00              82000000.00   \n",
       "\n",
       "   Nourriture     Pertes  Production  Semences  Traitement  \\\n",
       "0 53000000.00       0.00 53000000.00      0.00        0.00   \n",
       "1 39000000.00 2000000.00  3000000.00      0.00        0.00   \n",
       "2  2000000.00       0.00        0.00      0.00        0.00   \n",
       "3        0.00       0.00        0.00      0.00        0.00   \n",
       "4 82000000.00       0.00        0.00      0.00        0.00   \n",
       "\n",
       "   Variation de stock   dispo_kcal  \n",
       "0                0.00 181480565.00  \n",
       "1                0.00  36296113.00  \n",
       "2                0.00  36296113.00  \n",
       "3                0.00         0.00  \n",
       "4                0.00 145184452.00  \n",
       "\n",
       "[5 rows x 21 columns]"
      ]
     },
     "execution_count": 41,
     "metadata": {},
     "output_type": "execute_result"
    }
   ],
   "source": [
    "# Création de la colonne dispo_kcal avec calcul des kcal disponibles mondialement\n",
    "pop_dispo_alimentaire['dispo_kcal'] = pop_dispo_alimentaire['Disponibilité alimentaire (Kcal/personne/jour)']*pop_dispo_alimentaire['Population']\n",
    "pop_dispo_alimentaire.head()"
   ]
  },
  {
   "cell_type": "code",
   "execution_count": 42,
   "id": "4db755c1-d1f6-41c1-84d9-36ad41cd0675",
   "metadata": {
    "tags": []
   },
   "outputs": [
    {
     "data": {
      "text/plain": [
       "20918984627331.0"
      ]
     },
     "execution_count": 42,
     "metadata": {},
     "output_type": "execute_result"
    }
   ],
   "source": [
    "# Calcul de la disponibilité d'énergie totale\n",
    "pop_dispo_alimentaire['dispo_kcal'].sum()"
   ]
  },
  {
   "cell_type": "code",
   "execution_count": 43,
   "id": "a6d4af90",
   "metadata": {
    "tags": []
   },
   "outputs": [
    {
     "data": {
      "text/plain": [
       "9508629376"
      ]
     },
     "execution_count": 43,
     "metadata": {},
     "output_type": "execute_result"
    }
   ],
   "source": [
    "# Calcul du nombre d'humains pouvant être nourris en cosidérant que le besoin d'énergie d'un adulte est 2200 kcal/jour\n",
    "round(pop_dispo_alimentaire['dispo_kcal'].sum() /2200)"
   ]
  },
  {
   "cell_type": "code",
   "execution_count": 44,
   "id": "2bc8422d",
   "metadata": {},
   "outputs": [
    {
     "name": "stdout",
     "output_type": "stream",
     "text": [
      "126.0%\n"
     ]
    }
   ],
   "source": [
    "# Taux de la personnes nourries dans la population totale en 2017\n",
    "taux_pop_nourrie = 9508629376 / population_2017['Population'].sum()\n",
    "print('{:.1%}'.format(taux_pop_nourrie))"
   ]
  },
  {
   "cell_type": "markdown",
   "id": "f8590152",
   "metadata": {},
   "source": [
    "Les produits disponibles peuvent nourrir théoriquement 9,508,629,376 personnes, qui est 1.25 fois de la population totale en 2017."
   ]
  },
  {
   "cell_type": "markdown",
   "id": "e97c8886",
   "metadata": {},
   "source": [
    "<div style=\"border: 1px solid RGB(0,150,250);\" >\n",
    "<h3 style=\"margin: auto; padding: 20px; color: RGB(0,150,250); \">3.3 - Nombre théorique de personne qui pourrait être nourrie avec les produits végétaux</h3>\n",
    "</div>"
   ]
  },
  {
   "cell_type": "code",
   "execution_count": 45,
   "id": "c2e3c87c",
   "metadata": {
    "tags": []
   },
   "outputs": [
    {
     "data": {
      "text/html": [
       "<div>\n",
       "<style scoped>\n",
       "    .dataframe tbody tr th:only-of-type {\n",
       "        vertical-align: middle;\n",
       "    }\n",
       "\n",
       "    .dataframe tbody tr th {\n",
       "        vertical-align: top;\n",
       "    }\n",
       "\n",
       "    .dataframe thead th {\n",
       "        text-align: right;\n",
       "    }\n",
       "</style>\n",
       "<table border=\"1\" class=\"dataframe\">\n",
       "  <thead>\n",
       "    <tr style=\"text-align: right;\">\n",
       "      <th></th>\n",
       "      <th>Zone</th>\n",
       "      <th>Année</th>\n",
       "      <th>Population</th>\n",
       "      <th>Produit</th>\n",
       "      <th>Origine</th>\n",
       "      <th>Aliments pour animaux</th>\n",
       "      <th>Autres Utilisations</th>\n",
       "      <th>Disponibilité alimentaire (Kcal/personne/jour)</th>\n",
       "      <th>Disponibilité alimentaire en quantité (kg/personne/an)</th>\n",
       "      <th>Disponibilité de matière grasse en quantité (g/personne/jour)</th>\n",
       "      <th>...</th>\n",
       "      <th>Disponibilité intérieure</th>\n",
       "      <th>Exportations - Quantité</th>\n",
       "      <th>Importations - Quantité</th>\n",
       "      <th>Nourriture</th>\n",
       "      <th>Pertes</th>\n",
       "      <th>Production</th>\n",
       "      <th>Semences</th>\n",
       "      <th>Traitement</th>\n",
       "      <th>Variation de stock</th>\n",
       "      <th>dispo_kcal</th>\n",
       "    </tr>\n",
       "  </thead>\n",
       "  <tbody>\n",
       "    <tr>\n",
       "      <th>1</th>\n",
       "      <td>Afghanistan</td>\n",
       "      <td>2017</td>\n",
       "      <td>36296113.00</td>\n",
       "      <td>Agrumes, Autres</td>\n",
       "      <td>vegetale</td>\n",
       "      <td>0.00</td>\n",
       "      <td>0.00</td>\n",
       "      <td>1.00</td>\n",
       "      <td>1.29</td>\n",
       "      <td>0.01</td>\n",
       "      <td>...</td>\n",
       "      <td>41000000.00</td>\n",
       "      <td>2000000.00</td>\n",
       "      <td>40000000.00</td>\n",
       "      <td>39000000.00</td>\n",
       "      <td>2000000.00</td>\n",
       "      <td>3000000.00</td>\n",
       "      <td>0.00</td>\n",
       "      <td>0.00</td>\n",
       "      <td>0.00</td>\n",
       "      <td>36296113.00</td>\n",
       "    </tr>\n",
       "    <tr>\n",
       "      <th>2</th>\n",
       "      <td>Afghanistan</td>\n",
       "      <td>2017</td>\n",
       "      <td>36296113.00</td>\n",
       "      <td>Aliments pour enfants</td>\n",
       "      <td>vegetale</td>\n",
       "      <td>0.00</td>\n",
       "      <td>0.00</td>\n",
       "      <td>1.00</td>\n",
       "      <td>0.06</td>\n",
       "      <td>0.01</td>\n",
       "      <td>...</td>\n",
       "      <td>2000000.00</td>\n",
       "      <td>0.00</td>\n",
       "      <td>2000000.00</td>\n",
       "      <td>2000000.00</td>\n",
       "      <td>0.00</td>\n",
       "      <td>0.00</td>\n",
       "      <td>0.00</td>\n",
       "      <td>0.00</td>\n",
       "      <td>0.00</td>\n",
       "      <td>36296113.00</td>\n",
       "    </tr>\n",
       "    <tr>\n",
       "      <th>3</th>\n",
       "      <td>Afghanistan</td>\n",
       "      <td>2017</td>\n",
       "      <td>36296113.00</td>\n",
       "      <td>Ananas</td>\n",
       "      <td>vegetale</td>\n",
       "      <td>0.00</td>\n",
       "      <td>0.00</td>\n",
       "      <td>0.00</td>\n",
       "      <td>0.00</td>\n",
       "      <td>0.00</td>\n",
       "      <td>...</td>\n",
       "      <td>0.00</td>\n",
       "      <td>0.00</td>\n",
       "      <td>0.00</td>\n",
       "      <td>0.00</td>\n",
       "      <td>0.00</td>\n",
       "      <td>0.00</td>\n",
       "      <td>0.00</td>\n",
       "      <td>0.00</td>\n",
       "      <td>0.00</td>\n",
       "      <td>0.00</td>\n",
       "    </tr>\n",
       "    <tr>\n",
       "      <th>4</th>\n",
       "      <td>Afghanistan</td>\n",
       "      <td>2017</td>\n",
       "      <td>36296113.00</td>\n",
       "      <td>Bananes</td>\n",
       "      <td>vegetale</td>\n",
       "      <td>0.00</td>\n",
       "      <td>0.00</td>\n",
       "      <td>4.00</td>\n",
       "      <td>2.70</td>\n",
       "      <td>0.02</td>\n",
       "      <td>...</td>\n",
       "      <td>82000000.00</td>\n",
       "      <td>0.00</td>\n",
       "      <td>82000000.00</td>\n",
       "      <td>82000000.00</td>\n",
       "      <td>0.00</td>\n",
       "      <td>0.00</td>\n",
       "      <td>0.00</td>\n",
       "      <td>0.00</td>\n",
       "      <td>0.00</td>\n",
       "      <td>145184452.00</td>\n",
       "    </tr>\n",
       "    <tr>\n",
       "      <th>6</th>\n",
       "      <td>Afghanistan</td>\n",
       "      <td>2017</td>\n",
       "      <td>36296113.00</td>\n",
       "      <td>Bière</td>\n",
       "      <td>vegetale</td>\n",
       "      <td>0.00</td>\n",
       "      <td>0.00</td>\n",
       "      <td>0.00</td>\n",
       "      <td>0.09</td>\n",
       "      <td>0.00</td>\n",
       "      <td>...</td>\n",
       "      <td>3000000.00</td>\n",
       "      <td>0.00</td>\n",
       "      <td>3000000.00</td>\n",
       "      <td>3000000.00</td>\n",
       "      <td>0.00</td>\n",
       "      <td>0.00</td>\n",
       "      <td>0.00</td>\n",
       "      <td>0.00</td>\n",
       "      <td>0.00</td>\n",
       "      <td>0.00</td>\n",
       "    </tr>\n",
       "  </tbody>\n",
       "</table>\n",
       "<p>5 rows × 21 columns</p>\n",
       "</div>"
      ],
      "text/plain": [
       "          Zone Année  Population                Produit   Origine  \\\n",
       "1  Afghanistan  2017 36296113.00        Agrumes, Autres  vegetale   \n",
       "2  Afghanistan  2017 36296113.00  Aliments pour enfants  vegetale   \n",
       "3  Afghanistan  2017 36296113.00                 Ananas  vegetale   \n",
       "4  Afghanistan  2017 36296113.00                Bananes  vegetale   \n",
       "6  Afghanistan  2017 36296113.00                  Bière  vegetale   \n",
       "\n",
       "   Aliments pour animaux  Autres Utilisations  \\\n",
       "1                   0.00                 0.00   \n",
       "2                   0.00                 0.00   \n",
       "3                   0.00                 0.00   \n",
       "4                   0.00                 0.00   \n",
       "6                   0.00                 0.00   \n",
       "\n",
       "   Disponibilité alimentaire (Kcal/personne/jour)  \\\n",
       "1                                            1.00   \n",
       "2                                            1.00   \n",
       "3                                            0.00   \n",
       "4                                            4.00   \n",
       "6                                            0.00   \n",
       "\n",
       "   Disponibilité alimentaire en quantité (kg/personne/an)  \\\n",
       "1                                               1.29        \n",
       "2                                               0.06        \n",
       "3                                               0.00        \n",
       "4                                               2.70        \n",
       "6                                               0.09        \n",
       "\n",
       "   Disponibilité de matière grasse en quantité (g/personne/jour)  ...  \\\n",
       "1                                               0.01              ...   \n",
       "2                                               0.01              ...   \n",
       "3                                               0.00              ...   \n",
       "4                                               0.02              ...   \n",
       "6                                               0.00              ...   \n",
       "\n",
       "   Disponibilité intérieure  Exportations - Quantité  Importations - Quantité  \\\n",
       "1               41000000.00               2000000.00              40000000.00   \n",
       "2                2000000.00                     0.00               2000000.00   \n",
       "3                      0.00                     0.00                     0.00   \n",
       "4               82000000.00                     0.00              82000000.00   \n",
       "6                3000000.00                     0.00               3000000.00   \n",
       "\n",
       "   Nourriture     Pertes  Production  Semences  Traitement  \\\n",
       "1 39000000.00 2000000.00  3000000.00      0.00        0.00   \n",
       "2  2000000.00       0.00        0.00      0.00        0.00   \n",
       "3        0.00       0.00        0.00      0.00        0.00   \n",
       "4 82000000.00       0.00        0.00      0.00        0.00   \n",
       "6  3000000.00       0.00        0.00      0.00        0.00   \n",
       "\n",
       "   Variation de stock   dispo_kcal  \n",
       "1                0.00  36296113.00  \n",
       "2                0.00  36296113.00  \n",
       "3                0.00         0.00  \n",
       "4                0.00 145184452.00  \n",
       "6                0.00         0.00  \n",
       "\n",
       "[5 rows x 21 columns]"
      ]
     },
     "execution_count": 45,
     "metadata": {},
     "output_type": "execute_result"
    }
   ],
   "source": [
    "# Transfert des données avec les végétaux dans un nouveau dataframe\n",
    "vegetaux = pop_dispo_alimentaire.loc[pop_dispo_alimentaire['Origine']=='vegetale']\n",
    "vegetaux.head()"
   ]
  },
  {
   "cell_type": "code",
   "execution_count": 46,
   "id": "534f3ad7",
   "metadata": {
    "tags": []
   },
   "outputs": [
    {
     "data": {
      "text/plain": [
       "17260764211501.0"
      ]
     },
     "execution_count": 46,
     "metadata": {},
     "output_type": "execute_result"
    }
   ],
   "source": [
    "# Calcul du nombre de kcal disponible dans les produits végétaux\n",
    "vegetaux['dispo_kcal'].sum()"
   ]
  },
  {
   "cell_type": "code",
   "execution_count": 47,
   "id": "8c82da41",
   "metadata": {
    "tags": []
   },
   "outputs": [
    {
     "data": {
      "text/plain": [
       "7845801914"
      ]
     },
     "execution_count": 47,
     "metadata": {},
     "output_type": "execute_result"
    }
   ],
   "source": [
    "# Calcul du nombre d'humains pouvant être nourris avec les produits végétaux\n",
    "round(vegetaux['dispo_kcal'].sum()/2200)"
   ]
  },
  {
   "cell_type": "code",
   "execution_count": 48,
   "id": "57c413a2",
   "metadata": {},
   "outputs": [
    {
     "name": "stdout",
     "output_type": "stream",
     "text": [
      "103.9%\n"
     ]
    }
   ],
   "source": [
    "# Taux de la personnes nourries par les produits végétaux dans la population totale en 2017\n",
    "taux_pop_nourrie_végétaux = 7845801914 / population_2017['Population'].sum()\n",
    "print('{:.1%}'.format(taux_pop_nourrie_végétaux))"
   ]
  },
  {
   "cell_type": "markdown",
   "id": "cf2a0366",
   "metadata": {},
   "source": [
    "Les produits végétaux peuvent nourrir théoriquement 7845801914 personnes, qui est 1.04 fois de la population totale en 2017."
   ]
  },
  {
   "cell_type": "markdown",
   "id": "cd07afb1",
   "metadata": {},
   "source": [
    "<div style=\"border: 1px solid RGB(0,150,250);\" >\n",
    "<h3 style=\"margin: auto; padding: 20px; color: RGB(0,150,250); \">3.4 - Utilisation de la disponibilité intérieure</h3>\n",
    "</div>"
   ]
  },
  {
   "cell_type": "code",
   "execution_count": 49,
   "id": "71328746",
   "metadata": {
    "tags": []
   },
   "outputs": [
    {
     "data": {
      "text/plain": [
       "9733927000000.0"
      ]
     },
     "execution_count": 49,
     "metadata": {},
     "output_type": "execute_result"
    }
   ],
   "source": [
    "# Calcul de la disponibilité intérieure totale\n",
    "disponibilité_int_totale = pop_dispo_alimentaire['Disponibilité intérieure'].sum()\n",
    "disponibilité_int_totale"
   ]
  },
  {
   "cell_type": "code",
   "execution_count": 50,
   "id": "b3adbe0a-9845-46fa-a214-1f6b543f64a3",
   "metadata": {
    "tags": []
   },
   "outputs": [],
   "source": [
    "# Création d'une boucle for pour afficher les différentes valeurs en fonction des colonnes aliments pour animaux, pertes, nourritures, etc.\n",
    "utilisation_categ = ['Aliments pour animaux', 'Nourriture', 'Pertes', 'Semences', 'Traitement', 'Autres Utilisations']\n",
    "\n",
    "utilisation_dispo = []\n",
    "for i in utilisation_categ:\n",
    "    somme_utilisation = pop_dispo_alimentaire[i].sum()\n",
    "    utilisation_dispo.append(somme_utilisation)"
   ]
  },
  {
   "cell_type": "code",
   "execution_count": 51,
   "id": "305d684f-0e7d-4436-96e9-6a4df7107f1a",
   "metadata": {
    "tags": []
   },
   "outputs": [
    {
     "data": {
      "text/html": [
       "<div>\n",
       "<style scoped>\n",
       "    .dataframe tbody tr th:only-of-type {\n",
       "        vertical-align: middle;\n",
       "    }\n",
       "\n",
       "    .dataframe tbody tr th {\n",
       "        vertical-align: top;\n",
       "    }\n",
       "\n",
       "    .dataframe thead th {\n",
       "        text-align: right;\n",
       "    }\n",
       "</style>\n",
       "<table border=\"1\" class=\"dataframe\">\n",
       "  <thead>\n",
       "    <tr style=\"text-align: right;\">\n",
       "      <th></th>\n",
       "      <th>Disponibilité_intérieure</th>\n",
       "    </tr>\n",
       "  </thead>\n",
       "  <tbody>\n",
       "    <tr>\n",
       "      <th>Aliments pour animaux</th>\n",
       "      <td>1288002000000.00</td>\n",
       "    </tr>\n",
       "    <tr>\n",
       "      <th>Nourriture</th>\n",
       "      <td>4805525000000.00</td>\n",
       "    </tr>\n",
       "    <tr>\n",
       "      <th>Pertes</th>\n",
       "      <td>452283000000.00</td>\n",
       "    </tr>\n",
       "    <tr>\n",
       "      <th>Semences</th>\n",
       "      <td>153317.00</td>\n",
       "    </tr>\n",
       "    <tr>\n",
       "      <th>Traitement</th>\n",
       "      <td>2185641000000.00</td>\n",
       "    </tr>\n",
       "    <tr>\n",
       "      <th>Autres Utilisations</th>\n",
       "      <td>858771000000.00</td>\n",
       "    </tr>\n",
       "  </tbody>\n",
       "</table>\n",
       "</div>"
      ],
      "text/plain": [
       "                       Disponibilité_intérieure\n",
       "Aliments pour animaux          1288002000000.00\n",
       "Nourriture                     4805525000000.00\n",
       "Pertes                          452283000000.00\n",
       "Semences                              153317.00\n",
       "Traitement                     2185641000000.00\n",
       "Autres Utilisations             858771000000.00"
      ]
     },
     "execution_count": 51,
     "metadata": {},
     "output_type": "execute_result"
    }
   ],
   "source": [
    "# Zipper les deux listes en les transformant en dictionnaire, et puis en dataframe\n",
    "repartition_dispo_int = pd.DataFrame.from_dict(dict(zip(utilisation_categ, utilisation_dispo)), orient='index', columns=['Disponibilité_intérieure'])\n",
    "repartition_dispo_int"
   ]
  },
  {
   "cell_type": "code",
   "execution_count": 52,
   "id": "41e8b99e-ba83-4921-8df9-fae8d358e020",
   "metadata": {
    "tags": []
   },
   "outputs": [
    {
     "data": {
      "text/html": [
       "<div>\n",
       "<style scoped>\n",
       "    .dataframe tbody tr th:only-of-type {\n",
       "        vertical-align: middle;\n",
       "    }\n",
       "\n",
       "    .dataframe tbody tr th {\n",
       "        vertical-align: top;\n",
       "    }\n",
       "\n",
       "    .dataframe thead th {\n",
       "        text-align: right;\n",
       "    }\n",
       "</style>\n",
       "<table border=\"1\" class=\"dataframe\">\n",
       "  <thead>\n",
       "    <tr style=\"text-align: right;\">\n",
       "      <th></th>\n",
       "      <th>Utilisation</th>\n",
       "      <th>Disponibilité_intérieure</th>\n",
       "    </tr>\n",
       "  </thead>\n",
       "  <tbody>\n",
       "    <tr>\n",
       "      <th>0</th>\n",
       "      <td>Aliments pour animaux</td>\n",
       "      <td>1288002000000.00</td>\n",
       "    </tr>\n",
       "    <tr>\n",
       "      <th>1</th>\n",
       "      <td>Nourriture</td>\n",
       "      <td>4805525000000.00</td>\n",
       "    </tr>\n",
       "    <tr>\n",
       "      <th>2</th>\n",
       "      <td>Pertes</td>\n",
       "      <td>452283000000.00</td>\n",
       "    </tr>\n",
       "    <tr>\n",
       "      <th>3</th>\n",
       "      <td>Semences</td>\n",
       "      <td>153317.00</td>\n",
       "    </tr>\n",
       "    <tr>\n",
       "      <th>4</th>\n",
       "      <td>Traitement</td>\n",
       "      <td>2185641000000.00</td>\n",
       "    </tr>\n",
       "    <tr>\n",
       "      <th>5</th>\n",
       "      <td>Autres Utilisations</td>\n",
       "      <td>858771000000.00</td>\n",
       "    </tr>\n",
       "  </tbody>\n",
       "</table>\n",
       "</div>"
      ],
      "text/plain": [
       "             Utilisation  Disponibilité_intérieure\n",
       "0  Aliments pour animaux          1288002000000.00\n",
       "1             Nourriture          4805525000000.00\n",
       "2                 Pertes           452283000000.00\n",
       "3               Semences                 153317.00\n",
       "4             Traitement          2185641000000.00\n",
       "5    Autres Utilisations           858771000000.00"
      ]
     },
     "execution_count": 52,
     "metadata": {},
     "output_type": "execute_result"
    }
   ],
   "source": [
    "repartition_dispo_int.reset_index(inplace = True)\n",
    "repartition_dispo_int.rename(columns= {'index':'Utilisation'}, inplace=True)\n",
    "repartition_dispo_int"
   ]
  },
  {
   "cell_type": "code",
   "execution_count": 53,
   "id": "0cc19c78-ba3d-47a9-8531-dc3a21b457eb",
   "metadata": {
    "tags": []
   },
   "outputs": [],
   "source": [
    "# Suppression de la catégorie \"Semences\" car sa quantité est peu par rapport aux autres catégories\n",
    "repartition_dispo_int.drop([3], inplace=True)"
   ]
  },
  {
   "cell_type": "code",
   "execution_count": 54,
   "id": "458f2432-14f4-44b7-9dc1-646f0523c0f1",
   "metadata": {
    "tags": []
   },
   "outputs": [
    {
     "data": {
      "text/plain": [
       "Text(0.5, 1.0, 'Répartition de la disponibilité intérieure')"
      ]
     },
     "execution_count": 54,
     "metadata": {},
     "output_type": "execute_result"
    },
    {
     "data": {
      "image/png": "[encoded data removed]",
      "text/plain": [
       "<Figure size 1000x600 with 1 Axes>"
      ]
     },
     "metadata": {},
     "output_type": "display_data"
    }
   ],
   "source": [
    "# Création du diagramme camembert pour montrer la repartition de types d'utilisations\n",
    "plt.figure(figsize=(10,6))\n",
    "plt.rcParams.update({'font.size':10})\n",
    "plt.pie( data = repartition_dispo_int, \n",
    "        x = 'Disponibilité_intérieure', \n",
    "        startangle=90, \n",
    "        colors = sns.color_palette('Set3'),\n",
    "        autopct = '%.2f%%')\n",
    "plt.legend(labels=repartition_dispo_int['Utilisation'], bbox_to_anchor=(1.4,0.5), loc='right', title='Types d\\'utilisations')\n",
    "plt.title('Répartition de la disponibilité intérieure', pad=15, loc='center')"
   ]
  },
  {
   "cell_type": "markdown",
   "id": "0476218e",
   "metadata": {},
   "source": [
    "La moitié de la disponibilité intérieure est utilisée pour l'alimentation humaine. Ensuite pour le traitement."
   ]
  },
  {
   "cell_type": "markdown",
   "id": "141d05df",
   "metadata": {},
   "source": [
    "<div style=\"border: 1px solid RGB(0,150,250);\" >\n",
    "<h3 style=\"margin: auto; padding: 20px; color: RGB(0,150,250); \">3.5 - Utilisation des céréales</h3>\n",
    "</div>"
   ]
  },
  {
   "cell_type": "code",
   "execution_count": 55,
   "id": "c27448ff",
   "metadata": {
    "tags": []
   },
   "outputs": [],
   "source": [
    "# Création d'une liste avec toutes les variables\n",
    "cereales_FAO = ['Blé', 'Riz (Eq Blanchi)','Orge','Maïs','Seigle','Avoine','Millet','Sorgho','Céréales, Autres']"
   ]
  },
  {
   "cell_type": "code",
   "execution_count": 56,
   "id": "3890948e",
   "metadata": {
    "tags": []
   },
   "outputs": [
    {
     "data": {
      "text/plain": [
       "array(['Agrumes, Autres', 'Aliments pour enfants', 'Ananas', 'Bananes',\n",
       "       'Bière', 'Blé', 'Boissons Alcooliques', 'Café',\n",
       "       'Coco (Incl Coprah)', 'Céréales, Autres', 'Dattes',\n",
       "       'Edulcorants Autres', 'Feve de Cacao', 'Fruits, Autres',\n",
       "       'Graines de coton', 'Graines de tournesol',\n",
       "       'Huil Plantes Oleif Autr', 'Huile Graines de Coton',\n",
       "       \"Huile d'Arachide\", \"Huile d'Olive\", 'Huile de Colza&Moutarde',\n",
       "       'Huile de Palme', 'Huile de Soja', 'Huile de Sésame',\n",
       "       'Huile de Tournesol', 'Légumes, Autres', 'Légumineuses Autres',\n",
       "       'Maïs', 'Miel', 'Millet', 'Miscellanees', 'Noix', 'Olives',\n",
       "       'Oranges, Mandarines', 'Orge', 'Plantes Oleiferes, Autre',\n",
       "       'Poivre', 'Pommes', 'Pommes de Terre', 'Raisin',\n",
       "       'Riz (Eq Blanchi)', 'Sucre Eq Brut', 'Sucre, betterave',\n",
       "       'Sucre, canne', 'Sésame', 'Thé', 'Tomates', 'Vin',\n",
       "       'Épices, Autres', 'Alcool, non Comestible',\n",
       "       'Arachides Decortiquees', 'Avoine', 'Bananes plantains',\n",
       "       'Boissons Fermentés', 'Citrons & Limes', 'Girofles',\n",
       "       'Graines Colza/Moutarde', 'Haricots', 'Huile de Coco',\n",
       "       'Huile de Germe de Maïs', 'Huile de Palmistes', 'Ignames',\n",
       "       'Manioc', 'Oignons', 'Palmistes', 'Pamplemousse', 'Patates douces',\n",
       "       'Piments', 'Pois', 'Racines nda', 'Seigle', 'Soja', 'Sorgho',\n",
       "       'Huile de Son de Riz', 'Sucre non centrifugé'], dtype=object)"
      ]
     },
     "execution_count": 56,
     "metadata": {},
     "output_type": "execute_result"
    }
   ],
   "source": [
    "# Vérification des types du \"Produit\" existant dans le dataframe 'vegetaux'\n",
    "vegetaux['Produit'].unique()"
   ]
  },
  {
   "cell_type": "code",
   "execution_count": 57,
   "id": "5dc5586d",
   "metadata": {
    "tags": []
   },
   "outputs": [
    {
     "data": {
      "text/html": [
       "<div>\n",
       "<style scoped>\n",
       "    .dataframe tbody tr th:only-of-type {\n",
       "        vertical-align: middle;\n",
       "    }\n",
       "\n",
       "    .dataframe tbody tr th {\n",
       "        vertical-align: top;\n",
       "    }\n",
       "\n",
       "    .dataframe thead th {\n",
       "        text-align: right;\n",
       "    }\n",
       "</style>\n",
       "<table border=\"1\" class=\"dataframe\">\n",
       "  <thead>\n",
       "    <tr style=\"text-align: right;\">\n",
       "      <th></th>\n",
       "      <th>Zone</th>\n",
       "      <th>Année</th>\n",
       "      <th>Population</th>\n",
       "      <th>Produit</th>\n",
       "      <th>Origine</th>\n",
       "      <th>Aliments pour animaux</th>\n",
       "      <th>Autres Utilisations</th>\n",
       "      <th>Disponibilité alimentaire (Kcal/personne/jour)</th>\n",
       "      <th>Disponibilité alimentaire en quantité (kg/personne/an)</th>\n",
       "      <th>Disponibilité de matière grasse en quantité (g/personne/jour)</th>\n",
       "      <th>...</th>\n",
       "      <th>Disponibilité intérieure</th>\n",
       "      <th>Exportations - Quantité</th>\n",
       "      <th>Importations - Quantité</th>\n",
       "      <th>Nourriture</th>\n",
       "      <th>Pertes</th>\n",
       "      <th>Production</th>\n",
       "      <th>Semences</th>\n",
       "      <th>Traitement</th>\n",
       "      <th>Variation de stock</th>\n",
       "      <th>dispo_kcal</th>\n",
       "    </tr>\n",
       "  </thead>\n",
       "  <tbody>\n",
       "    <tr>\n",
       "      <th>7</th>\n",
       "      <td>Afghanistan</td>\n",
       "      <td>2017</td>\n",
       "      <td>36296113.00</td>\n",
       "      <td>Blé</td>\n",
       "      <td>vegetale</td>\n",
       "      <td>0.00</td>\n",
       "      <td>0.00</td>\n",
       "      <td>1369.00</td>\n",
       "      <td>160.23</td>\n",
       "      <td>4.69</td>\n",
       "      <td>...</td>\n",
       "      <td>5992000000.00</td>\n",
       "      <td>0.00</td>\n",
       "      <td>1173000000.00</td>\n",
       "      <td>4895000000.00</td>\n",
       "      <td>775000000.00</td>\n",
       "      <td>5169000000.00</td>\n",
       "      <td>322.00</td>\n",
       "      <td>0.00</td>\n",
       "      <td>-350000000.00</td>\n",
       "      <td>49689378697.00</td>\n",
       "    </tr>\n",
       "    <tr>\n",
       "      <th>12</th>\n",
       "      <td>Afghanistan</td>\n",
       "      <td>2017</td>\n",
       "      <td>36296113.00</td>\n",
       "      <td>Céréales, Autres</td>\n",
       "      <td>vegetale</td>\n",
       "      <td>0.00</td>\n",
       "      <td>0.00</td>\n",
       "      <td>0.00</td>\n",
       "      <td>0.00</td>\n",
       "      <td>0.00</td>\n",
       "      <td>...</td>\n",
       "      <td>0.00</td>\n",
       "      <td>0.00</td>\n",
       "      <td>0.00</td>\n",
       "      <td>0.00</td>\n",
       "      <td>0.00</td>\n",
       "      <td>0.00</td>\n",
       "      <td>0.00</td>\n",
       "      <td>0.00</td>\n",
       "      <td>0.00</td>\n",
       "      <td>0.00</td>\n",
       "    </tr>\n",
       "    <tr>\n",
       "      <th>32</th>\n",
       "      <td>Afghanistan</td>\n",
       "      <td>2017</td>\n",
       "      <td>36296113.00</td>\n",
       "      <td>Maïs</td>\n",
       "      <td>vegetale</td>\n",
       "      <td>200000000.00</td>\n",
       "      <td>0.00</td>\n",
       "      <td>21.00</td>\n",
       "      <td>2.50</td>\n",
       "      <td>0.30</td>\n",
       "      <td>...</td>\n",
       "      <td>313000000.00</td>\n",
       "      <td>0.00</td>\n",
       "      <td>1000000.00</td>\n",
       "      <td>76000000.00</td>\n",
       "      <td>31000000.00</td>\n",
       "      <td>312000000.00</td>\n",
       "      <td>5.00</td>\n",
       "      <td>0.00</td>\n",
       "      <td>0.00</td>\n",
       "      <td>762218373.00</td>\n",
       "    </tr>\n",
       "    <tr>\n",
       "      <th>34</th>\n",
       "      <td>Afghanistan</td>\n",
       "      <td>2017</td>\n",
       "      <td>36296113.00</td>\n",
       "      <td>Millet</td>\n",
       "      <td>vegetale</td>\n",
       "      <td>0.00</td>\n",
       "      <td>0.00</td>\n",
       "      <td>3.00</td>\n",
       "      <td>0.40</td>\n",
       "      <td>0.02</td>\n",
       "      <td>...</td>\n",
       "      <td>13000000.00</td>\n",
       "      <td>0.00</td>\n",
       "      <td>0.00</td>\n",
       "      <td>12000000.00</td>\n",
       "      <td>1000000.00</td>\n",
       "      <td>13000000.00</td>\n",
       "      <td>0.00</td>\n",
       "      <td>0.00</td>\n",
       "      <td>0.00</td>\n",
       "      <td>108888339.00</td>\n",
       "    </tr>\n",
       "    <tr>\n",
       "      <th>40</th>\n",
       "      <td>Afghanistan</td>\n",
       "      <td>2017</td>\n",
       "      <td>36296113.00</td>\n",
       "      <td>Orge</td>\n",
       "      <td>vegetale</td>\n",
       "      <td>360000000.00</td>\n",
       "      <td>0.00</td>\n",
       "      <td>26.00</td>\n",
       "      <td>2.92</td>\n",
       "      <td>0.24</td>\n",
       "      <td>...</td>\n",
       "      <td>524000000.00</td>\n",
       "      <td>0.00</td>\n",
       "      <td>10000000.00</td>\n",
       "      <td>89000000.00</td>\n",
       "      <td>52000000.00</td>\n",
       "      <td>514000000.00</td>\n",
       "      <td>22.00</td>\n",
       "      <td>0.00</td>\n",
       "      <td>0.00</td>\n",
       "      <td>943698938.00</td>\n",
       "    </tr>\n",
       "    <tr>\n",
       "      <th>...</th>\n",
       "      <td>...</td>\n",
       "      <td>...</td>\n",
       "      <td>...</td>\n",
       "      <td>...</td>\n",
       "      <td>...</td>\n",
       "      <td>...</td>\n",
       "      <td>...</td>\n",
       "      <td>...</td>\n",
       "      <td>...</td>\n",
       "      <td>...</td>\n",
       "      <td>...</td>\n",
       "      <td>...</td>\n",
       "      <td>...</td>\n",
       "      <td>...</td>\n",
       "      <td>...</td>\n",
       "      <td>...</td>\n",
       "      <td>...</td>\n",
       "      <td>...</td>\n",
       "      <td>...</td>\n",
       "      <td>...</td>\n",
       "      <td>...</td>\n",
       "    </tr>\n",
       "    <tr>\n",
       "      <th>15374</th>\n",
       "      <td>Zimbabwe</td>\n",
       "      <td>2017</td>\n",
       "      <td>14236595.00</td>\n",
       "      <td>Millet</td>\n",
       "      <td>vegetale</td>\n",
       "      <td>0.00</td>\n",
       "      <td>0.00</td>\n",
       "      <td>23.00</td>\n",
       "      <td>2.93</td>\n",
       "      <td>0.20</td>\n",
       "      <td>...</td>\n",
       "      <td>55000000.00</td>\n",
       "      <td>0.00</td>\n",
       "      <td>0.00</td>\n",
       "      <td>41000000.00</td>\n",
       "      <td>3000000.00</td>\n",
       "      <td>55000000.00</td>\n",
       "      <td>3.00</td>\n",
       "      <td>7000000.00</td>\n",
       "      <td>0.00</td>\n",
       "      <td>327441685.00</td>\n",
       "    </tr>\n",
       "    <tr>\n",
       "      <th>15382</th>\n",
       "      <td>Zimbabwe</td>\n",
       "      <td>2017</td>\n",
       "      <td>14236595.00</td>\n",
       "      <td>Orge</td>\n",
       "      <td>vegetale</td>\n",
       "      <td>3000000.00</td>\n",
       "      <td>0.00</td>\n",
       "      <td>2.00</td>\n",
       "      <td>0.24</td>\n",
       "      <td>0.01</td>\n",
       "      <td>...</td>\n",
       "      <td>66000000.00</td>\n",
       "      <td>10000000.00</td>\n",
       "      <td>16000000.00</td>\n",
       "      <td>3000000.00</td>\n",
       "      <td>4000000.00</td>\n",
       "      <td>60000000.00</td>\n",
       "      <td>1.00</td>\n",
       "      <td>55000000.00</td>\n",
       "      <td>0.00</td>\n",
       "      <td>28473190.00</td>\n",
       "    </tr>\n",
       "    <tr>\n",
       "      <th>15399</th>\n",
       "      <td>Zimbabwe</td>\n",
       "      <td>2017</td>\n",
       "      <td>14236595.00</td>\n",
       "      <td>Riz (Eq Blanchi)</td>\n",
       "      <td>vegetale</td>\n",
       "      <td>0.00</td>\n",
       "      <td>0.00</td>\n",
       "      <td>101.00</td>\n",
       "      <td>10.09</td>\n",
       "      <td>0.19</td>\n",
       "      <td>...</td>\n",
       "      <td>158000000.00</td>\n",
       "      <td>1000000.00</td>\n",
       "      <td>156000000.00</td>\n",
       "      <td>143000000.00</td>\n",
       "      <td>0.00</td>\n",
       "      <td>0.00</td>\n",
       "      <td>0.00</td>\n",
       "      <td>15000000.00</td>\n",
       "      <td>2000000.00</td>\n",
       "      <td>1437896095.00</td>\n",
       "    </tr>\n",
       "    <tr>\n",
       "      <th>15400</th>\n",
       "      <td>Zimbabwe</td>\n",
       "      <td>2017</td>\n",
       "      <td>14236595.00</td>\n",
       "      <td>Seigle</td>\n",
       "      <td>vegetale</td>\n",
       "      <td>0.00</td>\n",
       "      <td>0.00</td>\n",
       "      <td>0.00</td>\n",
       "      <td>0.00</td>\n",
       "      <td>0.00</td>\n",
       "      <td>...</td>\n",
       "      <td>0.00</td>\n",
       "      <td>0.00</td>\n",
       "      <td>0.00</td>\n",
       "      <td>0.00</td>\n",
       "      <td>0.00</td>\n",
       "      <td>0.00</td>\n",
       "      <td>0.00</td>\n",
       "      <td>0.00</td>\n",
       "      <td>0.00</td>\n",
       "      <td>0.00</td>\n",
       "    </tr>\n",
       "    <tr>\n",
       "      <th>15402</th>\n",
       "      <td>Zimbabwe</td>\n",
       "      <td>2017</td>\n",
       "      <td>14236595.00</td>\n",
       "      <td>Sorgho</td>\n",
       "      <td>vegetale</td>\n",
       "      <td>1000000.00</td>\n",
       "      <td>0.00</td>\n",
       "      <td>33.00</td>\n",
       "      <td>4.06</td>\n",
       "      <td>0.30</td>\n",
       "      <td>...</td>\n",
       "      <td>93000000.00</td>\n",
       "      <td>0.00</td>\n",
       "      <td>6000000.00</td>\n",
       "      <td>57000000.00</td>\n",
       "      <td>5000000.00</td>\n",
       "      <td>69000000.00</td>\n",
       "      <td>5.00</td>\n",
       "      <td>25000000.00</td>\n",
       "      <td>18000000.00</td>\n",
       "      <td>469807635.00</td>\n",
       "    </tr>\n",
       "  </tbody>\n",
       "</table>\n",
       "<p>1479 rows × 21 columns</p>\n",
       "</div>"
      ],
      "text/plain": [
       "              Zone Année  Population           Produit   Origine  \\\n",
       "7      Afghanistan  2017 36296113.00               Blé  vegetale   \n",
       "12     Afghanistan  2017 36296113.00  Céréales, Autres  vegetale   \n",
       "32     Afghanistan  2017 36296113.00              Maïs  vegetale   \n",
       "34     Afghanistan  2017 36296113.00            Millet  vegetale   \n",
       "40     Afghanistan  2017 36296113.00              Orge  vegetale   \n",
       "...            ...   ...         ...               ...       ...   \n",
       "15374     Zimbabwe  2017 14236595.00            Millet  vegetale   \n",
       "15382     Zimbabwe  2017 14236595.00              Orge  vegetale   \n",
       "15399     Zimbabwe  2017 14236595.00  Riz (Eq Blanchi)  vegetale   \n",
       "15400     Zimbabwe  2017 14236595.00            Seigle  vegetale   \n",
       "15402     Zimbabwe  2017 14236595.00            Sorgho  vegetale   \n",
       "\n",
       "       Aliments pour animaux  Autres Utilisations  \\\n",
       "7                       0.00                 0.00   \n",
       "12                      0.00                 0.00   \n",
       "32              200000000.00                 0.00   \n",
       "34                      0.00                 0.00   \n",
       "40              360000000.00                 0.00   \n",
       "...                      ...                  ...   \n",
       "15374                   0.00                 0.00   \n",
       "15382             3000000.00                 0.00   \n",
       "15399                   0.00                 0.00   \n",
       "15400                   0.00                 0.00   \n",
       "15402             1000000.00                 0.00   \n",
       "\n",
       "       Disponibilité alimentaire (Kcal/personne/jour)  \\\n",
       "7                                             1369.00   \n",
       "12                                               0.00   \n",
       "32                                              21.00   \n",
       "34                                               3.00   \n",
       "40                                              26.00   \n",
       "...                                               ...   \n",
       "15374                                           23.00   \n",
       "15382                                            2.00   \n",
       "15399                                          101.00   \n",
       "15400                                            0.00   \n",
       "15402                                           33.00   \n",
       "\n",
       "       Disponibilité alimentaire en quantité (kg/personne/an)  \\\n",
       "7                                                 160.23        \n",
       "12                                                  0.00        \n",
       "32                                                  2.50        \n",
       "34                                                  0.40        \n",
       "40                                                  2.92        \n",
       "...                                                  ...        \n",
       "15374                                               2.93        \n",
       "15382                                               0.24        \n",
       "15399                                              10.09        \n",
       "15400                                               0.00        \n",
       "15402                                               4.06        \n",
       "\n",
       "       Disponibilité de matière grasse en quantité (g/personne/jour)  ...  \\\n",
       "7                                                   4.69              ...   \n",
       "12                                                  0.00              ...   \n",
       "32                                                  0.30              ...   \n",
       "34                                                  0.02              ...   \n",
       "40                                                  0.24              ...   \n",
       "...                                                  ...              ...   \n",
       "15374                                               0.20              ...   \n",
       "15382                                               0.01              ...   \n",
       "15399                                               0.19              ...   \n",
       "15400                                               0.00              ...   \n",
       "15402                                               0.30              ...   \n",
       "\n",
       "       Disponibilité intérieure  Exportations - Quantité  \\\n",
       "7                 5992000000.00                     0.00   \n",
       "12                         0.00                     0.00   \n",
       "32                 313000000.00                     0.00   \n",
       "34                  13000000.00                     0.00   \n",
       "40                 524000000.00                     0.00   \n",
       "...                         ...                      ...   \n",
       "15374               55000000.00                     0.00   \n",
       "15382               66000000.00              10000000.00   \n",
       "15399              158000000.00               1000000.00   \n",
       "15400                      0.00                     0.00   \n",
       "15402               93000000.00                     0.00   \n",
       "\n",
       "       Importations - Quantité    Nourriture       Pertes    Production  \\\n",
       "7                1173000000.00 4895000000.00 775000000.00 5169000000.00   \n",
       "12                        0.00          0.00         0.00          0.00   \n",
       "32                  1000000.00   76000000.00  31000000.00  312000000.00   \n",
       "34                        0.00   12000000.00   1000000.00   13000000.00   \n",
       "40                 10000000.00   89000000.00  52000000.00  514000000.00   \n",
       "...                        ...           ...          ...           ...   \n",
       "15374                     0.00   41000000.00   3000000.00   55000000.00   \n",
       "15382              16000000.00    3000000.00   4000000.00   60000000.00   \n",
       "15399             156000000.00  143000000.00         0.00          0.00   \n",
       "15400                     0.00          0.00         0.00          0.00   \n",
       "15402               6000000.00   57000000.00   5000000.00   69000000.00   \n",
       "\n",
       "       Semences  Traitement  Variation de stock     dispo_kcal  \n",
       "7        322.00        0.00       -350000000.00 49689378697.00  \n",
       "12         0.00        0.00                0.00           0.00  \n",
       "32         5.00        0.00                0.00   762218373.00  \n",
       "34         0.00        0.00                0.00   108888339.00  \n",
       "40        22.00        0.00                0.00   943698938.00  \n",
       "...         ...         ...                 ...            ...  \n",
       "15374      3.00  7000000.00                0.00   327441685.00  \n",
       "15382      1.00 55000000.00                0.00    28473190.00  \n",
       "15399      0.00 15000000.00          2000000.00  1437896095.00  \n",
       "15400      0.00        0.00                0.00           0.00  \n",
       "15402      5.00 25000000.00         18000000.00   469807635.00  \n",
       "\n",
       "[1479 rows x 21 columns]"
      ]
     },
     "execution_count": 57,
     "metadata": {},
     "output_type": "execute_result"
    }
   ],
   "source": [
    "# Création d'un dataframe avec les informations uniquement pour ces céréales\n",
    "cereales = vegetaux.loc[vegetaux['Produit'].isin(cereales_FAO)]\n",
    "cereales"
   ]
  },
  {
   "cell_type": "code",
   "execution_count": 58,
   "id": "2c164abf",
   "metadata": {
    "tags": []
   },
   "outputs": [
    {
     "data": {
      "text/html": [
       "<div>\n",
       "<style scoped>\n",
       "    .dataframe tbody tr th:only-of-type {\n",
       "        vertical-align: middle;\n",
       "    }\n",
       "\n",
       "    .dataframe tbody tr th {\n",
       "        vertical-align: top;\n",
       "    }\n",
       "\n",
       "    .dataframe thead th {\n",
       "        text-align: right;\n",
       "    }\n",
       "</style>\n",
       "<table border=\"1\" class=\"dataframe\">\n",
       "  <thead>\n",
       "    <tr style=\"text-align: right;\">\n",
       "      <th></th>\n",
       "      <th>Produit</th>\n",
       "      <th>Aliments pour animaux</th>\n",
       "      <th>Nourriture</th>\n",
       "      <th>Disponibilité intérieure</th>\n",
       "    </tr>\n",
       "  </thead>\n",
       "  <tbody>\n",
       "    <tr>\n",
       "      <th>0</th>\n",
       "      <td>Avoine</td>\n",
       "      <td>15865000000.00</td>\n",
       "      <td>3459000000.00</td>\n",
       "      <td>22537000000.00</td>\n",
       "    </tr>\n",
       "    <tr>\n",
       "      <th>1</th>\n",
       "      <td>Blé</td>\n",
       "      <td>121686000000.00</td>\n",
       "      <td>450581000000.00</td>\n",
       "      <td>661667000000.00</td>\n",
       "    </tr>\n",
       "    <tr>\n",
       "      <th>2</th>\n",
       "      <td>Céréales, Autres</td>\n",
       "      <td>18782000000.00</td>\n",
       "      <td>5308000000.00</td>\n",
       "      <td>27193000000.00</td>\n",
       "    </tr>\n",
       "    <tr>\n",
       "      <th>3</th>\n",
       "      <td>Maïs</td>\n",
       "      <td>544746000000.00</td>\n",
       "      <td>125000000000.00</td>\n",
       "      <td>953202000000.00</td>\n",
       "    </tr>\n",
       "    <tr>\n",
       "      <th>4</th>\n",
       "      <td>Millet</td>\n",
       "      <td>3290000000.00</td>\n",
       "      <td>23040000000.00</td>\n",
       "      <td>29894000000.00</td>\n",
       "    </tr>\n",
       "    <tr>\n",
       "      <th>5</th>\n",
       "      <td>Orge</td>\n",
       "      <td>88798000000.00</td>\n",
       "      <td>6744000000.00</td>\n",
       "      <td>134152000000.00</td>\n",
       "    </tr>\n",
       "    <tr>\n",
       "      <th>6</th>\n",
       "      <td>Riz (Eq Blanchi)</td>\n",
       "      <td>33581000000.00</td>\n",
       "      <td>376830000000.00</td>\n",
       "      <td>475141000000.00</td>\n",
       "    </tr>\n",
       "    <tr>\n",
       "      <th>7</th>\n",
       "      <td>Seigle</td>\n",
       "      <td>8073000000.00</td>\n",
       "      <td>5349000000.00</td>\n",
       "      <td>16362000000.00</td>\n",
       "    </tr>\n",
       "    <tr>\n",
       "      <th>8</th>\n",
       "      <td>Sorgho</td>\n",
       "      <td>24794000000.00</td>\n",
       "      <td>24153000000.00</td>\n",
       "      <td>58223000000.00</td>\n",
       "    </tr>\n",
       "  </tbody>\n",
       "</table>\n",
       "</div>"
      ],
      "text/plain": [
       "            Produit  Aliments pour animaux      Nourriture  \\\n",
       "0            Avoine         15865000000.00   3459000000.00   \n",
       "1               Blé        121686000000.00 450581000000.00   \n",
       "2  Céréales, Autres         18782000000.00   5308000000.00   \n",
       "3              Maïs        544746000000.00 125000000000.00   \n",
       "4            Millet          3290000000.00  23040000000.00   \n",
       "5              Orge         88798000000.00   6744000000.00   \n",
       "6  Riz (Eq Blanchi)         33581000000.00 376830000000.00   \n",
       "7            Seigle          8073000000.00   5349000000.00   \n",
       "8            Sorgho         24794000000.00  24153000000.00   \n",
       "\n",
       "   Disponibilité intérieure  \n",
       "0            22537000000.00  \n",
       "1           661667000000.00  \n",
       "2            27193000000.00  \n",
       "3           953202000000.00  \n",
       "4            29894000000.00  \n",
       "5           134152000000.00  \n",
       "6           475141000000.00  \n",
       "7            16362000000.00  \n",
       "8            58223000000.00  "
      ]
     },
     "execution_count": 58,
     "metadata": {},
     "output_type": "execute_result"
    }
   ],
   "source": [
    "# Création du dataframe sur les alimentations animale et humaine groupé par les types de céréale\n",
    "cereales = cereales.groupby('Produit').sum()\n",
    "cereales_animal_humain = cereales[['Aliments pour animaux','Nourriture', 'Disponibilité intérieure']]\n",
    "cereales_animal_humain.reset_index(inplace=True)\n",
    "cereales_animal_humain"
   ]
  },
  {
   "cell_type": "code",
   "execution_count": 59,
   "id": "8365de95",
   "metadata": {
    "tags": []
   },
   "outputs": [
    {
     "data": {
      "text/plain": [
       "859615000000.0"
      ]
     },
     "execution_count": 59,
     "metadata": {},
     "output_type": "execute_result"
    }
   ],
   "source": [
    "# Calcule de la quantité totale d'alimentation animale\n",
    "cereales_alimentation_animale = cereales_animal_humain['Aliments pour animaux'].sum() \n",
    "cereales_alimentation_animale"
   ]
  },
  {
   "cell_type": "code",
   "execution_count": 60,
   "id": "b441bfcd-8bee-4ab9-9851-8f467cac4c81",
   "metadata": {
    "tags": []
   },
   "outputs": [
    {
     "data": {
      "text/plain": [
       "1020464000000.0"
      ]
     },
     "execution_count": 60,
     "metadata": {},
     "output_type": "execute_result"
    }
   ],
   "source": [
    "# Calcul de la quantité totale d'alimentation humaine\n",
    "cereales_alimentation_humaine = cereales_animal_humain['Nourriture'].sum()\n",
    "cereales_alimentation_humaine"
   ]
  },
  {
   "cell_type": "code",
   "execution_count": 61,
   "id": "6f5e93c7",
   "metadata": {
    "tags": []
   },
   "outputs": [
    {
     "name": "stdout",
     "output_type": "stream",
     "text": [
      "36.1%\n"
     ]
    }
   ],
   "source": [
    "# Affichage de la proportion d'alimentation animale \n",
    "propo_aliment_animal = cereales_alimentation_animale / cereales_animal_humain['Disponibilité intérieure'].sum()\n",
    "print('{:.1%}'.format(propo_aliment_animal))"
   ]
  },
  {
   "cell_type": "code",
   "execution_count": 62,
   "id": "1048b83b",
   "metadata": {
    "tags": []
   },
   "outputs": [
    {
     "name": "stdout",
     "output_type": "stream",
     "text": [
      "42.9%\n"
     ]
    }
   ],
   "source": [
    "# Affichage des la proportion d'alimentation humaine\n",
    "propo_aliment_humaine = cereales_alimentation_humaine / cereales_animal_humain['Disponibilité intérieure'].sum()\n",
    "print('{:.1%}'.format(propo_aliment_humaine))"
   ]
  },
  {
   "cell_type": "code",
   "execution_count": 92,
   "id": "6df71edf",
   "metadata": {},
   "outputs": [
    {
     "data": {
      "text/plain": [
       "<matplotlib.legend.Legend at 0x27c49522e10>"
      ]
     },
     "execution_count": 92,
     "metadata": {},
     "output_type": "execute_result"
    },
    {
     "data": {
      "image/png": "[encoded data removed]",
      "text/plain": [
       "<Figure size 1500x1200 with 2 Axes>"
      ]
     },
     "metadata": {},
     "output_type": "display_data"
    }
   ],
   "source": [
    "# Création du diagramme circulaire pour montrer la répartition de différents types de céréales dans les alimentations animale et humaine\n",
    "fig, (ax1,ax2) = plt.subplots(1,2,figsize=(15,12))\n",
    "plt.rcParams.update({'font.size':10})\n",
    "ax1.pie(data=cereales_animal_humain, \n",
    "        x='Aliments pour animaux', \n",
    "        colors=sns.color_palette('Set3'), \n",
    "        autopct='%.2f%%', \n",
    "        pctdistance= 1.1, \n",
    "        startangle=30)\n",
    "ax1.set_title('Répartition des céreales pour l\\'alimentation animale')\n",
    "ax2.pie(data=cereales_animal_humain, \n",
    "        x='Nourriture', \n",
    "        colors=sns.color_palette('Set3'), \n",
    "        autopct='%.2f%%', \n",
    "        pctdistance= 1.1,\n",
    "        startangle=30)\n",
    "ax2.set_title('Répartition des céreales pour l\\'alimentation humaine')\n",
    "plt.legend(labels=cereales_animal_humain['Produit'], bbox_to_anchor=(1.4,0.5), title='Types de céréales')"
   ]
  },
  {
   "cell_type": "markdown",
   "id": "7dde9dde",
   "metadata": {},
   "source": [
    "Les animaux consomment plus de céréales que les êtres-humains. La consommation humaine prend 36.1% tandis que celle d'animaux prend 42.9% dans l'utilisation totale des céréales. \n",
    "Au niveau de la consommation de types de céréales, les êtres-humains consomment principalement du blé (44.15%), riz (36.93%) et maïs (12.25%), tandis que les animaux consomment principalement du maïs (63.37%), blé (14.16%) et de l'orge  (10.33%)."
   ]
  },
  {
   "cell_type": "markdown",
   "id": "a603be79",
   "metadata": {},
   "source": [
    "<div style=\"border: 1px solid RGB(0,150,250);\" >\n",
    "<h3 style=\"margin: auto; padding: 20px; color: RGB(0,150,250); \">3.6 - Pays avec la proportion de personnes sous-alimentée la plus forte en 2017</h3>\n",
    "</div>"
   ]
  },
  {
   "cell_type": "code",
   "execution_count": 64,
   "id": "1884c270",
   "metadata": {
    "tags": []
   },
   "outputs": [],
   "source": [
    "# Création de la colonne proportion par pays\n",
    "pop_sous_nutrition['Proportion_sous_nutrition'] = pop_sous_nutrition['Sous_nutrition_2017'] / pop_sous_nutrition['Population']"
   ]
  },
  {
   "cell_type": "code",
   "execution_count": 65,
   "id": "25a185b6",
   "metadata": {
    "tags": []
   },
   "outputs": [
    {
     "data": {
      "text/html": [
       "<div>\n",
       "<style scoped>\n",
       "    .dataframe tbody tr th:only-of-type {\n",
       "        vertical-align: middle;\n",
       "    }\n",
       "\n",
       "    .dataframe tbody tr th {\n",
       "        vertical-align: top;\n",
       "    }\n",
       "\n",
       "    .dataframe thead th {\n",
       "        text-align: right;\n",
       "    }\n",
       "</style>\n",
       "<table border=\"1\" class=\"dataframe\">\n",
       "  <thead>\n",
       "    <tr style=\"text-align: right;\">\n",
       "      <th></th>\n",
       "      <th>Zone</th>\n",
       "      <th>Année</th>\n",
       "      <th>Population</th>\n",
       "      <th>Sous_nutrition_2017</th>\n",
       "      <th>Proportion_sous_nutrition</th>\n",
       "    </tr>\n",
       "  </thead>\n",
       "  <tbody>\n",
       "    <tr>\n",
       "      <th>78</th>\n",
       "      <td>Haïti</td>\n",
       "      <td>2017</td>\n",
       "      <td>10982366.00</td>\n",
       "      <td>5300000.00</td>\n",
       "      <td>0.48</td>\n",
       "    </tr>\n",
       "    <tr>\n",
       "      <th>157</th>\n",
       "      <td>République populaire démocratique de Corée</td>\n",
       "      <td>2017</td>\n",
       "      <td>25429825.00</td>\n",
       "      <td>11900000.00</td>\n",
       "      <td>0.47</td>\n",
       "    </tr>\n",
       "    <tr>\n",
       "      <th>108</th>\n",
       "      <td>Madagascar</td>\n",
       "      <td>2017</td>\n",
       "      <td>25570512.00</td>\n",
       "      <td>10650000.00</td>\n",
       "      <td>0.42</td>\n",
       "    </tr>\n",
       "    <tr>\n",
       "      <th>103</th>\n",
       "      <td>Libéria</td>\n",
       "      <td>2017</td>\n",
       "      <td>4702226.00</td>\n",
       "      <td>1800000.00</td>\n",
       "      <td>0.38</td>\n",
       "    </tr>\n",
       "    <tr>\n",
       "      <th>183</th>\n",
       "      <td>Tchad</td>\n",
       "      <td>2017</td>\n",
       "      <td>15016753.00</td>\n",
       "      <td>5700000.00</td>\n",
       "      <td>0.38</td>\n",
       "    </tr>\n",
       "    <tr>\n",
       "      <th>100</th>\n",
       "      <td>Lesotho</td>\n",
       "      <td>2017</td>\n",
       "      <td>2091534.00</td>\n",
       "      <td>750000.00</td>\n",
       "      <td>0.36</td>\n",
       "    </tr>\n",
       "    <tr>\n",
       "      <th>161</th>\n",
       "      <td>Rwanda</td>\n",
       "      <td>2017</td>\n",
       "      <td>11980961.00</td>\n",
       "      <td>4250000.00</td>\n",
       "      <td>0.35</td>\n",
       "    </tr>\n",
       "    <tr>\n",
       "      <th>121</th>\n",
       "      <td>Mozambique</td>\n",
       "      <td>2017</td>\n",
       "      <td>28649018.00</td>\n",
       "      <td>9400000.00</td>\n",
       "      <td>0.33</td>\n",
       "    </tr>\n",
       "    <tr>\n",
       "      <th>186</th>\n",
       "      <td>Timor-Leste</td>\n",
       "      <td>2017</td>\n",
       "      <td>1243258.00</td>\n",
       "      <td>400000.00</td>\n",
       "      <td>0.32</td>\n",
       "    </tr>\n",
       "    <tr>\n",
       "      <th>0</th>\n",
       "      <td>Afghanistan</td>\n",
       "      <td>2017</td>\n",
       "      <td>36296113.00</td>\n",
       "      <td>10400000.00</td>\n",
       "      <td>0.29</td>\n",
       "    </tr>\n",
       "  </tbody>\n",
       "</table>\n",
       "</div>"
      ],
      "text/plain": [
       "                                           Zone Année  Population  \\\n",
       "78                                        Haïti  2017 10982366.00   \n",
       "157  République populaire démocratique de Corée  2017 25429825.00   \n",
       "108                                  Madagascar  2017 25570512.00   \n",
       "103                                     Libéria  2017  4702226.00   \n",
       "183                                       Tchad  2017 15016753.00   \n",
       "100                                     Lesotho  2017  2091534.00   \n",
       "161                                      Rwanda  2017 11980961.00   \n",
       "121                                  Mozambique  2017 28649018.00   \n",
       "186                                 Timor-Leste  2017  1243258.00   \n",
       "0                                   Afghanistan  2017 36296113.00   \n",
       "\n",
       "     Sous_nutrition_2017  Proportion_sous_nutrition  \n",
       "78            5300000.00                       0.48  \n",
       "157          11900000.00                       0.47  \n",
       "108          10650000.00                       0.42  \n",
       "103           1800000.00                       0.38  \n",
       "183           5700000.00                       0.38  \n",
       "100            750000.00                       0.36  \n",
       "161           4250000.00                       0.35  \n",
       "121           9400000.00                       0.33  \n",
       "186            400000.00                       0.32  \n",
       "0            10400000.00                       0.29  "
      ]
     },
     "execution_count": 65,
     "metadata": {},
     "output_type": "execute_result"
    }
   ],
   "source": [
    "# Affichage après trie des 10 pires pays\n",
    "pays_sous_nutrition = pop_sous_nutrition.nlargest(10, 'Proportion_sous_nutrition')\n",
    "pays_sous_nutrition"
   ]
  },
  {
   "cell_type": "code",
   "execution_count": 66,
   "id": "94c3d0de",
   "metadata": {
    "tags": []
   },
   "outputs": [
    {
     "data": {
      "text/html": [
       "<div>\n",
       "<style scoped>\n",
       "    .dataframe tbody tr th:only-of-type {\n",
       "        vertical-align: middle;\n",
       "    }\n",
       "\n",
       "    .dataframe tbody tr th {\n",
       "        vertical-align: top;\n",
       "    }\n",
       "\n",
       "    .dataframe thead th {\n",
       "        text-align: right;\n",
       "    }\n",
       "</style>\n",
       "<table border=\"1\" class=\"dataframe\">\n",
       "  <thead>\n",
       "    <tr style=\"text-align: right;\">\n",
       "      <th></th>\n",
       "      <th>Sous_nutrition_2017</th>\n",
       "      <th>En_nutrition_2017</th>\n",
       "    </tr>\n",
       "    <tr>\n",
       "      <th>Zone</th>\n",
       "      <th></th>\n",
       "      <th></th>\n",
       "    </tr>\n",
       "  </thead>\n",
       "  <tbody>\n",
       "    <tr>\n",
       "      <th>Haïti</th>\n",
       "      <td>5300000.00</td>\n",
       "      <td>5682366.00</td>\n",
       "    </tr>\n",
       "    <tr>\n",
       "      <th>République populaire démocratique de Corée</th>\n",
       "      <td>11900000.00</td>\n",
       "      <td>13529825.00</td>\n",
       "    </tr>\n",
       "    <tr>\n",
       "      <th>Madagascar</th>\n",
       "      <td>10650000.00</td>\n",
       "      <td>14920512.00</td>\n",
       "    </tr>\n",
       "    <tr>\n",
       "      <th>Libéria</th>\n",
       "      <td>1800000.00</td>\n",
       "      <td>2902226.00</td>\n",
       "    </tr>\n",
       "    <tr>\n",
       "      <th>Tchad</th>\n",
       "      <td>5700000.00</td>\n",
       "      <td>9316753.00</td>\n",
       "    </tr>\n",
       "    <tr>\n",
       "      <th>Lesotho</th>\n",
       "      <td>750000.00</td>\n",
       "      <td>1341534.00</td>\n",
       "    </tr>\n",
       "    <tr>\n",
       "      <th>Rwanda</th>\n",
       "      <td>4250000.00</td>\n",
       "      <td>7730961.00</td>\n",
       "    </tr>\n",
       "    <tr>\n",
       "      <th>Mozambique</th>\n",
       "      <td>9400000.00</td>\n",
       "      <td>19249018.00</td>\n",
       "    </tr>\n",
       "    <tr>\n",
       "      <th>Timor-Leste</th>\n",
       "      <td>400000.00</td>\n",
       "      <td>843258.00</td>\n",
       "    </tr>\n",
       "    <tr>\n",
       "      <th>Afghanistan</th>\n",
       "      <td>10400000.00</td>\n",
       "      <td>25896113.00</td>\n",
       "    </tr>\n",
       "  </tbody>\n",
       "</table>\n",
       "</div>"
      ],
      "text/plain": [
       "                                            Sous_nutrition_2017  \\\n",
       "Zone                                                              \n",
       "Haïti                                                5300000.00   \n",
       "République populaire démocratique de Corée          11900000.00   \n",
       "Madagascar                                          10650000.00   \n",
       "Libéria                                              1800000.00   \n",
       "Tchad                                                5700000.00   \n",
       "Lesotho                                               750000.00   \n",
       "Rwanda                                               4250000.00   \n",
       "Mozambique                                           9400000.00   \n",
       "Timor-Leste                                           400000.00   \n",
       "Afghanistan                                         10400000.00   \n",
       "\n",
       "                                            En_nutrition_2017  \n",
       "Zone                                                           \n",
       "Haïti                                              5682366.00  \n",
       "République populaire démocratique de Corée        13529825.00  \n",
       "Madagascar                                        14920512.00  \n",
       "Libéria                                            2902226.00  \n",
       "Tchad                                              9316753.00  \n",
       "Lesotho                                            1341534.00  \n",
       "Rwanda                                             7730961.00  \n",
       "Mozambique                                        19249018.00  \n",
       "Timor-Leste                                         843258.00  \n",
       "Afghanistan                                       25896113.00  "
      ]
     },
     "execution_count": 66,
     "metadata": {},
     "output_type": "execute_result"
    }
   ],
   "source": [
    "# Création du dataframe pour créer une visualisation \n",
    "pays_sous_nutrition_10 = pays_sous_nutrition.copy()\n",
    "pays_sous_nutrition_10['En_nutrition_2017'] = pays_sous_nutrition_10['Population'] - pays_sous_nutrition_10['Sous_nutrition_2017']\n",
    "pays_sous_nutrition_10 = pays_sous_nutrition_10.drop(['Année','Population','Proportion_sous_nutrition'], axis=1)\n",
    "pays_sous_nutrition_10 = pays_sous_nutrition_10.set_index('Zone')\n",
    "pays_sous_nutrition_10"
   ]
  },
  {
   "cell_type": "code",
   "execution_count": 67,
   "id": "a21d36b1",
   "metadata": {},
   "outputs": [
    {
     "data": {
      "text/plain": [
       "Text(0.5, 0.98, 'Proportion de personnes en état de sous-nutrition')"
      ]
     },
     "execution_count": 67,
     "metadata": {},
     "output_type": "execute_result"
    },
    {
     "data": {
      "image/png": "[encoded data removed]",
      "text/plain": [
       "<Figure size 1600x600 with 10 Axes>"
      ]
     },
     "metadata": {},
     "output_type": "display_data"
    }
   ],
   "source": [
    "# Création du diagramme camembert qui illustre la proportion de la population en sous-nutrition des 10 pays les plus forts \n",
    "fig, axes = plt.subplots(2,5, figsize=(16,6))\n",
    "plt.rcParams.update({'font.size':8})\n",
    "colors = ['#e8735e','white']\n",
    "for i, (j,row) in enumerate(pays_sous_nutrition_10.iterrows()):\n",
    "    axe = axes[i // 5, i % 5]\n",
    "    patches, texts, autotexts = axe.pie(row, autopct = '%.2f%%',\n",
    "                                        startangle = 90,\n",
    "                                        colors = colors,\n",
    "                                        textprops = {'color':'w',\n",
    "                                                     'weight': 'bold'},\n",
    "                                        wedgeprops = {'edgecolor':'lightgray',\n",
    "                                                      'linewidth':1.5})\n",
    "    for i, wedge in enumerate(patches):\n",
    "        if i == 1:\n",
    "            texts[i].set_visible(False)\n",
    "            autotexts[i].set_visible(False)\n",
    "    axe.set_title(j, fontsize=10, weight='bold')\n",
    "\n",
    "fig.suptitle('Proportion de personnes en état de sous-nutrition', fontsize=12)\n"
   ]
  },
  {
   "cell_type": "markdown",
   "id": "4f610008",
   "metadata": {},
   "source": [
    "<div style=\"border: 1px solid RGB(0,150,250);\" >\n",
    "<h3 style=\"margin: auto; padding: 20px; color: RGB(0,150,250); \">3.7 - Pays qui ont le plus bénéficié d'aide alimentaire depuis 2013</h3>\n",
    "</div>"
   ]
  },
  {
   "cell_type": "code",
   "execution_count": 68,
   "id": "99b8d263",
   "metadata": {},
   "outputs": [],
   "source": [
    "# Création du dataframe classé selon l'aide alimentaire \n",
    "aide_alimentaire_pays = aide_alimentaire_df.groupby('Zone').sum()\n",
    "aide_alimentaire_pays = aide_alimentaire_pays.drop(columns=['Année', 'Produit'], axis=1)\n",
    "aide_alimentaire_pays = aide_alimentaire_pays.sort_values(by='Valeur(kg)',ascending=False)\n",
    "aide_alimentaire_pays.reset_index(inplace=True)"
   ]
  },
  {
   "cell_type": "code",
   "execution_count": 69,
   "id": "ee1ac6fb",
   "metadata": {
    "tags": []
   },
   "outputs": [
    {
     "data": {
      "text/html": [
       "<div>\n",
       "<style scoped>\n",
       "    .dataframe tbody tr th:only-of-type {\n",
       "        vertical-align: middle;\n",
       "    }\n",
       "\n",
       "    .dataframe tbody tr th {\n",
       "        vertical-align: top;\n",
       "    }\n",
       "\n",
       "    .dataframe thead th {\n",
       "        text-align: right;\n",
       "    }\n",
       "</style>\n",
       "<table border=\"1\" class=\"dataframe\">\n",
       "  <thead>\n",
       "    <tr style=\"text-align: right;\">\n",
       "      <th></th>\n",
       "      <th>Zone</th>\n",
       "      <th>Valeur(kg)</th>\n",
       "    </tr>\n",
       "  </thead>\n",
       "  <tbody>\n",
       "    <tr>\n",
       "      <th>0</th>\n",
       "      <td>République arabe syrienne</td>\n",
       "      <td>1858943000</td>\n",
       "    </tr>\n",
       "    <tr>\n",
       "      <th>1</th>\n",
       "      <td>Éthiopie</td>\n",
       "      <td>1381294000</td>\n",
       "    </tr>\n",
       "    <tr>\n",
       "      <th>2</th>\n",
       "      <td>Yémen</td>\n",
       "      <td>1206484000</td>\n",
       "    </tr>\n",
       "    <tr>\n",
       "      <th>3</th>\n",
       "      <td>Soudan du Sud</td>\n",
       "      <td>695248000</td>\n",
       "    </tr>\n",
       "    <tr>\n",
       "      <th>4</th>\n",
       "      <td>Soudan</td>\n",
       "      <td>669784000</td>\n",
       "    </tr>\n",
       "    <tr>\n",
       "      <th>5</th>\n",
       "      <td>Kenya</td>\n",
       "      <td>552836000</td>\n",
       "    </tr>\n",
       "    <tr>\n",
       "      <th>6</th>\n",
       "      <td>Bangladesh</td>\n",
       "      <td>348188000</td>\n",
       "    </tr>\n",
       "    <tr>\n",
       "      <th>7</th>\n",
       "      <td>Somalie</td>\n",
       "      <td>292678000</td>\n",
       "    </tr>\n",
       "    <tr>\n",
       "      <th>8</th>\n",
       "      <td>République démocratique du Congo</td>\n",
       "      <td>288502000</td>\n",
       "    </tr>\n",
       "    <tr>\n",
       "      <th>9</th>\n",
       "      <td>Niger</td>\n",
       "      <td>276344000</td>\n",
       "    </tr>\n",
       "  </tbody>\n",
       "</table>\n",
       "</div>"
      ],
      "text/plain": [
       "                               Zone  Valeur(kg)\n",
       "0         République arabe syrienne  1858943000\n",
       "1                          Éthiopie  1381294000\n",
       "2                             Yémen  1206484000\n",
       "3                     Soudan du Sud   695248000\n",
       "4                            Soudan   669784000\n",
       "5                             Kenya   552836000\n",
       "6                        Bangladesh   348188000\n",
       "7                           Somalie   292678000\n",
       "8  République démocratique du Congo   288502000\n",
       "9                             Niger   276344000"
      ]
     },
     "execution_count": 69,
     "metadata": {},
     "output_type": "execute_result"
    }
   ],
   "source": [
    "# Affichage après trie des 10 pays qui ont bénéficié le plus de l'aide alimentaire\n",
    "aide_alimentaire_top_10 = aide_alimentaire_pays.head(10)\n",
    "aide_alimentaire_top_10"
   ]
  },
  {
   "cell_type": "code",
   "execution_count": 70,
   "id": "e9cefadd",
   "metadata": {
    "tags": []
   },
   "outputs": [
    {
     "name": "stderr",
     "output_type": "stream",
     "text": [
      "C:\\Users\\lzz31\\AppData\\Local\\Temp\\ipykernel_18796\\3904351523.py:9: UserWarning: set_ticklabels() should only be used with a fixed number of ticks, i.e. after set_ticks() or using a FixedLocator.\n",
      "  g.set_xticklabels(['{:,.0f}'.format(x) + 'M' for x in g.get_xticks()/1000000])\n"
     ]
    },
    {
     "data": {
      "text/plain": [
       "[Text(0.0, 0, '0M'),\n",
       " Text(250000000.0, 0, '250M'),\n",
       " Text(500000000.0, 0, '500M'),\n",
       " Text(750000000.0, 0, '750M'),\n",
       " Text(1000000000.0, 0, '1,000M'),\n",
       " Text(1250000000.0, 0, '1,250M'),\n",
       " Text(1500000000.0, 0, '1,500M'),\n",
       " Text(1750000000.0, 0, '1,750M'),\n",
       " Text(2000000000.0, 0, '2,000M')]"
      ]
     },
     "execution_count": 70,
     "metadata": {},
     "output_type": "execute_result"
    },
    {
     "data": {
      "image/png": "[encoded data removed]",
      "text/plain": [
       "<Figure size 1200x400 with 1 Axes>"
      ]
     },
     "metadata": {},
     "output_type": "display_data"
    }
   ],
   "source": [
    "# Création du graphique à barres pour illustrer la valeur d'aide alimentaire donnée aux 10 pays les plus bénéficiés depuis 2013\n",
    "plt.figure(figsize=(12,4))\n",
    "plt.rcParams.update({'font.size':9})\n",
    "sns.set_style('whitegrid')\n",
    "g = sns.barplot(data=aide_alimentaire_top_10, x='Valeur(kg)', y='Zone', palette='Set3')\n",
    "plt.xlabel('Aides alimentaire / kg', labelpad=10)\n",
    "plt.ylabel('Pays bénéficaires')\n",
    "plt.title('Pays les plus bénéficiés d\\'aide alimentaire depuis 2013', pad=15)\n",
    "g.set_xticklabels(['{:,.0f}'.format(x) + 'M' for x in g.get_xticks()/1000000])"
   ]
  },
  {
   "cell_type": "code",
   "execution_count": 71,
   "id": "343c5ef8",
   "metadata": {},
   "outputs": [
    {
     "data": {
      "text/html": [
       "<div>\n",
       "<style scoped>\n",
       "    .dataframe tbody tr th:only-of-type {\n",
       "        vertical-align: middle;\n",
       "    }\n",
       "\n",
       "    .dataframe tbody tr th {\n",
       "        vertical-align: top;\n",
       "    }\n",
       "\n",
       "    .dataframe thead th {\n",
       "        text-align: right;\n",
       "    }\n",
       "</style>\n",
       "<table border=\"1\" class=\"dataframe\">\n",
       "  <thead>\n",
       "    <tr style=\"text-align: right;\">\n",
       "      <th></th>\n",
       "      <th>Zone</th>\n",
       "      <th>Année</th>\n",
       "      <th>Population</th>\n",
       "      <th>Sous_nutrition_2017</th>\n",
       "      <th>Proportion_sous_nutrition</th>\n",
       "    </tr>\n",
       "  </thead>\n",
       "  <tbody>\n",
       "    <tr>\n",
       "      <th>16</th>\n",
       "      <td>Bangladesh</td>\n",
       "      <td>2017</td>\n",
       "      <td>159685424.00</td>\n",
       "      <td>21600000.00</td>\n",
       "      <td>0.14</td>\n",
       "    </tr>\n",
       "    <tr>\n",
       "      <th>61</th>\n",
       "      <td>Éthiopie</td>\n",
       "      <td>2017</td>\n",
       "      <td>106399924.00</td>\n",
       "      <td>21400000.00</td>\n",
       "      <td>0.20</td>\n",
       "    </tr>\n",
       "    <tr>\n",
       "      <th>96</th>\n",
       "      <td>Kenya</td>\n",
       "      <td>2017</td>\n",
       "      <td>50221142.00</td>\n",
       "      <td>11650000.00</td>\n",
       "      <td>0.23</td>\n",
       "    </tr>\n",
       "    <tr>\n",
       "      <th>127</th>\n",
       "      <td>Niger</td>\n",
       "      <td>2017</td>\n",
       "      <td>21602382.00</td>\n",
       "      <td>0.00</td>\n",
       "      <td>0.00</td>\n",
       "    </tr>\n",
       "    <tr>\n",
       "      <th>150</th>\n",
       "      <td>République arabe syrienne</td>\n",
       "      <td>2017</td>\n",
       "      <td>17095678.00</td>\n",
       "      <td>0.00</td>\n",
       "      <td>0.00</td>\n",
       "    </tr>\n",
       "    <tr>\n",
       "      <th>154</th>\n",
       "      <td>République démocratique du Congo</td>\n",
       "      <td>2017</td>\n",
       "      <td>81398764.00</td>\n",
       "      <td>0.00</td>\n",
       "      <td>0.00</td>\n",
       "    </tr>\n",
       "    <tr>\n",
       "      <th>175</th>\n",
       "      <td>Somalie</td>\n",
       "      <td>2017</td>\n",
       "      <td>14589179.00</td>\n",
       "      <td>0.00</td>\n",
       "      <td>0.00</td>\n",
       "    </tr>\n",
       "    <tr>\n",
       "      <th>176</th>\n",
       "      <td>Soudan</td>\n",
       "      <td>2017</td>\n",
       "      <td>40813397.00</td>\n",
       "      <td>5000000.00</td>\n",
       "      <td>0.12</td>\n",
       "    </tr>\n",
       "    <tr>\n",
       "      <th>177</th>\n",
       "      <td>Soudan du Sud</td>\n",
       "      <td>2017</td>\n",
       "      <td>10910763.00</td>\n",
       "      <td>0.00</td>\n",
       "      <td>0.00</td>\n",
       "    </tr>\n",
       "    <tr>\n",
       "      <th>200</th>\n",
       "      <td>Yémen</td>\n",
       "      <td>2017</td>\n",
       "      <td>27834819.00</td>\n",
       "      <td>0.00</td>\n",
       "      <td>0.00</td>\n",
       "    </tr>\n",
       "  </tbody>\n",
       "</table>\n",
       "</div>"
      ],
      "text/plain": [
       "                                 Zone Année   Population  Sous_nutrition_2017  \\\n",
       "16                         Bangladesh  2017 159685424.00          21600000.00   \n",
       "61                           Éthiopie  2017 106399924.00          21400000.00   \n",
       "96                              Kenya  2017  50221142.00          11650000.00   \n",
       "127                             Niger  2017  21602382.00                 0.00   \n",
       "150         République arabe syrienne  2017  17095678.00                 0.00   \n",
       "154  République démocratique du Congo  2017  81398764.00                 0.00   \n",
       "175                           Somalie  2017  14589179.00                 0.00   \n",
       "176                            Soudan  2017  40813397.00           5000000.00   \n",
       "177                     Soudan du Sud  2017  10910763.00                 0.00   \n",
       "200                             Yémen  2017  27834819.00                 0.00   \n",
       "\n",
       "     Proportion_sous_nutrition  \n",
       "16                        0.14  \n",
       "61                        0.20  \n",
       "96                        0.23  \n",
       "127                       0.00  \n",
       "150                       0.00  \n",
       "154                       0.00  \n",
       "175                       0.00  \n",
       "176                       0.12  \n",
       "177                       0.00  \n",
       "200                       0.00  "
      ]
     },
     "execution_count": 71,
     "metadata": {},
     "output_type": "execute_result"
    }
   ],
   "source": [
    "# Affichage de la proportion de la population en sous-nutrition des 10 pays les plus bénéficiés de l'aide alimentaire \n",
    "pays_aide_les_plus = list(aide_alimentaire_top_10['Zone'])\n",
    "pop_sous_nutrition.loc [pop_sous_nutrition['Zone'].isin(pays_aide_les_plus)]"
   ]
  },
  {
   "cell_type": "markdown",
   "id": "63de7757",
   "metadata": {},
   "source": [
    "Parmi les 10 pays les plus bénéficiés de l'aide alimentaire entre 2013-2016, il y en a 6 qui réussissent à mettre le taux de la population en sous-nutrition en 0 en 2017. L'aide alimentaire a donc un impact positive sur le taux de la population en sous-nutrition."
   ]
  },
  {
   "cell_type": "code",
   "execution_count": 72,
   "id": "0db94fba",
   "metadata": {},
   "outputs": [
    {
     "data": {
      "text/html": [
       "<div>\n",
       "<style scoped>\n",
       "    .dataframe tbody tr th:only-of-type {\n",
       "        vertical-align: middle;\n",
       "    }\n",
       "\n",
       "    .dataframe tbody tr th {\n",
       "        vertical-align: top;\n",
       "    }\n",
       "\n",
       "    .dataframe thead th {\n",
       "        text-align: right;\n",
       "    }\n",
       "</style>\n",
       "<table border=\"1\" class=\"dataframe\">\n",
       "  <thead>\n",
       "    <tr style=\"text-align: right;\">\n",
       "      <th></th>\n",
       "      <th>Zone</th>\n",
       "      <th>Valeur(kg)</th>\n",
       "    </tr>\n",
       "  </thead>\n",
       "  <tbody>\n",
       "    <tr>\n",
       "      <th>10</th>\n",
       "      <td>Tchad</td>\n",
       "      <td>267966000</td>\n",
       "    </tr>\n",
       "    <tr>\n",
       "      <th>12</th>\n",
       "      <td>République populaire démocratique de Corée</td>\n",
       "      <td>187412000</td>\n",
       "    </tr>\n",
       "    <tr>\n",
       "      <th>13</th>\n",
       "      <td>Afghanistan</td>\n",
       "      <td>185452000</td>\n",
       "    </tr>\n",
       "    <tr>\n",
       "      <th>18</th>\n",
       "      <td>Haïti</td>\n",
       "      <td>116450000</td>\n",
       "    </tr>\n",
       "    <tr>\n",
       "      <th>21</th>\n",
       "      <td>Madagascar</td>\n",
       "      <td>96678000</td>\n",
       "    </tr>\n",
       "    <tr>\n",
       "      <th>31</th>\n",
       "      <td>Mozambique</td>\n",
       "      <td>58612000</td>\n",
       "    </tr>\n",
       "    <tr>\n",
       "      <th>48</th>\n",
       "      <td>Libéria</td>\n",
       "      <td>19846000</td>\n",
       "    </tr>\n",
       "    <tr>\n",
       "      <th>54</th>\n",
       "      <td>Rwanda</td>\n",
       "      <td>11408000</td>\n",
       "    </tr>\n",
       "    <tr>\n",
       "      <th>55</th>\n",
       "      <td>Lesotho</td>\n",
       "      <td>10624000</td>\n",
       "    </tr>\n",
       "    <tr>\n",
       "      <th>73</th>\n",
       "      <td>Timor-Leste</td>\n",
       "      <td>116000</td>\n",
       "    </tr>\n",
       "  </tbody>\n",
       "</table>\n",
       "</div>"
      ],
      "text/plain": [
       "                                          Zone  Valeur(kg)\n",
       "10                                       Tchad   267966000\n",
       "12  République populaire démocratique de Corée   187412000\n",
       "13                                 Afghanistan   185452000\n",
       "18                                       Haïti   116450000\n",
       "21                                  Madagascar    96678000\n",
       "31                                  Mozambique    58612000\n",
       "48                                     Libéria    19846000\n",
       "54                                      Rwanda    11408000\n",
       "55                                     Lesotho    10624000\n",
       "73                                 Timor-Leste      116000"
      ]
     },
     "execution_count": 72,
     "metadata": {},
     "output_type": "execute_result"
    }
   ],
   "source": [
    "# Affichage du classement de l'aide alimentaire des 10 pays dont leur taux de population en sous-nutrition sont les plus forts en 2017 \n",
    "pays_taux_les_plus = list(pays_sous_nutrition['Zone'])\n",
    "aide_alimentaire_pays.loc[aide_alimentaire_pays['Zone'].isin(pays_taux_les_plus)]"
   ]
  },
  {
   "cell_type": "markdown",
   "id": "333f9cea",
   "metadata": {},
   "source": [
    "En regardant le classement du bénéfice d'aide alimentaire des 10 premiers pays en difficulté de sous-nutrition, les pays comme Rwanda (35.47%), Lesotho (35.86%) et Timor-Leste (32.17%), ils ne sont pas bénéficiés de l'aide alimentaire qui correspondent à leur besoin entre 2013-2016."
   ]
  },
  {
   "cell_type": "markdown",
   "id": "a361ce61",
   "metadata": {},
   "source": [
    "<div style=\"border: 1px solid RGB(0,150,250);\" >\n",
    "<h3 style=\"margin: auto; padding: 20px; color: RGB(0,150,250); \">3.8 - Evolution des 5 pays qui ont le plus bénéficiés de l'aide alimentaire entre 2013 et 2016</h3>\n",
    "</div>"
   ]
  },
  {
   "cell_type": "code",
   "execution_count": 73,
   "id": "d05b0d28",
   "metadata": {
    "tags": []
   },
   "outputs": [
    {
     "data": {
      "text/plain": [
       "['République arabe syrienne', 'Éthiopie', 'Yémen', 'Soudan du Sud', 'Soudan']"
      ]
     },
     "execution_count": 73,
     "metadata": {},
     "output_type": "execute_result"
    }
   ],
   "source": [
    "# Lister les 5 pays les plus bénéficiés de l'aide alimentaire \n",
    "aide_alimentaire_top_5 = aide_alimentaire_df.groupby('Zone').sum().nlargest(5, 'Valeur(kg)').reset_index()\n",
    "liste_evolution_aide_top_5 = list(aide_alimentaire_top_5['Zone'].unique())\n",
    "liste_evolution_aide_top_5"
   ]
  },
  {
   "cell_type": "code",
   "execution_count": 74,
   "id": "09d55114",
   "metadata": {
    "tags": []
   },
   "outputs": [
    {
     "data": {
      "text/html": [
       "<div>\n",
       "<style scoped>\n",
       "    .dataframe tbody tr th:only-of-type {\n",
       "        vertical-align: middle;\n",
       "    }\n",
       "\n",
       "    .dataframe tbody tr th {\n",
       "        vertical-align: top;\n",
       "    }\n",
       "\n",
       "    .dataframe thead th {\n",
       "        text-align: right;\n",
       "    }\n",
       "</style>\n",
       "<table border=\"1\" class=\"dataframe\">\n",
       "  <thead>\n",
       "    <tr style=\"text-align: right;\">\n",
       "      <th></th>\n",
       "      <th>Zone</th>\n",
       "      <th>Année</th>\n",
       "      <th>Produit</th>\n",
       "      <th>Valeur(kg)</th>\n",
       "    </tr>\n",
       "  </thead>\n",
       "  <tbody>\n",
       "    <tr>\n",
       "      <th>0</th>\n",
       "      <td>Afghanistan</td>\n",
       "      <td>2013</td>\n",
       "      <td>Autres non-céréalesBlé et FarinCéréalesFruits ...</td>\n",
       "      <td>128238000</td>\n",
       "    </tr>\n",
       "    <tr>\n",
       "      <th>1</th>\n",
       "      <td>Afghanistan</td>\n",
       "      <td>2014</td>\n",
       "      <td>Autres non-céréalesBlé et FarinCéréalesHuiles ...</td>\n",
       "      <td>57214000</td>\n",
       "    </tr>\n",
       "    <tr>\n",
       "      <th>2</th>\n",
       "      <td>Algérie</td>\n",
       "      <td>2013</td>\n",
       "      <td>Autres non-céréalesCéréalesCéréales Secondaire...</td>\n",
       "      <td>35234000</td>\n",
       "    </tr>\n",
       "    <tr>\n",
       "      <th>3</th>\n",
       "      <td>Algérie</td>\n",
       "      <td>2014</td>\n",
       "      <td>Autres non-céréalesCéréalesCéréales Secondaire...</td>\n",
       "      <td>18980000</td>\n",
       "    </tr>\n",
       "    <tr>\n",
       "      <th>4</th>\n",
       "      <td>Algérie</td>\n",
       "      <td>2015</td>\n",
       "      <td>Autres non-céréalesCéréalesCéréales Secondaire...</td>\n",
       "      <td>17424000</td>\n",
       "    </tr>\n",
       "  </tbody>\n",
       "</table>\n",
       "</div>"
      ],
      "text/plain": [
       "          Zone Année                                            Produit  \\\n",
       "0  Afghanistan  2013  Autres non-céréalesBlé et FarinCéréalesFruits ...   \n",
       "1  Afghanistan  2014  Autres non-céréalesBlé et FarinCéréalesHuiles ...   \n",
       "2      Algérie  2013  Autres non-céréalesCéréalesCéréales Secondaire...   \n",
       "3      Algérie  2014  Autres non-céréalesCéréalesCéréales Secondaire...   \n",
       "4      Algérie  2015  Autres non-céréalesCéréalesCéréales Secondaire...   \n",
       "\n",
       "   Valeur(kg)  \n",
       "0   128238000  \n",
       "1    57214000  \n",
       "2    35234000  \n",
       "3    18980000  \n",
       "4    17424000  "
      ]
     },
     "execution_count": 74,
     "metadata": {},
     "output_type": "execute_result"
    }
   ],
   "source": [
    "# Création du dataframe sur l'aide alimentaire groupé par la zone et l'année\n",
    "aide_alimentaire_evolution = aide_alimentaire_df.groupby(['Zone', 'Année']).sum().reset_index()\n",
    "aide_alimentaire_evolution.head()"
   ]
  },
  {
   "cell_type": "code",
   "execution_count": 75,
   "id": "41612dbd",
   "metadata": {
    "tags": []
   },
   "outputs": [
    {
     "data": {
      "text/html": [
       "<div>\n",
       "<style scoped>\n",
       "    .dataframe tbody tr th:only-of-type {\n",
       "        vertical-align: middle;\n",
       "    }\n",
       "\n",
       "    .dataframe tbody tr th {\n",
       "        vertical-align: top;\n",
       "    }\n",
       "\n",
       "    .dataframe thead th {\n",
       "        text-align: right;\n",
       "    }\n",
       "</style>\n",
       "<table border=\"1\" class=\"dataframe\">\n",
       "  <thead>\n",
       "    <tr style=\"text-align: right;\">\n",
       "      <th></th>\n",
       "      <th></th>\n",
       "      <th>Produit</th>\n",
       "      <th>Valeur(kg)</th>\n",
       "    </tr>\n",
       "    <tr>\n",
       "      <th>Zone</th>\n",
       "      <th>Année</th>\n",
       "      <th></th>\n",
       "      <th></th>\n",
       "    </tr>\n",
       "  </thead>\n",
       "  <tbody>\n",
       "    <tr>\n",
       "      <th rowspan=\"4\" valign=\"top\">République arabe syrienne</th>\n",
       "      <th>2013</th>\n",
       "      <td>Autres non-céréalesBlé et FarinBulgurFarEntCér...</td>\n",
       "      <td>563566000</td>\n",
       "    </tr>\n",
       "    <tr>\n",
       "      <th>2014</th>\n",
       "      <td>Autres non-céréalesBlé et FarinBulgurFarEntCér...</td>\n",
       "      <td>651870000</td>\n",
       "    </tr>\n",
       "    <tr>\n",
       "      <th>2015</th>\n",
       "      <td>Autres non-céréalesBlé et FarinBulgurFarEntCér...</td>\n",
       "      <td>524949000</td>\n",
       "    </tr>\n",
       "    <tr>\n",
       "      <th>2016</th>\n",
       "      <td>Blé et FarinBulgurFarEntCéréalesLégumineuses S...</td>\n",
       "      <td>118558000</td>\n",
       "    </tr>\n",
       "    <tr>\n",
       "      <th rowspan=\"3\" valign=\"top\">Soudan</th>\n",
       "      <th>2013</th>\n",
       "      <td>CéréalesCéréales SecondairesHuiles végétalesLa...</td>\n",
       "      <td>330230000</td>\n",
       "    </tr>\n",
       "    <tr>\n",
       "      <th>2014</th>\n",
       "      <td>Autres non-céréalesBlé et FarinCéréalesCéréale...</td>\n",
       "      <td>321904000</td>\n",
       "    </tr>\n",
       "    <tr>\n",
       "      <th>2015</th>\n",
       "      <td>Autres non-céréalesBlé et FarinCéréalesHuiles ...</td>\n",
       "      <td>17650000</td>\n",
       "    </tr>\n",
       "    <tr>\n",
       "      <th rowspan=\"3\" valign=\"top\">Soudan du Sud</th>\n",
       "      <th>2013</th>\n",
       "      <td>Autres non-céréalesCéréalesCéréales Secondaire...</td>\n",
       "      <td>196330000</td>\n",
       "    </tr>\n",
       "    <tr>\n",
       "      <th>2014</th>\n",
       "      <td>Autres non-céréalesCéréalesCéréales Secondaire...</td>\n",
       "      <td>450610000</td>\n",
       "    </tr>\n",
       "    <tr>\n",
       "      <th>2015</th>\n",
       "      <td>Autres non-céréalesCéréalesCéréales Secondaire...</td>\n",
       "      <td>48308000</td>\n",
       "    </tr>\n",
       "    <tr>\n",
       "      <th rowspan=\"4\" valign=\"top\">Yémen</th>\n",
       "      <th>2013</th>\n",
       "      <td>Autres non-céréalesBlé et FarinCéréalesHuiles ...</td>\n",
       "      <td>264764000</td>\n",
       "    </tr>\n",
       "    <tr>\n",
       "      <th>2014</th>\n",
       "      <td>Autres non-céréalesBlé et FarinCéréalesHuiles ...</td>\n",
       "      <td>103840000</td>\n",
       "    </tr>\n",
       "    <tr>\n",
       "      <th>2015</th>\n",
       "      <td>Autres non-céréalesBlé et FarinCéréalesHuiles ...</td>\n",
       "      <td>372306000</td>\n",
       "    </tr>\n",
       "    <tr>\n",
       "      <th>2016</th>\n",
       "      <td>Autres non-céréalesBlé et FarinCéréalesFruits ...</td>\n",
       "      <td>465574000</td>\n",
       "    </tr>\n",
       "    <tr>\n",
       "      <th rowspan=\"3\" valign=\"top\">Éthiopie</th>\n",
       "      <th>2013</th>\n",
       "      <td>Autres non-céréalesBlé et FarinBulgurFarEntCér...</td>\n",
       "      <td>591404000</td>\n",
       "    </tr>\n",
       "    <tr>\n",
       "      <th>2014</th>\n",
       "      <td>Autres non-céréalesBlé et FarinBulgurFarEntCér...</td>\n",
       "      <td>586624000</td>\n",
       "    </tr>\n",
       "    <tr>\n",
       "      <th>2015</th>\n",
       "      <td>Autres non-céréalesBlé et FarinCéréalesCéréale...</td>\n",
       "      <td>203266000</td>\n",
       "    </tr>\n",
       "  </tbody>\n",
       "</table>\n",
       "</div>"
      ],
      "text/plain": [
       "                                                                           Produit  \\\n",
       "Zone                      Année                                                      \n",
       "République arabe syrienne 2013   Autres non-céréalesBlé et FarinBulgurFarEntCér...   \n",
       "                          2014   Autres non-céréalesBlé et FarinBulgurFarEntCér...   \n",
       "                          2015   Autres non-céréalesBlé et FarinBulgurFarEntCér...   \n",
       "                          2016   Blé et FarinBulgurFarEntCéréalesLégumineuses S...   \n",
       "Soudan                    2013   CéréalesCéréales SecondairesHuiles végétalesLa...   \n",
       "                          2014   Autres non-céréalesBlé et FarinCéréalesCéréale...   \n",
       "                          2015   Autres non-céréalesBlé et FarinCéréalesHuiles ...   \n",
       "Soudan du Sud             2013   Autres non-céréalesCéréalesCéréales Secondaire...   \n",
       "                          2014   Autres non-céréalesCéréalesCéréales Secondaire...   \n",
       "                          2015   Autres non-céréalesCéréalesCéréales Secondaire...   \n",
       "Yémen                     2013   Autres non-céréalesBlé et FarinCéréalesHuiles ...   \n",
       "                          2014   Autres non-céréalesBlé et FarinCéréalesHuiles ...   \n",
       "                          2015   Autres non-céréalesBlé et FarinCéréalesHuiles ...   \n",
       "                          2016   Autres non-céréalesBlé et FarinCéréalesFruits ...   \n",
       "Éthiopie                  2013   Autres non-céréalesBlé et FarinBulgurFarEntCér...   \n",
       "                          2014   Autres non-céréalesBlé et FarinBulgurFarEntCér...   \n",
       "                          2015   Autres non-céréalesBlé et FarinCéréalesCéréale...   \n",
       "\n",
       "                                 Valeur(kg)  \n",
       "Zone                      Année              \n",
       "République arabe syrienne 2013    563566000  \n",
       "                          2014    651870000  \n",
       "                          2015    524949000  \n",
       "                          2016    118558000  \n",
       "Soudan                    2013    330230000  \n",
       "                          2014    321904000  \n",
       "                          2015     17650000  \n",
       "Soudan du Sud             2013    196330000  \n",
       "                          2014    450610000  \n",
       "                          2015     48308000  \n",
       "Yémen                     2013    264764000  \n",
       "                          2014    103840000  \n",
       "                          2015    372306000  \n",
       "                          2016    465574000  \n",
       "Éthiopie                  2013    591404000  \n",
       "                          2014    586624000  \n",
       "                          2015    203266000  "
      ]
     },
     "execution_count": 75,
     "metadata": {},
     "output_type": "execute_result"
    }
   ],
   "source": [
    "# Affichage les aides alimentaires des 5 pays par année\n",
    "aide_alimentaire_evolution_top_5 = aide_alimentaire_evolution.loc[aide_alimentaire_evolution['Zone'].isin(liste_evolution_aide_top_5)]\n",
    "aide_alimentaire_evolution_top_5.groupby(['Zone','Année']).sum()"
   ]
  },
  {
   "cell_type": "code",
   "execution_count": 76,
   "id": "5680e72d",
   "metadata": {
    "tags": []
   },
   "outputs": [
    {
     "name": "stderr",
     "output_type": "stream",
     "text": [
      "c:\\Users\\lzz31\\anaconda3\\Lib\\site-packages\\seaborn\\_oldcore.py:1119: FutureWarning: use_inf_as_na option is deprecated and will be removed in a future version. Convert inf values to NaN before operating instead.\n",
      "  with pd.option_context('mode.use_inf_as_na', True):\n",
      "c:\\Users\\lzz31\\anaconda3\\Lib\\site-packages\\seaborn\\_oldcore.py:1119: FutureWarning: use_inf_as_na option is deprecated and will be removed in a future version. Convert inf values to NaN before operating instead.\n",
      "  with pd.option_context('mode.use_inf_as_na', True):\n",
      "C:\\Users\\lzz31\\AppData\\Local\\Temp\\ipykernel_18796\\3050362932.py:6: UserWarning: set_ticklabels() should only be used with a fixed number of ticks, i.e. after set_ticks() or using a FixedLocator.\n",
      "  g.set_yticklabels(['{:,.0f}'.format(y) + 'M' for y in g.get_yticks()/1000000])\n"
     ]
    },
    {
     "data": {
      "image/png": "[encoded data removed]",
      "text/plain": [
       "<Figure size 1000x500 with 1 Axes>"
      ]
     },
     "metadata": {},
     "output_type": "display_data"
    }
   ],
   "source": [
    "# Création du graphique linéaire pour afficher l'évolution de l'aide alimentaire des 5 pays \n",
    "plt.figure(figsize=(10,5))\n",
    "plt.rcParams.update({'font.size':9})\n",
    "sns.set_style('ticks')\n",
    "g = sns.lineplot(data=aide_alimentaire_evolution_top_5, x= 'Année', y='Valeur(kg)', palette='Set2', hue='Zone', marker='o')\n",
    "g.set_yticklabels(['{:,.0f}'.format(y) + 'M' for y in g.get_yticks()/1000000])\n",
    "plt.xlabel('Années', labelpad= 10)\n",
    "plt.ylabel('Aides alimentaire / kg', labelpad= 10)\n",
    "plt.title('Evolution de l\\'aide alimentaire des 5 pays le plus bénéficié entre 2013 et 2016', pad=20)\n",
    "plt.grid(True)\n",
    "plt.legend(bbox_to_anchor = (1.3, 1), loc='upper right')\n",
    "sns.despine()"
   ]
  },
  {
   "cell_type": "markdown",
   "id": "fedc58c0",
   "metadata": {},
   "source": [
    "Parmi les 5 pays les plus bénéficiés de l'aide alimentaire entre 2013-2016, La République arabe syrienne reçoit le plus d'aide, les aides alimentaires du Soudan, du Soudan du Sud et de l'Éthiopie se sont arrêtées en 2016, le Yémen est le seul pays dont son aide alimentaire augmente en 2016.  "
   ]
  },
  {
   "cell_type": "markdown",
   "id": "bd392dac",
   "metadata": {},
   "source": [
    "<div style=\"border: 1px solid RGB(0,150,250);\" >\n",
    "<h3 style=\"margin: auto; padding: 20px; color: RGB(0,150,250); \">3.9 - Pays avec le moins de disponibilité par habitant</h3>\n",
    "</div>"
   ]
  },
  {
   "cell_type": "code",
   "execution_count": 77,
   "id": "fb3a378b",
   "metadata": {
    "tags": []
   },
   "outputs": [
    {
     "data": {
      "text/html": [
       "<div>\n",
       "<style scoped>\n",
       "    .dataframe tbody tr th:only-of-type {\n",
       "        vertical-align: middle;\n",
       "    }\n",
       "\n",
       "    .dataframe tbody tr th {\n",
       "        vertical-align: top;\n",
       "    }\n",
       "\n",
       "    .dataframe thead th {\n",
       "        text-align: right;\n",
       "    }\n",
       "</style>\n",
       "<table border=\"1\" class=\"dataframe\">\n",
       "  <thead>\n",
       "    <tr style=\"text-align: right;\">\n",
       "      <th></th>\n",
       "      <th>Zone</th>\n",
       "      <th>Disponibilité alimentaire (Kcal/personne/jour)</th>\n",
       "    </tr>\n",
       "  </thead>\n",
       "  <tbody>\n",
       "    <tr>\n",
       "      <th>0</th>\n",
       "      <td>Afghanistan</td>\n",
       "      <td>2087.00</td>\n",
       "    </tr>\n",
       "    <tr>\n",
       "      <th>1</th>\n",
       "      <td>Afrique du Sud</td>\n",
       "      <td>3020.00</td>\n",
       "    </tr>\n",
       "    <tr>\n",
       "      <th>2</th>\n",
       "      <td>Albanie</td>\n",
       "      <td>3188.00</td>\n",
       "    </tr>\n",
       "    <tr>\n",
       "      <th>3</th>\n",
       "      <td>Algérie</td>\n",
       "      <td>3293.00</td>\n",
       "    </tr>\n",
       "    <tr>\n",
       "      <th>4</th>\n",
       "      <td>Allemagne</td>\n",
       "      <td>3503.00</td>\n",
       "    </tr>\n",
       "  </tbody>\n",
       "</table>\n",
       "</div>"
      ],
      "text/plain": [
       "             Zone  Disponibilité alimentaire (Kcal/personne/jour)\n",
       "0     Afghanistan                                         2087.00\n",
       "1  Afrique du Sud                                         3020.00\n",
       "2         Albanie                                         3188.00\n",
       "3         Algérie                                         3293.00\n",
       "4       Allemagne                                         3503.00"
      ]
     },
     "execution_count": 77,
     "metadata": {},
     "output_type": "execute_result"
    }
   ],
   "source": [
    "# Calcul de la disponibilité en kcal par personne par jour par pays\n",
    "dispo_alimentaire_kcal_pays = pop_dispo_alimentaire.groupby(['Zone']).sum()\n",
    "dispo_alimentaire_kcal_pays.reset_index(inplace=True)\n",
    "dispo_alimentaire_kcal_pays = dispo_alimentaire_kcal_pays[['Zone','Disponibilité alimentaire (Kcal/personne/jour)']]\n",
    "dispo_alimentaire_kcal_pays.head()"
   ]
  },
  {
   "cell_type": "code",
   "execution_count": 78,
   "id": "70c0f689",
   "metadata": {
    "tags": []
   },
   "outputs": [
    {
     "data": {
      "text/html": [
       "<div>\n",
       "<style scoped>\n",
       "    .dataframe tbody tr th:only-of-type {\n",
       "        vertical-align: middle;\n",
       "    }\n",
       "\n",
       "    .dataframe tbody tr th {\n",
       "        vertical-align: top;\n",
       "    }\n",
       "\n",
       "    .dataframe thead th {\n",
       "        text-align: right;\n",
       "    }\n",
       "</style>\n",
       "<table border=\"1\" class=\"dataframe\">\n",
       "  <thead>\n",
       "    <tr style=\"text-align: right;\">\n",
       "      <th></th>\n",
       "      <th>Zone</th>\n",
       "      <th>Disponibilité alimentaire (Kcal/personne/jour)</th>\n",
       "    </tr>\n",
       "  </thead>\n",
       "  <tbody>\n",
       "    <tr>\n",
       "      <th>127</th>\n",
       "      <td>République centrafricaine</td>\n",
       "      <td>1879.00</td>\n",
       "    </tr>\n",
       "    <tr>\n",
       "      <th>164</th>\n",
       "      <td>Zambie</td>\n",
       "      <td>1924.00</td>\n",
       "    </tr>\n",
       "    <tr>\n",
       "      <th>91</th>\n",
       "      <td>Madagascar</td>\n",
       "      <td>2056.00</td>\n",
       "    </tr>\n",
       "    <tr>\n",
       "      <th>0</th>\n",
       "      <td>Afghanistan</td>\n",
       "      <td>2087.00</td>\n",
       "    </tr>\n",
       "    <tr>\n",
       "      <th>65</th>\n",
       "      <td>Haïti</td>\n",
       "      <td>2089.00</td>\n",
       "    </tr>\n",
       "    <tr>\n",
       "      <th>132</th>\n",
       "      <td>République populaire démocratique de Corée</td>\n",
       "      <td>2093.00</td>\n",
       "    </tr>\n",
       "    <tr>\n",
       "      <th>150</th>\n",
       "      <td>Tchad</td>\n",
       "      <td>2109.00</td>\n",
       "    </tr>\n",
       "    <tr>\n",
       "      <th>165</th>\n",
       "      <td>Zimbabwe</td>\n",
       "      <td>2113.00</td>\n",
       "    </tr>\n",
       "    <tr>\n",
       "      <th>114</th>\n",
       "      <td>Ouganda</td>\n",
       "      <td>2126.00</td>\n",
       "    </tr>\n",
       "    <tr>\n",
       "      <th>152</th>\n",
       "      <td>Timor-Leste</td>\n",
       "      <td>2129.00</td>\n",
       "    </tr>\n",
       "  </tbody>\n",
       "</table>\n",
       "</div>"
      ],
      "text/plain": [
       "                                           Zone  \\\n",
       "127                   République centrafricaine   \n",
       "164                                      Zambie   \n",
       "91                                   Madagascar   \n",
       "0                                   Afghanistan   \n",
       "65                                        Haïti   \n",
       "132  République populaire démocratique de Corée   \n",
       "150                                       Tchad   \n",
       "165                                    Zimbabwe   \n",
       "114                                     Ouganda   \n",
       "152                                 Timor-Leste   \n",
       "\n",
       "     Disponibilité alimentaire (Kcal/personne/jour)  \n",
       "127                                         1879.00  \n",
       "164                                         1924.00  \n",
       "91                                          2056.00  \n",
       "0                                           2087.00  \n",
       "65                                          2089.00  \n",
       "132                                         2093.00  \n",
       "150                                         2109.00  \n",
       "165                                         2113.00  \n",
       "114                                         2126.00  \n",
       "152                                         2129.00  "
      ]
     },
     "execution_count": 78,
     "metadata": {},
     "output_type": "execute_result"
    }
   ],
   "source": [
    "# Affichage des 10 pays qui ont le moins de dispo alimentaire par personne \n",
    "les_moins_dispo_alimentaire_10 = dispo_alimentaire_kcal_pays.nsmallest(10, 'Disponibilité alimentaire (Kcal/personne/jour)')\n",
    "les_moins_dispo_alimentaire_10"
   ]
  },
  {
   "cell_type": "markdown",
   "id": "2553ed12",
   "metadata": {
    "tags": []
   },
   "source": [
    "<div style=\"border: 1px solid RGB(0,150,250);\" >\n",
    "<h3 style=\"margin: auto; padding: 20px; color: RGB(0,150,250); \">3.10 - Pays avec le plus de disponibilité par habitant</h3>\n",
    "</div>"
   ]
  },
  {
   "cell_type": "code",
   "execution_count": 79,
   "id": "63e835c6",
   "metadata": {
    "tags": []
   },
   "outputs": [
    {
     "data": {
      "text/html": [
       "<div>\n",
       "<style scoped>\n",
       "    .dataframe tbody tr th:only-of-type {\n",
       "        vertical-align: middle;\n",
       "    }\n",
       "\n",
       "    .dataframe tbody tr th {\n",
       "        vertical-align: top;\n",
       "    }\n",
       "\n",
       "    .dataframe thead th {\n",
       "        text-align: right;\n",
       "    }\n",
       "</style>\n",
       "<table border=\"1\" class=\"dataframe\">\n",
       "  <thead>\n",
       "    <tr style=\"text-align: right;\">\n",
       "      <th></th>\n",
       "      <th>Zone</th>\n",
       "      <th>Disponibilité alimentaire (Kcal/personne/jour)</th>\n",
       "    </tr>\n",
       "  </thead>\n",
       "  <tbody>\n",
       "    <tr>\n",
       "      <th>11</th>\n",
       "      <td>Autriche</td>\n",
       "      <td>3770.00</td>\n",
       "    </tr>\n",
       "    <tr>\n",
       "      <th>16</th>\n",
       "      <td>Belgique</td>\n",
       "      <td>3737.00</td>\n",
       "    </tr>\n",
       "    <tr>\n",
       "      <th>157</th>\n",
       "      <td>Turquie</td>\n",
       "      <td>3708.00</td>\n",
       "    </tr>\n",
       "    <tr>\n",
       "      <th>169</th>\n",
       "      <td>États-Unis d'Amérique</td>\n",
       "      <td>3682.00</td>\n",
       "    </tr>\n",
       "    <tr>\n",
       "      <th>74</th>\n",
       "      <td>Israël</td>\n",
       "      <td>3610.00</td>\n",
       "    </tr>\n",
       "    <tr>\n",
       "      <th>72</th>\n",
       "      <td>Irlande</td>\n",
       "      <td>3602.00</td>\n",
       "    </tr>\n",
       "    <tr>\n",
       "      <th>75</th>\n",
       "      <td>Italie</td>\n",
       "      <td>3578.00</td>\n",
       "    </tr>\n",
       "    <tr>\n",
       "      <th>89</th>\n",
       "      <td>Luxembourg</td>\n",
       "      <td>3540.00</td>\n",
       "    </tr>\n",
       "    <tr>\n",
       "      <th>166</th>\n",
       "      <td>Égypte</td>\n",
       "      <td>3518.00</td>\n",
       "    </tr>\n",
       "    <tr>\n",
       "      <th>4</th>\n",
       "      <td>Allemagne</td>\n",
       "      <td>3503.00</td>\n",
       "    </tr>\n",
       "  </tbody>\n",
       "</table>\n",
       "</div>"
      ],
      "text/plain": [
       "                      Zone  Disponibilité alimentaire (Kcal/personne/jour)\n",
       "11                Autriche                                         3770.00\n",
       "16                Belgique                                         3737.00\n",
       "157                Turquie                                         3708.00\n",
       "169  États-Unis d'Amérique                                         3682.00\n",
       "74                  Israël                                         3610.00\n",
       "72                 Irlande                                         3602.00\n",
       "75                  Italie                                         3578.00\n",
       "89              Luxembourg                                         3540.00\n",
       "166                 Égypte                                         3518.00\n",
       "4                Allemagne                                         3503.00"
      ]
     },
     "execution_count": 79,
     "metadata": {},
     "output_type": "execute_result"
    }
   ],
   "source": [
    "# Affichage des 10 pays qui ont le plus de dispo alimentaire par personne \n",
    "les_plus_dispo_alimentaire_10 = dispo_alimentaire_kcal_pays.nlargest(10, 'Disponibilité alimentaire (Kcal/personne/jour)')\n",
    "les_plus_dispo_alimentaire_10"
   ]
  },
  {
   "cell_type": "code",
   "execution_count": 80,
   "id": "13668db3",
   "metadata": {
    "tags": []
   },
   "outputs": [
    {
     "data": {
      "image/png": "[encoded data removed]",
      "text/plain": [
       "<Figure size 1800x1000 with 2 Axes>"
      ]
     },
     "metadata": {},
     "output_type": "display_data"
    }
   ],
   "source": [
    "# Affichage du graphique sur les 20 pays qui ont les moins et les plus de disponibilité par habitant \n",
    "plt.rcParams.update({'font.size':13})\n",
    "sns.set_style('whitegrid',{'grid.color':'.5'})\n",
    "fig, axarr = plt.subplots(2, figsize=(18,10), sharex=True)\n",
    "ax1 = sns.barplot(y='Zone', x='Disponibilité alimentaire (Kcal/personne/jour)', data=les_moins_dispo_alimentaire_10, palette='Set3', ax=axarr[0])\n",
    "ax1.set_title('Pays avec le moins de disponibilité par habitant', pad= 15)\n",
    "ax2 = sns.barplot(y='Zone', x='Disponibilité alimentaire (Kcal/personne/jour)', data=les_plus_dispo_alimentaire_10, palette='Set2', ax=axarr[1])\n",
    "ax2 = plt.title('Pays avec le plus de disponibilité par habitant', pad= 15)\n",
    "sns.despine()"
   ]
  },
  {
   "cell_type": "markdown",
   "id": "94430bee",
   "metadata": {},
   "source": [
    "Parmi les pays ayant le moins de disponibilité par habitant, il y a 6 pays africains ; pour les pays ayant le plus de disponibilité par habitant, il y en a 6 qui sont européens. L’inégalité de la disponibilité alimentaire a une dimension géographique."
   ]
  },
  {
   "cell_type": "markdown",
   "id": "58d7248b",
   "metadata": {},
   "source": [
    "<div style=\"border: 1px solid RGB(0,150,250);\" >\n",
    "<h3 style=\"margin: auto; padding: 20px; color: RGB(0,150,250); \">3.11 - Exemple de la Thaïlande pour le Manioc</h3>\n",
    "</div>"
   ]
  },
  {
   "cell_type": "code",
   "execution_count": 81,
   "id": "ec9ca912",
   "metadata": {},
   "outputs": [
    {
     "data": {
      "text/html": [
       "<div>\n",
       "<style scoped>\n",
       "    .dataframe tbody tr th:only-of-type {\n",
       "        vertical-align: middle;\n",
       "    }\n",
       "\n",
       "    .dataframe tbody tr th {\n",
       "        vertical-align: top;\n",
       "    }\n",
       "\n",
       "    .dataframe thead th {\n",
       "        text-align: right;\n",
       "    }\n",
       "</style>\n",
       "<table border=\"1\" class=\"dataframe\">\n",
       "  <thead>\n",
       "    <tr style=\"text-align: right;\">\n",
       "      <th></th>\n",
       "      <th>Zone</th>\n",
       "      <th>Année</th>\n",
       "      <th>Population</th>\n",
       "      <th>Sous_nutrition_2017</th>\n",
       "      <th>Proportion_sous_nutrition</th>\n",
       "    </tr>\n",
       "  </thead>\n",
       "  <tbody>\n",
       "    <tr>\n",
       "      <th>185</th>\n",
       "      <td>Thaïlande</td>\n",
       "      <td>2017</td>\n",
       "      <td>69209810.00</td>\n",
       "      <td>6250000.00</td>\n",
       "      <td>0.09</td>\n",
       "    </tr>\n",
       "  </tbody>\n",
       "</table>\n",
       "</div>"
      ],
      "text/plain": [
       "          Zone Année  Population  Sous_nutrition_2017  \\\n",
       "185  Thaïlande  2017 69209810.00           6250000.00   \n",
       "\n",
       "     Proportion_sous_nutrition  \n",
       "185                       0.09  "
      ]
     },
     "execution_count": 81,
     "metadata": {},
     "output_type": "execute_result"
    }
   ],
   "source": [
    "# Affichage de la proportion de la population en sous-nutrition en Thaïlande \n",
    "pop_sous_nutrition.loc[pop_sous_nutrition['Zone'] == 'Thaïlande']"
   ]
  },
  {
   "cell_type": "code",
   "execution_count": 82,
   "id": "f19cd96e",
   "metadata": {},
   "outputs": [
    {
     "name": "stdout",
     "output_type": "stream",
     "text": [
      "83.4%\n"
     ]
    }
   ],
   "source": [
    "# Calcule de la proportion exportée en fonction de la production\n",
    "manioc_thaïlande = vegetaux.loc[(vegetaux['Produit']=='Manioc')&(vegetaux['Zone']=='Thaïlande')]\n",
    "ratio_expo_prod = manioc_thaïlande['Exportations - Quantité'].sum() / manioc_thaïlande['Production'].sum()\n",
    "print('{:.1%}'.format(ratio_expo_prod))"
   ]
  },
  {
   "cell_type": "code",
   "execution_count": 83,
   "id": "aa240cbf",
   "metadata": {},
   "outputs": [
    {
     "data": {
      "text/html": [
       "<div>\n",
       "<style scoped>\n",
       "    .dataframe tbody tr th:only-of-type {\n",
       "        vertical-align: middle;\n",
       "    }\n",
       "\n",
       "    .dataframe tbody tr th {\n",
       "        vertical-align: top;\n",
       "    }\n",
       "\n",
       "    .dataframe thead th {\n",
       "        text-align: right;\n",
       "    }\n",
       "</style>\n",
       "<table border=\"1\" class=\"dataframe\">\n",
       "  <thead>\n",
       "    <tr style=\"text-align: right;\">\n",
       "      <th></th>\n",
       "      <th>Zone</th>\n",
       "      <th>Disponibilité alimentaire (Kcal/personne/jour)</th>\n",
       "    </tr>\n",
       "  </thead>\n",
       "  <tbody>\n",
       "    <tr>\n",
       "      <th>151</th>\n",
       "      <td>Thaïlande</td>\n",
       "      <td>2785.00</td>\n",
       "    </tr>\n",
       "  </tbody>\n",
       "</table>\n",
       "</div>"
      ],
      "text/plain": [
       "          Zone  Disponibilité alimentaire (Kcal/personne/jour)\n",
       "151  Thaïlande                                         2785.00"
      ]
     },
     "execution_count": 83,
     "metadata": {},
     "output_type": "execute_result"
    }
   ],
   "source": [
    "# Affichage de la disponibilité de calorie pour les habitants en Thaïlande\n",
    "dispo_alimentaire_kcal_pays[dispo_alimentaire_kcal_pays['Zone']=='Thaïlande']"
   ]
  },
  {
   "cell_type": "markdown",
   "id": "7fb22ff2",
   "metadata": {},
   "source": [
    "Pour rappel, on considère que le besoin nécessaire d'énergie pour un adult est de 2200 kcal/personne/jour. La disponibilité alimentaire en Thaïlande est 2785 kcal/personne/jour, cela dépasse largement le critère donné pour cette analyse. Pourtant il y a encore 9% de population en Thaïlande sont en état sous-nutrition. En parallèle, le manioc, comme une ressource alimentaire fondamentale en Thaïlande, dont 83.4% de sa production est pour l'exportation."
   ]
  },
  {
   "cell_type": "markdown",
   "id": "7de4e914",
   "metadata": {},
   "source": [
    "<div style=\"background-color: RGB(0,150,250);\" >\n",
    "<h2 style=\"margin: auto; padding: 20px; color:#fff; \">Etape 3 - Analyse complémentaires</h2>\n",
    "</div>"
   ]
  },
  {
   "cell_type": "markdown",
   "id": "ea8d8419",
   "metadata": {
    "tags": []
   },
   "source": [
    "<div style=\"border: 1px solid RGB(0,150,250);\" >\n",
    "<h3 style=\"margin: auto; padding: 20px; color: RGB(0,150,250); \">3.1 Comparaison entre les produits animaux et végétaux</h3>\n",
    "</div>"
   ]
  },
  {
   "cell_type": "code",
   "execution_count": 84,
   "id": "2a2d463a",
   "metadata": {
    "collapsed": true,
    "jupyter": {
     "outputs_hidden": true,
     "source_hidden": true
    },
    "tags": []
   },
   "outputs": [
    {
     "data": {
      "text/html": [
       "<div>\n",
       "<style scoped>\n",
       "    .dataframe tbody tr th:only-of-type {\n",
       "        vertical-align: middle;\n",
       "    }\n",
       "\n",
       "    .dataframe tbody tr th {\n",
       "        vertical-align: top;\n",
       "    }\n",
       "\n",
       "    .dataframe thead th {\n",
       "        text-align: right;\n",
       "    }\n",
       "</style>\n",
       "<table border=\"1\" class=\"dataframe\">\n",
       "  <thead>\n",
       "    <tr style=\"text-align: right;\">\n",
       "      <th></th>\n",
       "      <th>Zone</th>\n",
       "      <th>Année</th>\n",
       "      <th>Population</th>\n",
       "      <th>Produit</th>\n",
       "      <th>Origine</th>\n",
       "      <th>Aliments pour animaux</th>\n",
       "      <th>Autres Utilisations</th>\n",
       "      <th>Disponibilité alimentaire (Kcal/personne/jour)</th>\n",
       "      <th>Disponibilité alimentaire en quantité (kg/personne/an)</th>\n",
       "      <th>Disponibilité de matière grasse en quantité (g/personne/jour)</th>\n",
       "      <th>...</th>\n",
       "      <th>Disponibilité intérieure</th>\n",
       "      <th>Exportations - Quantité</th>\n",
       "      <th>Importations - Quantité</th>\n",
       "      <th>Nourriture</th>\n",
       "      <th>Pertes</th>\n",
       "      <th>Production</th>\n",
       "      <th>Semences</th>\n",
       "      <th>Traitement</th>\n",
       "      <th>Variation de stock</th>\n",
       "      <th>dispo_kcal</th>\n",
       "    </tr>\n",
       "  </thead>\n",
       "  <tbody>\n",
       "    <tr>\n",
       "      <th>0</th>\n",
       "      <td>Afghanistan</td>\n",
       "      <td>2017</td>\n",
       "      <td>36296113.00</td>\n",
       "      <td>Abats Comestible</td>\n",
       "      <td>animale</td>\n",
       "      <td>0.00</td>\n",
       "      <td>0.00</td>\n",
       "      <td>5.00</td>\n",
       "      <td>1.72</td>\n",
       "      <td>0.20</td>\n",
       "      <td>...</td>\n",
       "      <td>53000000.00</td>\n",
       "      <td>0.00</td>\n",
       "      <td>0.00</td>\n",
       "      <td>53000000.00</td>\n",
       "      <td>0.00</td>\n",
       "      <td>53000000.00</td>\n",
       "      <td>0.00</td>\n",
       "      <td>0.00</td>\n",
       "      <td>0.00</td>\n",
       "      <td>181480565.00</td>\n",
       "    </tr>\n",
       "    <tr>\n",
       "      <th>5</th>\n",
       "      <td>Afghanistan</td>\n",
       "      <td>2017</td>\n",
       "      <td>36296113.00</td>\n",
       "      <td>Beurre, Ghee</td>\n",
       "      <td>animale</td>\n",
       "      <td>0.00</td>\n",
       "      <td>0.00</td>\n",
       "      <td>23.00</td>\n",
       "      <td>1.17</td>\n",
       "      <td>2.61</td>\n",
       "      <td>...</td>\n",
       "      <td>36000000.00</td>\n",
       "      <td>0.00</td>\n",
       "      <td>0.00</td>\n",
       "      <td>36000000.00</td>\n",
       "      <td>0.00</td>\n",
       "      <td>36000000.00</td>\n",
       "      <td>0.00</td>\n",
       "      <td>0.00</td>\n",
       "      <td>0.00</td>\n",
       "      <td>834810599.00</td>\n",
       "    </tr>\n",
       "    <tr>\n",
       "      <th>11</th>\n",
       "      <td>Afghanistan</td>\n",
       "      <td>2017</td>\n",
       "      <td>36296113.00</td>\n",
       "      <td>Crème</td>\n",
       "      <td>animale</td>\n",
       "      <td>0.00</td>\n",
       "      <td>0.00</td>\n",
       "      <td>3.00</td>\n",
       "      <td>0.60</td>\n",
       "      <td>0.32</td>\n",
       "      <td>...</td>\n",
       "      <td>18000000.00</td>\n",
       "      <td>0.00</td>\n",
       "      <td>18000000.00</td>\n",
       "      <td>18000000.00</td>\n",
       "      <td>0.00</td>\n",
       "      <td>0.00</td>\n",
       "      <td>0.00</td>\n",
       "      <td>0.00</td>\n",
       "      <td>0.00</td>\n",
       "      <td>108888339.00</td>\n",
       "    </tr>\n",
       "    <tr>\n",
       "      <th>19</th>\n",
       "      <td>Afghanistan</td>\n",
       "      <td>2017</td>\n",
       "      <td>36296113.00</td>\n",
       "      <td>Graisses Animales Crue</td>\n",
       "      <td>animale</td>\n",
       "      <td>0.00</td>\n",
       "      <td>0.00</td>\n",
       "      <td>12.00</td>\n",
       "      <td>0.49</td>\n",
       "      <td>1.31</td>\n",
       "      <td>...</td>\n",
       "      <td>15000000.00</td>\n",
       "      <td>0.00</td>\n",
       "      <td>1000000.00</td>\n",
       "      <td>15000000.00</td>\n",
       "      <td>0.00</td>\n",
       "      <td>14000000.00</td>\n",
       "      <td>0.00</td>\n",
       "      <td>0.00</td>\n",
       "      <td>0.00</td>\n",
       "      <td>435553356.00</td>\n",
       "    </tr>\n",
       "    <tr>\n",
       "      <th>29</th>\n",
       "      <td>Afghanistan</td>\n",
       "      <td>2017</td>\n",
       "      <td>36296113.00</td>\n",
       "      <td>Lait - Excl Beurre</td>\n",
       "      <td>animale</td>\n",
       "      <td>123000000.00</td>\n",
       "      <td>0.00</td>\n",
       "      <td>100.00</td>\n",
       "      <td>62.23</td>\n",
       "      <td>5.19</td>\n",
       "      <td>...</td>\n",
       "      <td>2083000000.00</td>\n",
       "      <td>0.00</td>\n",
       "      <td>248000000.00</td>\n",
       "      <td>1901000000.00</td>\n",
       "      <td>58000000.00</td>\n",
       "      <td>1835000000.00</td>\n",
       "      <td>0.00</td>\n",
       "      <td>0.00</td>\n",
       "      <td>0.00</td>\n",
       "      <td>3629611300.00</td>\n",
       "    </tr>\n",
       "  </tbody>\n",
       "</table>\n",
       "<p>5 rows × 21 columns</p>\n",
       "</div>"
      ],
      "text/plain": [
       "           Zone Année  Population                 Produit  Origine  \\\n",
       "0   Afghanistan  2017 36296113.00        Abats Comestible  animale   \n",
       "5   Afghanistan  2017 36296113.00            Beurre, Ghee  animale   \n",
       "11  Afghanistan  2017 36296113.00                   Crème  animale   \n",
       "19  Afghanistan  2017 36296113.00  Graisses Animales Crue  animale   \n",
       "29  Afghanistan  2017 36296113.00      Lait - Excl Beurre  animale   \n",
       "\n",
       "    Aliments pour animaux  Autres Utilisations  \\\n",
       "0                    0.00                 0.00   \n",
       "5                    0.00                 0.00   \n",
       "11                   0.00                 0.00   \n",
       "19                   0.00                 0.00   \n",
       "29           123000000.00                 0.00   \n",
       "\n",
       "    Disponibilité alimentaire (Kcal/personne/jour)  \\\n",
       "0                                             5.00   \n",
       "5                                            23.00   \n",
       "11                                            3.00   \n",
       "19                                           12.00   \n",
       "29                                          100.00   \n",
       "\n",
       "    Disponibilité alimentaire en quantité (kg/personne/an)  \\\n",
       "0                                                1.72        \n",
       "5                                                1.17        \n",
       "11                                               0.60        \n",
       "19                                               0.49        \n",
       "29                                              62.23        \n",
       "\n",
       "    Disponibilité de matière grasse en quantité (g/personne/jour)  ...  \\\n",
       "0                                                0.20              ...   \n",
       "5                                                2.61              ...   \n",
       "11                                               0.32              ...   \n",
       "19                                               1.31              ...   \n",
       "29                                               5.19              ...   \n",
       "\n",
       "    Disponibilité intérieure  Exportations - Quantité  \\\n",
       "0                53000000.00                     0.00   \n",
       "5                36000000.00                     0.00   \n",
       "11               18000000.00                     0.00   \n",
       "19               15000000.00                     0.00   \n",
       "29             2083000000.00                     0.00   \n",
       "\n",
       "    Importations - Quantité    Nourriture      Pertes    Production  Semences  \\\n",
       "0                      0.00   53000000.00        0.00   53000000.00      0.00   \n",
       "5                      0.00   36000000.00        0.00   36000000.00      0.00   \n",
       "11              18000000.00   18000000.00        0.00          0.00      0.00   \n",
       "19               1000000.00   15000000.00        0.00   14000000.00      0.00   \n",
       "29             248000000.00 1901000000.00 58000000.00 1835000000.00      0.00   \n",
       "\n",
       "    Traitement  Variation de stock    dispo_kcal  \n",
       "0         0.00                0.00  181480565.00  \n",
       "5         0.00                0.00  834810599.00  \n",
       "11        0.00                0.00  108888339.00  \n",
       "19        0.00                0.00  435553356.00  \n",
       "29        0.00                0.00 3629611300.00  \n",
       "\n",
       "[5 rows x 21 columns]"
      ]
     },
     "execution_count": 84,
     "metadata": {},
     "output_type": "execute_result"
    }
   ],
   "source": [
    "# Transfert des données avec les produits animaux dans un nouveau dataframe\n",
    "animaux = pop_dispo_alimentaire.loc[pop_dispo_alimentaire['Origine']=='animale']\n",
    "animaux.head()"
   ]
  },
  {
   "cell_type": "code",
   "execution_count": 85,
   "id": "5d09e48c",
   "metadata": {},
   "outputs": [
    {
     "data": {
      "text/plain": [
       "3658220415830.0"
      ]
     },
     "execution_count": 85,
     "metadata": {},
     "output_type": "execute_result"
    }
   ],
   "source": [
    "# Calcul de la disponibilité énergétique alimentaire dans les produits animaux\n",
    "animaux['dispo_kcal'].sum() "
   ]
  },
  {
   "cell_type": "code",
   "execution_count": 86,
   "id": "9794868e",
   "metadata": {
    "tags": []
   },
   "outputs": [
    {
     "data": {
      "text/plain": [
       "1662827462"
      ]
     },
     "execution_count": 86,
     "metadata": {},
     "output_type": "execute_result"
    }
   ],
   "source": [
    "# Nombre de personnes peuvent être nourries par les aliments à l'origine d'animaux \n",
    "round(animaux['dispo_kcal'].sum()/2200)"
   ]
  },
  {
   "cell_type": "code",
   "execution_count": 87,
   "id": "23cbf543",
   "metadata": {
    "tags": []
   },
   "outputs": [
    {
     "name": "stdout",
     "output_type": "stream",
     "text": [
      "22.03%\n"
     ]
    }
   ],
   "source": [
    "# Proportion de la population nourries par les produits animaux dans la population totale\n",
    "taux_pop_nourrie_aliment_animal = (animaux['dispo_kcal'].sum()/2200)/population_2017['Population'].sum()\n",
    "print('{:.2%}'.format(taux_pop_nourrie_aliment_animal))"
   ]
  },
  {
   "cell_type": "code",
   "execution_count": 88,
   "id": "e86dbc21",
   "metadata": {},
   "outputs": [
    {
     "name": "stdout",
     "output_type": "stream",
     "text": [
      "103.94%\n"
     ]
    }
   ],
   "source": [
    "# Proportion de la population nourries par les produits vegetaux dans la population totale\n",
    "taux_pop_nourrie_aliment_vegetale = (vegetaux['dispo_kcal'].sum()/2200)/population_2017['Population'].sum()\n",
    "print('{:.2%}'.format(taux_pop_nourrie_aliment_vegetale))"
   ]
  },
  {
   "cell_type": "markdown",
   "id": "b576f45c",
   "metadata": {},
   "source": [
    "Les produits animaux peuvent nourrir 22% de la population par jour tandis que les produits végétaux peuvent nourrir environ 103.9% de population."
   ]
  },
  {
   "cell_type": "markdown",
   "id": "361301f7",
   "metadata": {},
   "source": [
    "<div style=\"border: 1px solid RGB(0,150,250);\" >\n",
    "<h3 style=\"margin: auto; padding: 20px; color: RGB(0,150,250); \">3.2 Analyse de la disponibilté alimentaire</h3>\n",
    "</div>"
   ]
  },
  {
   "cell_type": "code",
   "execution_count": 89,
   "id": "8455a9bf",
   "metadata": {},
   "outputs": [
    {
     "data": {
      "text/plain": [
       "<Axes: xlabel='Disponibilité alimentaire (Kcal/personne/jour)'>"
      ]
     },
     "execution_count": 89,
     "metadata": {},
     "output_type": "execute_result"
    },
    {
     "data": {
      "image/png": "[encoded data removed]",
      "text/plain": [
       "<Figure size 800x400 with 1 Axes>"
      ]
     },
     "metadata": {},
     "output_type": "display_data"
    }
   ],
   "source": [
    "# Affichage de la boîte à moustaches sur la disponibilté alimentaire \n",
    "plt.figure(figsize=(8,4))\n",
    "sns.set_style({'grid.color':'.8'})\n",
    "sns.boxplot(data=dispo_alimentaire_kcal_pays, \n",
    "            x='Disponibilité alimentaire (Kcal/personne/jour)', \n",
    "            showmeans=True,\n",
    "            palette='Set3',\n",
    "            meanprops={'marker':'+','markeredgecolor':'yellow'})"
   ]
  },
  {
   "cell_type": "code",
   "execution_count": 90,
   "id": "17414cbd",
   "metadata": {},
   "outputs": [
    {
     "data": {
      "text/html": [
       "<div>\n",
       "<style scoped>\n",
       "    .dataframe tbody tr th:only-of-type {\n",
       "        vertical-align: middle;\n",
       "    }\n",
       "\n",
       "    .dataframe tbody tr th {\n",
       "        vertical-align: top;\n",
       "    }\n",
       "\n",
       "    .dataframe thead th {\n",
       "        text-align: right;\n",
       "    }\n",
       "</style>\n",
       "<table border=\"1\" class=\"dataframe\">\n",
       "  <thead>\n",
       "    <tr style=\"text-align: right;\">\n",
       "      <th></th>\n",
       "      <th>Disponibilité alimentaire (Kcal/personne/jour)</th>\n",
       "    </tr>\n",
       "  </thead>\n",
       "  <tbody>\n",
       "    <tr>\n",
       "      <th>count</th>\n",
       "      <td>172.00</td>\n",
       "    </tr>\n",
       "    <tr>\n",
       "      <th>mean</th>\n",
       "      <td>2841.64</td>\n",
       "    </tr>\n",
       "    <tr>\n",
       "      <th>std</th>\n",
       "      <td>437.74</td>\n",
       "    </tr>\n",
       "    <tr>\n",
       "      <th>min</th>\n",
       "      <td>1879.00</td>\n",
       "    </tr>\n",
       "    <tr>\n",
       "      <th>25%</th>\n",
       "      <td>2523.25</td>\n",
       "    </tr>\n",
       "    <tr>\n",
       "      <th>50%</th>\n",
       "      <td>2827.00</td>\n",
       "    </tr>\n",
       "    <tr>\n",
       "      <th>75%</th>\n",
       "      <td>3174.75</td>\n",
       "    </tr>\n",
       "    <tr>\n",
       "      <th>max</th>\n",
       "      <td>3770.00</td>\n",
       "    </tr>\n",
       "  </tbody>\n",
       "</table>\n",
       "</div>"
      ],
      "text/plain": [
       "       Disponibilité alimentaire (Kcal/personne/jour)\n",
       "count                                          172.00\n",
       "mean                                          2841.64\n",
       "std                                            437.74\n",
       "min                                           1879.00\n",
       "25%                                           2523.25\n",
       "50%                                           2827.00\n",
       "75%                                           3174.75\n",
       "max                                           3770.00"
      ]
     },
     "execution_count": 90,
     "metadata": {},
     "output_type": "execute_result"
    }
   ],
   "source": [
    "dispo_alimentaire_kcal_pays.describe()"
   ]
  },
  {
   "cell_type": "markdown",
   "id": "61efa853",
   "metadata": {},
   "source": [
    "D'après la boîte à moustaches, on peut voir qu'il n'y a pas de valeur abberante et que la distribution des données est quasi-symétrique. Il y a 50% de pays dont la disponibilité alimentaire se trouve en dessous de 2800 kcal/personne/jour, et 25% de pays sont en dessous de 2500 kcal/personne/jour. Les valeurs minimale et maximale ont un décalage que l'on ne peut pas ignorer.On peut voir qu'il y a quand même des pays dont leur disponibilité alimentaire sont en dessous de 2200kcal/personne/jour."
   ]
  },
  {
   "cell_type": "code",
   "execution_count": 91,
   "id": "c04b9015",
   "metadata": {},
   "outputs": [
    {
     "name": "stdout",
     "output_type": "stream",
     "text": [
      "15.4%\n"
     ]
    }
   ],
   "source": [
    "# Calcul du coefficient de variation \n",
    "coefficient_variation = dispo_alimentaire_kcal_pays['Disponibilité alimentaire (Kcal/personne/jour)'].std() / dispo_alimentaire_kcal_pays['Disponibilité alimentaire (Kcal/personne/jour)'].mean()\n",
    "print('{:.1%}'.format(coefficient_variation))"
   ]
  },
  {
   "cell_type": "markdown",
   "id": "44af851d",
   "metadata": {},
   "source": [
    "En regardant le coefficient de variation (15.4%), on peut dire que l'ensemble de données a une dispersion assez modérée, c'est-à-dire que les valeurs varient autour de la moyenne (2841.64 kcal/personne/jour), et elles sont relativement homogènes."
   ]
  }
 ],
 "metadata": {
  "kernelspec": {
   "display_name": "Python 3 (ipykernel)",
   "language": "python",
   "name": "python3"
  },
  "language_info": {
   "codemirror_mode": {
    "name": "ipython",
    "version": 3
   },
   "file_extension": ".py",
   "mimetype": "text/x-python",
   "name": "python",
   "nbconvert_exporter": "python",
   "pygments_lexer": "ipython3",
   "version": "3.11.5"
  }
 },
 "nbformat": 4,
 "nbformat_minor": 5
}
